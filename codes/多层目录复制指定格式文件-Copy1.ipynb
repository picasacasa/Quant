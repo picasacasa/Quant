{
 "cells": [
  {
   "cell_type": "code",
   "execution_count": 1,
   "metadata": {
    "collapsed": true
   },
   "outputs": [],
   "source": [
    "import os.path\n",
    "import shutil\n",
    "import copy"
   ]
  },
  {
   "cell_type": "code",
   "execution_count": 2,
   "metadata": {
    "collapsed": false
   },
   "outputs": [
    {
     "data": {
      "text/plain": [
       "375"
      ]
     },
     "execution_count": 2,
     "metadata": {},
     "output_type": "execute_result"
    }
   ],
   "source": [
    "wyyyy = os.listdir('/media/wangshi/UsbStorage/music/网易云音乐')\n",
    "len(wyyyy)"
   ]
  },
  {
   "cell_type": "code",
   "execution_count": 3,
   "metadata": {
    "collapsed": false
   },
   "outputs": [
    {
     "data": {
      "text/plain": [
       "375"
      ]
     },
     "execution_count": 3,
     "metadata": {},
     "output_type": "execute_result"
    }
   ],
   "source": [
    "music1 = []\n",
    "for i in wyyyy:\n",
    "    music1.append('/media/wangshi/UsbStorage/music/网易云音乐/' + i + '/')\n",
    "music1[0:10]\n",
    "len(music1)"
   ]
  },
  {
   "cell_type": "code",
   "execution_count": 4,
   "metadata": {
    "collapsed": false
   },
   "outputs": [
    {
     "data": {
      "text/plain": [
       "375"
      ]
     },
     "execution_count": 4,
     "metadata": {},
     "output_type": "execute_result"
    }
   ],
   "source": [
    "music2 = []\n",
    "for i in music1:\n",
    "    music2.append(os.listdir(i))\n",
    "music2[0:10]\n",
    "len(music2)"
   ]
  },
  {
   "cell_type": "code",
   "execution_count": 5,
   "metadata": {
    "collapsed": false
   },
   "outputs": [
    {
     "data": {
      "text/plain": [
       "543"
      ]
     },
     "execution_count": 5,
     "metadata": {},
     "output_type": "execute_result"
    }
   ],
   "source": [
    "music3 = []\n",
    "for i in range(0, len(music1)-1):\n",
    "    for j in music2[i]:\n",
    "        music3.append(music1[i] + j) ####################################\n",
    "music3[0:10]\n",
    "len(music3)"
   ]
  },
  {
   "cell_type": "code",
   "execution_count": 6,
   "metadata": {
    "collapsed": false
   },
   "outputs": [
    {
     "name": "stdout",
     "output_type": "stream",
     "text": [
      "318\n",
      "225\n"
     ]
    }
   ],
   "source": [
    "music4 = copy.copy(music3)\n",
    "music5 = copy.copy(music3)\n",
    "for i in range(len(music4)-1, -1, -1):\n",
    "    if music4[i][-4:] != '.mp3':\n",
    "        del music4[i]\n",
    "for i in range(len(music5)-1, -1, -1):\n",
    "    if music5[i][-4:] == '.mp3':\n",
    "        del music5[i]\n",
    "music5[0:10]\n",
    "\n",
    "print (len(music4))\n",
    "\n",
    "print (len(music5))"
   ]
  },
  {
   "cell_type": "code",
   "execution_count": 7,
   "metadata": {
    "collapsed": false
   },
   "outputs": [
    {
     "data": {
      "text/plain": [
       "225"
      ]
     },
     "execution_count": 7,
     "metadata": {},
     "output_type": "execute_result"
    }
   ],
   "source": [
    "music6 = []\n",
    "for i in music5:\n",
    "    music6.append(os.listdir(i))\n",
    "music6[0:10]\n",
    "len(music6)"
   ]
  },
  {
   "cell_type": "code",
   "execution_count": 8,
   "metadata": {
    "collapsed": false
   },
   "outputs": [],
   "source": [
    "music7 = [] #\n",
    "for i in range(0, len(music5)-1):\n",
    "    for j in music6[i]:\n",
    "        music7.append(music5[i] + '/' + j)"
   ]
  },
  {
   "cell_type": "code",
   "execution_count": 9,
   "metadata": {
    "collapsed": false
   },
   "outputs": [
    {
     "data": {
      "text/plain": [
       "545"
      ]
     },
     "execution_count": 9,
     "metadata": {},
     "output_type": "execute_result"
    }
   ],
   "source": [
    "music8 = music4 + music7\n",
    "len(music8)"
   ]
  },
  {
   "cell_type": "code",
   "execution_count": 10,
   "metadata": {
    "collapsed": false
   },
   "outputs": [],
   "source": [
    "for i in music8:\n",
    "    shutil.copy(i, '/home/wangshi/音乐')"
   ]
  }
 ],
 "metadata": {
  "kernelspec": {
   "display_name": "Python 3",
   "language": "python",
   "name": "python3"
  },
  "language_info": {
   "codemirror_mode": {
    "name": "ipython",
    "version": 3
   },
   "file_extension": ".py",
   "mimetype": "text/x-python",
   "name": "python",
   "nbconvert_exporter": "python",
   "pygments_lexer": "ipython3",
   "version": "3.5.1"
  }
 },
 "nbformat": 4,
 "nbformat_minor": 0
}
