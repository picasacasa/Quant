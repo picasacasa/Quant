{
 "cells": [
  {
   "cell_type": "code",
   "execution_count": 1,
   "metadata": {
    "collapsed": false
   },
   "outputs": [
    {
     "name": "stdout",
     "output_type": "stream",
     "text": [
      "/home/wangshi/下载\n"
     ]
    }
   ],
   "source": [
    "cd /home/wangshi/下载"
   ]
  },
  {
   "cell_type": "code",
   "execution_count": 2,
   "metadata": {
    "collapsed": false
   },
   "outputs": [],
   "source": [
    "import pandas as pd\n",
    "#import chardet"
   ]
  },
  {
   "cell_type": "code",
   "execution_count": 3,
   "metadata": {
    "collapsed": false
   },
   "outputs": [],
   "source": [
    "#以gbk格式打开数据源文件\n",
    "f = open('9010', 'rt', encoding='gbk')"
   ]
  },
  {
   "cell_type": "code",
   "execution_count": 4,
   "metadata": {
    "collapsed": false
   },
   "outputs": [
    {
     "name": "stdout",
     "output_type": "stream",
     "text": [
      "导出数据成功\n"
     ]
    }
   ],
   "source": [
    "#处理冗余数据\n",
    "data = []\n",
    "for i in f.readlines():\n",
    "    if i[0:3] == '  1':\n",
    "        if ': 同业' in i:\n",
    "            data.append(i.replace(',', '').replace(': 同业',':同业').strip('\\n')[2::].split())\n",
    "        elif ': 中行' in i:\n",
    "            data.append(i.replace(',', '').replace(': 中行',':中行').strip('\\n')[2::].split())\n",
    "        else:\n",
    "            data.append(i.replace(',', '').strip('\\n')[2::].split())\n",
    "    elif i[0:3] == '  项':\n",
    "        data.append(i.replace('项目号    项目名称','项目号 货币 项目名称 项目小类').strip('\\n')[2::].split())\n",
    "    else:\n",
    "        pass\n",
    "print('导出数据成功')"
   ]
  },
  {
   "cell_type": "code",
   "execution_count": 5,
   "metadata": {
    "collapsed": false
   },
   "outputs": [],
   "source": [
    "#构建新的DataFrame\n",
    "dataf = pd.DataFrame(data[1::], columns=data[0]) "
   ]
  },
  {
   "cell_type": "code",
   "execution_count": 6,
   "metadata": {
    "collapsed": false
   },
   "outputs": [],
   "source": [
    "#设置项目号为index\n",
    "dataf = dataf.set_index('项目号')"
   ]
  },
  {
   "cell_type": "code",
   "execution_count": 7,
   "metadata": {
    "collapsed": false
   },
   "outputs": [],
   "source": [
    "# dataf['项目名称'].value_counts('贷款余额')"
   ]
  },
  {
   "cell_type": "code",
   "execution_count": 8,
   "metadata": {
    "collapsed": false
   },
   "outputs": [
    {
     "name": "stdout",
     "output_type": "stream",
     "text": [
      "一手房\t22487.77\n",
      "二手房\t6413.06\n",
      "国家助学\t1309.78\n",
      "信用循环\t1046.8\n",
      "押品循环\t572.93\n",
      "投资经营\t2974.93\n",
      "公积金\t683.08\n",
      "总额(含公积金)\t348053369.82\n",
      "总额(不含公积金)\t342323982.78\n"
     ]
    }
   ],
   "source": [
    "#汇总数据\n",
    "yishou_fang = 0\n",
    "ershou_fang = 0\n",
    "guojia_zhuxue = 0\n",
    "xinyong_xunhuan = 0\n",
    "getou = 0\n",
    "gedi = 0\n",
    "zhufang_weituo = 0\n",
    "for i in range(0, len(dataf)-1):\n",
    "    if dataf['项目名称'][i][0:2] == '一手':\n",
    "        yishou_fang += float(dataf['贷款余额'][i])\n",
    "    elif dataf['项目名称'][i][0:2] == '二手':\n",
    "        ershou_fang += float(dataf['贷款余额'][i])\n",
    "    elif dataf['项目名称'][i] == '国家助学':\n",
    "        guojia_zhuxue += float(dataf['贷款余额'][i])\n",
    "    elif dataf['项目名称'][i][0:2] == '信用':\n",
    "        xinyong_xunhuan += float(dataf['贷款余额'][i])\n",
    "    elif dataf['项目名称'][i][0:2] == '押品':\n",
    "        gedi += float(dataf['贷款余额'][i])\n",
    "    elif dataf['项目名称'][i][0:2] == '投资':\n",
    "        getou += float(dataf['贷款余额'][i])\n",
    "    elif dataf['项目名称'][i] == '住房委托':\n",
    "        zhufang_weituo += float(dataf['贷款余额'][i])\n",
    "    else:\n",
    "        pass\n",
    "print('一手房\\t' + str(round(yishou_fang/10000,2)))\n",
    "print('二手房\\t' + str(round(ershou_fang/10000,2)))\n",
    "print('国家助学\\t' + str(round(guojia_zhuxue/10000,2)))\n",
    "print('信用循环\\t' + str(round(xinyong_xunhuan/10000,2)))\n",
    "print('押品循环\\t' + str(round(gedi/10000,2)))\n",
    "print('投资经营\\t' + str(round(getou/10000,2)))\n",
    "print('公积金\\t' + str(round(zhufang_weituo/10000,2)))\n",
    "print('总额(含公积金)\\t' + str(round(yishou_fang + ershou_fang + guojia_zhuxue + xinyong_xunhuan + getou + gedi + zhufang_weituo/10000,2)))\n",
    "print('总额(不含公积金)\\t' + str(round(yishou_fang + ershou_fang + guojia_zhuxue + xinyong_xunhuan + getou + gedi/10000,2)))\n",
    "\n",
    "    "
   ]
  }
 ],
 "metadata": {
  "kernelspec": {
   "display_name": "Python 3",
   "language": "python",
   "name": "python3"
  },
  "language_info": {
   "codemirror_mode": {
    "name": "ipython",
    "version": 3
   },
   "file_extension": ".py",
   "mimetype": "text/x-python",
   "name": "python",
   "nbconvert_exporter": "python",
   "pygments_lexer": "ipython3",
   "version": "3.5.1"
  }
 },
 "nbformat": 4,
 "nbformat_minor": 0
}
