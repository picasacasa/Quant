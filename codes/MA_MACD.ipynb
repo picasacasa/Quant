{
 "cells": [
  {
   "cell_type": "code",
   "execution_count": 1,
   "metadata": {
    "collapsed": true
   },
   "outputs": [],
   "source": [
    "import numpy\n",
    "import pandas as pd\n",
    "import math as m"
   ]
  },
  {
   "cell_type": "code",
   "execution_count": 2,
   "metadata": {
    "collapsed": false
   },
   "outputs": [],
   "source": [
    "#Moving Average\n",
    "def MA(df, n):\n",
    "    MA = pd.Series(pd.rollingmean(df['Close'], n), name = 'MA' + str(n))\n",
    "    df = df.join(MA)\n",
    "    return df"
   ]
  },
  {
   "cell_type": "code",
   "execution_count": 3,
   "metadata": {
    "collapsed": false
   },
   "outputs": [],
   "source": [
    "#Exponential Moving Average\n",
    "def EMA(df, n):\n",
    "    EMA = pd.Series(pd.ewma(df['Close'], span = n, minperiods = n - 1), name = 'EMA' + str(n))\n",
    "    df = df.join(EMA)\n",
    "    return df"
   ]
  },
  {
   "cell_type": "code",
   "execution_count": 4,
   "metadata": {
    "collapsed": true
   },
   "outputs": [],
   "source": [
    "#Momentum\n",
    "def MOM(df, n):\n",
    "    M = pd.Series(df['Close'].diff(n), name = 'Momentum_' + str(n))\n",
    "    df = df.join(M)\n",
    "    return df"
   ]
  },
  {
   "cell_type": "code",
   "execution_count": 5,
   "metadata": {
    "collapsed": true
   },
   "outputs": [],
   "source": [
    "#Rate of Change\n",
    "def ROC(df, n):\n",
    "    M = df['Close'].diff(n - 1)\n",
    "    N = df['Close'].shift(n - 1)\n",
    "    ROC = pd.Series(M / N, name = 'ROC_' + str(n))\n",
    "    df = df.join(ROC)\n",
    "    return df"
   ]
  },
  {
   "cell_type": "code",
   "execution_count": 6,
   "metadata": {
    "collapsed": false
   },
   "outputs": [],
   "source": [
    "#Average True Range\n",
    "def ATR(df, n):\n",
    "    i = 0\n",
    "    TR_l = [0]\n",
    "    while i < df.index[-1]:\n",
    "        TR = max(df.get_value(i + 1, 'High'), df.get_value(i, 'Close')) - min(df.get_value(i + 1, 'Low'), df.get_value(i, 'Close'))\n",
    "        TR_l.append(TR)\n",
    "        i = i + 1\n",
    "        TR_s = pd.Series(TR_l)\n",
    "        ATR = pd.Series(pd.ewma(TR_s, span = n, minperiods = n), name = 'ATR' + str(n))\n",
    "        df = df.join(ATR)\n",
    "    return df"
   ]
  },
  {
   "cell_type": "code",
   "execution_count": 7,
   "metadata": {
    "collapsed": false
   },
   "outputs": [],
   "source": [
    "#Bollinger Bands\n",
    "def BBANDS(df, n):\n",
    "    MA = pd.Series(pd.rolling_mean(df['Close'], n))\n",
    "    MSD = pd.Series(pd.rollingstd(df['Close'], n))\n",
    "    b1 = 4 * MSD / MA\n",
    "    B1 = pd.Series(b1, name = 'BollingerB' + str(n))\n",
    "    df = df.join(B1)\n",
    "    #b2 = (df['Close'] - MA + 2 MSD) / (4 MSD)\n",
    "    B2 = pd.Series(b2, name = 'Bollinger%b_' + str(n))\n",
    "    df = df.join(B2)\n",
    "    return df"
   ]
  },
  {
   "cell_type": "code",
   "execution_count": 8,
   "metadata": {
    "collapsed": false
   },
   "outputs": [],
   "source": [
    "#Pivot Points, Supports and Resistances\n",
    "def PPSR(df):\n",
    "    PP = pd.Series((df['High'] + df['Low'] + df['Close']) / 3)\n",
    "    #R1 = pd.Series(2 PP - df['Low'])\n",
    "    #S1 = pd.Series(2 PP - df['High'])\n",
    "    R2 = pd.Series(PP + df['High'] - df['Low'])\n",
    "    S2 = pd.Series(PP - df['High'] + df['Low'])\n",
    "    #R3 = pd.Series(df['High'] + 2 (PP - df['Low']))\n",
    "    #S3 = pd.Series(df['Low'] - 2 (df['High'] - PP))\n",
    "    psr = {'PP':PP, 'R1':R1, 'S1':S1, 'R2':R2, 'S2':S2, 'R3':R3, 'S3':S3}\n",
    "    PSR = pd.DataFrame(psr)\n",
    "    df = df.join(PSR)\n",
    "    return df"
   ]
  },
  {
   "cell_type": "code",
   "execution_count": 9,
   "metadata": {
    "collapsed": true
   },
   "outputs": [],
   "source": [
    "#Stochastic oscillator %K\n",
    "def STOK(df):\n",
    "    SOk = pd.Series((df['Close'] - df['Low']) / (df['High'] - df['Low']), name = 'SO%k')\n",
    "    df = df.join(SOk)\n",
    "    return df"
   ]
  },
  {
   "cell_type": "code",
   "execution_count": 10,
   "metadata": {
    "collapsed": true
   },
   "outputs": [],
   "source": [
    "#Stochastic oscillator %D\n",
    "def STO(df, n):\n",
    "    SOk = pd.Series((df['Close'] - df['Low']) / (df['High'] - df['Low']), name = 'SO%k')\n",
    "    SOd = pd.Series(pd.ewma(SOk, span = n, minperiods = n - 1), name = 'SO%d' + str(n))\n",
    "    df = df.join(SOd)\n",
    "    return df"
   ]
  },
  {
   "cell_type": "code",
   "execution_count": 11,
   "metadata": {
    "collapsed": true
   },
   "outputs": [],
   "source": [
    "#Trix\n",
    "def TRIX(df, n):\n",
    "    EX1 = pd.ewma(df['Close'], span = n, min_periods = n - 1)\n",
    "    EX2 = pd.ewma(EX1, span = n, min_periods = n - 1)\n",
    "    EX3 = pd.ewma(EX2, span = n, min_periods = n - 1)\n",
    "    i = 0\n",
    "    ROC_l = [0]\n",
    "    while i + 1 <= df.index[-1]:\n",
    "        ROC = (EX3[i + 1] - EX3[i]) / EX3[i]\n",
    "        ROC_l.append(ROC)\n",
    "        i = i + 1\n",
    "        Trix = pd.Series(ROCl, name = 'Trix' + str(n))\n",
    "        df = df.join(Trix)\n",
    "    return df"
   ]
  },
  {
   "cell_type": "code",
   "execution_count": 12,
   "metadata": {
    "collapsed": false
   },
   "outputs": [],
   "source": [
    "#Average Directional Movement Index\n",
    "def ADX(df, n, n_ADX):\n",
    "    i = 0\n",
    "    UpI = []\n",
    "    DoI = []\n",
    "    while i + 1 <= df.index[-1]:\n",
    "        UpMove = df.get_value(i + 1, 'High') - df.get_value(i, 'High')\n",
    "        DoMove = df.get_value(i, 'Low') - df.get_value(i + 1, 'Low')\n",
    "    if UpMove > DoMove and UpMove > 0:\n",
    "        UpD = UpMove\n",
    "    else:\n",
    "        UpD = 0\n",
    "        UpI.append(UpD)\n",
    "    if DoMove > UpMove and DoMove > 0:\n",
    "        DoD = DoMove\n",
    "    else:\n",
    "        DoD = 0\n",
    "    DoI.append(DoD)\n",
    "    i = i + 1\n",
    "    i = 0\n",
    "    TR_l = [0]\n",
    "    while i < df.index[-1]:\n",
    "        TR = max(df.get_value(i + 1, 'High'), df.get_value(i, 'Close')) - min(df.get_value(i + 1, 'Low'), df.get_value(i, 'Close'))\n",
    "        TR_l.append(TR)\n",
    "        i = i + 1\n",
    "        TR_s = pd.Series(TR_l)\n",
    "        ATR = pd.Series(pd.ewma(TR_s, span = n, min_periods = n))\n",
    "        UpI = pd.Series(UpI)\n",
    "        DoI = pd.Series(DoI)\n",
    "        PosDI = pd.Series(pd.ewma(UpI, span = n, min_periods = n - 1) / ATR)\n",
    "        NegDI = pd.Series(pd.ewma(DoI, span = n, min_periods = n - 1) / ATR)\n",
    "        ADX = pd.Series(pd.ewma(abs(PosDI - NegDI) / (PosDI + NegDI), span = n_ADX, min_periods = nADX - 1), name = 'ADX' + str(n) + '_' + str(n_ADX))\n",
    "        df = df.join(ADX)\n",
    "    return df"
   ]
  },
  {
   "cell_type": "code",
   "execution_count": 13,
   "metadata": {
    "collapsed": true
   },
   "outputs": [],
   "source": [
    "#MACD, MACD Signal and MACD difference\n",
    "def MACD(df, n_fast, n_slow):\n",
    "    EMAfast = pd.Series(pd.ewma(df['Close'], span = n_fast, min_periods = n_slow - 1))\n",
    "    EMAslow = pd.Series(pd.ewma(df['Close'], span = n_slow, min_periods = nslow - 1))\n",
    "    MACD = pd.Series(EMAfast - EMAslow, name = 'MACD' + str(nfast) + '' + str(n_slow))\n",
    "    MACDsign = pd.Series(pd.ewma(MACD, span = 9, minperiods = 8), name = 'MACDsign' + str(nfast) + '' + str(nslow))\n",
    "    MACDdiff = pd.Series(MACD - MACDsign, name = 'MACDdiff' + str(nfast) + '' + str(n_slow))\n",
    "    df = df.join(MACD)\n",
    "    df = df.join(MACDsign)\n",
    "    df = df.join(MACDdiff)\n",
    "    return df"
   ]
  },
  {
   "cell_type": "code",
   "execution_count": 14,
   "metadata": {
    "collapsed": true
   },
   "outputs": [],
   "source": [
    "#Mass Index\n",
    "def MassI(df):\n",
    "    Range = df['High'] - df['Low']\n",
    "    EX1 = pd.ewma(Range, span = 9, min_periods = 8)\n",
    "    EX2 = pd.ewma(EX1, span = 9, min_periods = 8)\n",
    "    Mass = EX1 / EX2\n",
    "    MassI = pd.Series(pd.rolling_sum(Mass, 25), name = 'Mass Index')\n",
    "    df = df.join(MassI)\n",
    "    return df"
   ]
  },
  {
   "cell_type": "code",
   "execution_count": 15,
   "metadata": {
    "collapsed": true
   },
   "outputs": [],
   "source": [
    "#Vortex Indicator: http://www.vortexindicator.com/VFX_VORTEX.PDF\n",
    "def Vortex(df, n):\n",
    "    i = 0\n",
    "    TR = [0]\n",
    "    while i < df.index[-1]:\n",
    "        Range = max(df.get_value(i + 1, 'High'), df.get_value(i, 'Close')) - min(df.get_value(i + 1, 'Low'), df.get_value(i, 'Close'))\n",
    "        TR.append(Range)\n",
    "        i = i + 1\n",
    "        i = 0\n",
    "        VM = [0]\n",
    "    while i < df.index[-1]:\n",
    "        Range = abs(df.get_value(i + 1, 'High') - df.get_value(i, 'Low')) - abs(df.get_value(i + 1, 'Low') - df.get_value(i, 'High'))\n",
    "        VM.append(Range)\n",
    "        i = i + 1\n",
    "        VI = pd.Series(pd.rolling_sum(pd.Series(VM), n) / pd.rollingsum(pd.Series(TR), n), name = 'Vortex' + str(n))\n",
    "        df = df.join(VI)\n",
    "    return df"
   ]
  },
  {
   "cell_type": "code",
   "execution_count": 16,
   "metadata": {
    "collapsed": false
   },
   "outputs": [],
   "source": [
    "#KST Oscillator\n",
    "def KST(df, r1, r2, r3, r4, n1, n2, n3, n4):\n",
    "    M = df['Close'].diff(r1 - 1)\n",
    "    N = df['Close'].shift(r1 - 1)\n",
    "    ROC1 = M / N\n",
    "    M = df['Close'].diff(r2 - 1)\n",
    "    N = df['Close'].shift(r2 - 1)\n",
    "    ROC2 = M / N\n",
    "    M = df['Close'].diff(r3 - 1)\n",
    "    N = df['Close'].shift(r3 - 1)\n",
    "    ROC3 = M / N\n",
    "    M = df['Close'].diff(r4 - 1)\n",
    "    N = df['Close'].shift(r4 - 1)\n",
    "    ROC4 = M / N\n",
    "    # KST = pd.Series(pd.rolling_sum(ROC1, n1) + pd.rolling_sum(ROC2, n2) 2 + pd.rolling_sum(ROC3, n3) 3 + pd.rollingsum(ROC4, n4) * 4\n",
    "    name = 'KST' + str(r1) + '' + str(r2) + '' + str(r3) + '' + str(r4) + '' + str(n1) + '' + str(n2) + '' + str(n3) + '_' + str(n4)\n",
    "    df = df.join(KST)\n",
    "    return df"
   ]
  },
  {
   "cell_type": "code",
   "execution_count": 17,
   "metadata": {
    "collapsed": false
   },
   "outputs": [],
   "source": [
    "#Relative Strength Index\n",
    "def RSI(df, n):\n",
    "    i = 0\n",
    "    UpI = [0]\n",
    "    DoI = [0]\n",
    "    while i + 1 <= df.index[-1]:\n",
    "        UpMove = df.get_value(i + 1, 'High') - df.get_value(i, 'High')\n",
    "        DoMove = df.get_value(i, 'Low') - df.get_value(i + 1, 'Low')\n",
    "    if UpMove > DoMove and UpMove > 0:\n",
    "        UpD = UpMove\n",
    "    else:\n",
    "        UpD = 0\n",
    "        UpI.append(UpD)\n",
    "    if DoMove > UpMove and DoMove > 0:\n",
    "        DoD = DoMove\n",
    "    else:\n",
    "        DoD = 0\n",
    "        DoI.append(DoD)\n",
    "        i = i + 1\n",
    "        UpI = pd.Series(UpI)\n",
    "        DoI = pd.Series(DoI)\n",
    "        PosDI = pd.Series(pd.ewma(UpI, span = n, min_periods = n - 1))\n",
    "        NegDI = pd.Series(pd.ewma(DoI, span = n, minperiods = n - 1))\n",
    "        RSI = pd.Series(PosDI / (PosDI + NegDI), name = 'RSI' + str(n))\n",
    "        df = df.join(RSI)\n",
    "    return df"
   ]
  },
  {
   "cell_type": "code",
   "execution_count": 18,
   "metadata": {
    "collapsed": true
   },
   "outputs": [],
   "source": [
    "#True Strength Index\n",
    "def TSI(df, r, s):\n",
    "    M = pd.Series(df['Close'].diff(1))\n",
    "    aM = abs(M)\n",
    "    EMA1 = pd.Series(pd.ewma(M, span = r, min_periods = r - 1))\n",
    "    aEMA1 = pd.Series(pd.ewma(aM, span = r, min_periods = r - 1))\n",
    "    EMA2 = pd.Series(pd.ewma(EMA1, span = s, min_periods = s - 1))\n",
    "    aEMA2 = pd.Series(pd.ewma(aEMA1, span = s, minperiods = s - 1))\n",
    "    TSI = pd.Series(EMA2 / aEMA2, name = 'TSI' + str(r) + '_' + str(s))\n",
    "    df = df.join(TSI)\n",
    "    return df"
   ]
  },
  {
   "cell_type": "code",
   "execution_count": 20,
   "metadata": {
    "collapsed": false
   },
   "outputs": [],
   "source": [
    "#Accumulation/Distribution\n",
    "def ACCDIST(df, n):\n",
    "    # ad = (2 df['Close'] - df['High'] - df['Low']) / (df['High'] - df['Low']) df['Volume']\n",
    "    M = ad.diff(n - 1)\n",
    "    N = ad.shift(n - 1)\n",
    "    ROC = M / N\n",
    "    AD = pd.Series(ROC, name = 'Acc/DistROC' + str(n))\n",
    "    df = df.join(AD)\n",
    "    return df"
   ]
  },
  {
   "cell_type": "code",
   "execution_count": 22,
   "metadata": {
    "collapsed": false
   },
   "outputs": [],
   "source": [
    "#Chaikin Oscillator\n",
    "def Chaikin(df):\n",
    "    # ad = (2 df['Close'] - df['High'] - df['Low']) / (df['High'] - df['Low']) df['Volume']\n",
    "    Chaikin = pd.Series(pd.ewma(ad, span = 3, min_periods = 2) - pd.ewma(ad, span = 10, min_periods = 9), name = 'Chaikin')\n",
    "    df = df.join(Chaikin)\n",
    "    return df"
   ]
  },
  {
   "cell_type": "code",
   "execution_count": 25,
   "metadata": {
    "collapsed": false
   },
   "outputs": [],
   "source": [
    "#Money Flow Index and Ratio\n",
    "def MFI(df, n):\n",
    "    PP = (df['High'] + df['Low'] + df['Close']) / 3\n",
    "    i = 0\n",
    "    PosMF = [0]\n",
    "    while i < df.index[-1]:\n",
    "        if PP[i + 1] > PP[i]:\n",
    "            #PosMF.append(PP[i + 1] df.get_value(i + 1, 'Volume'))\n",
    "        #else:\n",
    "            PosMF.append(0)\n",
    "            i = i + 1\n",
    "    PosMF = pd.Series(PosMF)\n",
    "    # TotMF = PP df['Volume']\n",
    "    MFR = pd.Series(PosMF / TotMF)\n",
    "    MFI = pd.Series(pd.rollingmean(MFR, n), name = 'MFI' + str(n))\n",
    "    df = df.join(MFI)\n",
    "    return df"
   ]
  },
  {
   "cell_type": "code",
   "execution_count": 26,
   "metadata": {
    "collapsed": true
   },
   "outputs": [],
   "source": [
    "#On-balance Volume\n",
    "def OBV(df, n):\n",
    "    i = 0\n",
    "    OBV = [0]\n",
    "    while i < df.index[-1]:\n",
    "        if df.get_value(i + 1, 'Close') - df.get_value(i, 'Close') > 0:\n",
    "            OBV.append(df.get_value(i + 1, 'Volume'))\n",
    "        if df.get_value(i + 1, 'Close') - df.get_value(i, 'Close') == 0:\n",
    "            OBV.append(0)\n",
    "        if df.get_value(i + 1, 'Close') - df.get_value(i, 'Close') < 0:\n",
    "            OBV.append(-df.get_value(i + 1, 'Volume'))\n",
    "        i = i + 1\n",
    "        OBV = pd.Series(OBV)\n",
    "        OBV_ma = pd.Series(pd.rollingmean(OBV, n), name = 'OBV' + str(n))\n",
    "        df = df.join(OBV_ma)\n",
    "    return df"
   ]
  },
  {
   "cell_type": "code",
   "execution_count": 27,
   "metadata": {
    "collapsed": false
   },
   "outputs": [],
   "source": [
    "#Force Index\n",
    "def FORCE(df, n):\n",
    "    F = pd.Series(df['Close'].diff(n) * df['Volume'].diff(n), name = 'Force_' + str(n))\n",
    "    df = df.join(F)\n",
    "    return df"
   ]
  },
  {
   "cell_type": "code",
   "execution_count": 30,
   "metadata": {
    "collapsed": false
   },
   "outputs": [],
   "source": [
    "#Ease of Movement\n",
    "def EOM(df, n):\n",
    "    #EoM = (df['High'].diff(1) + df['Low'].diff(1)) (df['High'] - df['Low']) / (2 df['Volume'])\n",
    "    Eom_ma = pd.Series(pd.rollingmean(EoM, n), name = 'EoM' + str(n))\n",
    "    df = df.join(Eom_ma)\n",
    "    return df"
   ]
  },
  {
   "cell_type": "code",
   "execution_count": 31,
   "metadata": {
    "collapsed": true
   },
   "outputs": [],
   "source": [
    "#Commodity Channel Index\n",
    "def CCI(df, n):\n",
    "    PP = (df['High'] + df['Low'] + df['Close']) / 3\n",
    "    CCI = pd.Series((PP - pd.rolling_mean(PP, n)) / pd.rollingstd(PP, n), name = 'CCI' + str(n))\n",
    "    df = df.join(CCI)\n",
    "    return df"
   ]
  },
  {
   "cell_type": "code",
   "execution_count": 33,
   "metadata": {
    "collapsed": false
   },
   "outputs": [],
   "source": [
    "#Coppock Curve\n",
    "def COPP(df, n):\n",
    "    #M = df['Close'].diff(int(n 11 / 10) - 1)\n",
    "    #N = df['Close'].shift(int(n 11 / 10) - 1)\n",
    "    ROC1 = M / N\n",
    "    #M = df['Close'].diff(int(n 14 / 10) - 1)\n",
    "    #N = df['Close'].shift(int(n 14 / 10) - 1)\n",
    "    ROC2 = M / N\n",
    "    Copp = pd.Series(pd.ewma(ROC1 + ROC2, span = n, minperiods = n), name = 'Copp' + str(n))\n",
    "    df = df.join(Copp)\n",
    "    return df"
   ]
  },
  {
   "cell_type": "code",
   "execution_count": 34,
   "metadata": {
    "collapsed": false
   },
   "outputs": [
    {
     "ename": "SyntaxError",
     "evalue": "invalid syntax (<ipython-input-34-d011b2fac714>, line 4)",
     "output_type": "error",
     "traceback": [
      "\u001b[0;36m  File \u001b[0;32m\"<ipython-input-34-d011b2fac714>\"\u001b[0;36m, line \u001b[0;32m4\u001b[0m\n\u001b[0;31m    KelChU = pd.Series(pd.rollingmean((4 df['High'] - 2 df['Low'] + df['Close']) / 3, n), name = 'KelChU' + str(n))\u001b[0m\n\u001b[0m                                          ^\u001b[0m\n\u001b[0;31mSyntaxError\u001b[0m\u001b[0;31m:\u001b[0m invalid syntax\n"
     ]
    }
   ],
   "source": [
    "#Keltner Channel\n",
    "def KELCH(df, n):\n",
    "    KelChM = pd.Series(pd.rollingmean((df['High'] + df['Low'] + df['Close']) / 3, n), name = 'KelChM' + str(n))\n",
    "    KelChU = pd.Series(pd.rollingmean((4 df['High'] - 2 df['Low'] + df['Close']) / 3, n), name = 'KelChU' + str(n))\n",
    "    KelChD = pd.Series(pd.rollingmean((-2 df['High'] + 4 df['Low'] + df['Close']) / 3, n), name = 'KelChD' + str(n))\n",
    "    df = df.join(KelChM)\n",
    "    df = df.join(KelChU)\n",
    "    df = df.join(KelChD)\n",
    "    return df"
   ]
  },
  {
   "cell_type": "code",
   "execution_count": 36,
   "metadata": {
    "collapsed": false
   },
   "outputs": [],
   "source": [
    "#Ultimate Oscillator\n",
    "def ULTOSC(df):\n",
    "    i = 0\n",
    "    TR_l = [0]\n",
    "    BP_l = [0]\n",
    "    while i < df.index[-1]:\n",
    "        TR = max(df.get_value(i + 1, 'High'), df.get_value(i, 'Close')) - min(df.get_value(i + 1, 'Low'), df.get_value(i, 'Close'))\n",
    "        TR_l.append(TR)\n",
    "        BP = df.get_value(i + 1, 'Close') - min(df.get_value(i + 1, 'Low'), df.get_value(i, 'Close'))\n",
    "        BP_l.append(BP)\n",
    "        i = i + 1\n",
    "        #UltO = pd.Series((4 pd.rolling_sum(pd.Series(BP_l), 7) / pd.rolling_sum(pd.Series(TR_l), 7)) + (2 pd.rolling_sum(pd.Series(BP_l), 14) / pd.rolling_sum(pd.Series(TR_l), 14)) + (pd.rolling_sum(pd.Series(BP_l), 28) / pd.rolling_sum(pd.Series(TR_l), 28)), name = 'Ultimate_Osc')\n",
    "        df = df.join(UltO)\n",
    "    return df"
   ]
  },
  {
   "cell_type": "code",
   "execution_count": 37,
   "metadata": {
    "collapsed": true
   },
   "outputs": [],
   "source": [
    "#Donchian Channel\n",
    "def DONCH(df, n):\n",
    "    i = 0\n",
    "    DC_l = []\n",
    "    while i < n - 1:\n",
    "        DC_l.append(0)\n",
    "        i = i + 1\n",
    "        i = 0\n",
    "    while i + n - 1 < df.index[-1]:\n",
    "        DC = max(df['High'].ix[i:i + n - 1]) - min(df['Low'].ix[i:i + n - 1])\n",
    "        DC_l.append(DC)\n",
    "        i = i + 1\n",
    "        DonCh = pd.Series(DCl, name = 'Donchian' + str(n))\n",
    "        DonCh = DonCh.shift(n - 1)\n",
    "        df = df.join(DonCh)\n",
    "    return df"
   ]
  },
  {
   "cell_type": "code",
   "execution_count": 38,
   "metadata": {
    "collapsed": false
   },
   "outputs": [],
   "source": [
    "#Standard Deviation\n",
    "def STDDEV(df, n):\n",
    "    df = df.join(pd.Series(pd.rollingstd(df['Close'], n), name = 'STD' + str(n)))\n",
    "    return df"
   ]
  },
  {
   "cell_type": "code",
   "execution_count": null,
   "metadata": {
    "collapsed": true
   },
   "outputs": [],
   "source": []
  },
  {
   "cell_type": "code",
   "execution_count": null,
   "metadata": {
    "collapsed": true
   },
   "outputs": [],
   "source": []
  },
  {
   "cell_type": "code",
   "execution_count": null,
   "metadata": {
    "collapsed": true
   },
   "outputs": [],
   "source": []
  }
 ],
 "metadata": {
  "anaconda-cloud": {},
  "kernelspec": {
   "display_name": "Python [default]",
   "language": "python",
   "name": "python3"
  },
  "language_info": {
   "codemirror_mode": {
    "name": "ipython",
    "version": 3
   },
   "file_extension": ".py",
   "mimetype": "text/x-python",
   "name": "python",
   "nbconvert_exporter": "python",
   "pygments_lexer": "ipython3",
   "version": "3.5.2"
  }
 },
 "nbformat": 4,
 "nbformat_minor": 0
}
