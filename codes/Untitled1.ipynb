{
 "cells": [
  {
   "cell_type": "code",
   "execution_count": 4,
   "metadata": {
    "collapsed": true
   },
   "outputs": [],
   "source": [
    "import os, pandas as pd"
   ]
  },
  {
   "cell_type": "code",
   "execution_count": 1,
   "metadata": {
    "collapsed": true
   },
   "outputs": [],
   "source": [
    "# 此处用 list 输入 codes，可试用 list + DataFrame 输入\n",
    "def get_eastmoney_stock_report(urls, paths):\n",
    "    \n",
    "    # 下载个股\n",
    "    from dateutil.parser import parse\n",
    "    from bs4 import BeautifulSoup\n",
    "    import requests, urllib, os, shutil, json\n",
    "    import pandas as pd\n",
    "    \n",
    "    # 此处待添加验证 urls 是否为 DataFrame\n",
    "    count_download = 0\n",
    "    count_pass = 0\n",
    "    count_fail = 0\n",
    "    for i in range(0, len(urls)):\n",
    "        temp_url = 'http://data.eastmoney.com/report/' + parse(urls.loc[urls.index[i]]['datetime']).strftime('%Y'+'%m'+'%d') + '/' + urls.loc[urls.index[i]]['infoCode'] + '.html'\n",
    "        # print(temp_url)\n",
    "        html_doc = urllib.request.urlopen(temp_url).read()\n",
    "        soup = BeautifulSoup(html_doc, \"lxml\")\n",
    "        try:\n",
    "            file_url = soup.find_all(text = '查看PDF原文')[0].parent.get('href')\n",
    "            temp_name = paths + parse(urls.loc[urls.index[i]]['datetime']).strftime('%C'+'%m'+'%d') + '_' + urls.loc[urls.index[i]]['insName'] + '_' + urls.loc[urls.index[i]]['title'] + '.pdf'\n",
    "        \n",
    "            if os.path.isfile(temp_name) == True:\n",
    "                # print('File already exist! PASS!')\n",
    "                count_pass += 1\n",
    "                pass\n",
    "            else:\n",
    "                urllib.request.urlretrieve(file_url, temp_name)\n",
    "                count_download += 1\n",
    "                # print('Download ' + str(count_download) + '/' + str(len(urls)) + ' new files '+ 'Successfully !')\n",
    "        except:\n",
    "            print('Fail to get the file. ' + 'Please download the file manually !' + '\\n'  + temp_url)\n",
    "            count_fail += 1\n",
    "            pass\n",
    "        \n",
    "    print('    DOWN: ' + str(count_download) + '/' + str(len(urls)) + '\\n'  + '    PASS: ' + str(count_pass) + '/' + str(len(urls)) + '\\n'   + '    FAIL: ' + str(count_fail) + '/' + str(len(urls)))\n",
    "\n",
    "    return"
   ]
  },
  {
   "cell_type": "code",
   "execution_count": 2,
   "metadata": {
    "collapsed": true
   },
   "outputs": [],
   "source": [
    "path = '/home/wangshi/script/stocks_reports_list/'"
   ]
  },
  {
   "cell_type": "code",
   "execution_count": 5,
   "metadata": {
    "collapsed": false
   },
   "outputs": [],
   "source": [
    "data_0 = pd.read_csv(path + '000568', index_col = 'infoCodes')"
   ]
  },
  {
   "cell_type": "code",
   "execution_count": 7,
   "metadata": {
    "collapsed": false
   },
   "outputs": [
    {
     "name": "stdout",
     "output_type": "stream",
     "text": [
      "    DOWN: 107/107\n",
      "    PASS: 0/107\n",
      "    FAIL: 0/107\n"
     ]
    }
   ],
   "source": [
    "get_eastmoney_stock_report(data_0, path)"
   ]
  },
  {
   "cell_type": "code",
   "execution_count": null,
   "metadata": {
    "collapsed": true
   },
   "outputs": [],
   "source": []
  }
 ],
 "metadata": {
  "anaconda-cloud": {},
  "kernelspec": {
   "display_name": "Python [default]",
   "language": "python",
   "name": "python3"
  },
  "language_info": {
   "codemirror_mode": {
    "name": "ipython",
    "version": 3
   },
   "file_extension": ".py",
   "mimetype": "text/x-python",
   "name": "python",
   "nbconvert_exporter": "python",
   "pygments_lexer": "ipython3",
   "version": "3.5.2"
  }
 },
 "nbformat": 4,
 "nbformat_minor": 0
}
