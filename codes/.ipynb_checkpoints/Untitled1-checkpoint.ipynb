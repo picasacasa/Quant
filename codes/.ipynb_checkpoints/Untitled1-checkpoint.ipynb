{
 "cells": [
  {
   "cell_type": "code",
   "execution_count": 1,
   "metadata": {
    "collapsed": true
   },
   "outputs": [],
   "source": [
    "# 导入所需库\n",
    "import urllib, requests, json, copy, time\n",
    "import pandas as pd"
   ]
  },
  {
   "cell_type": "code",
   "execution_count": 2,
   "metadata": {
    "collapsed": true
   },
   "outputs": [],
   "source": [
    "url = 'https://www.okcoin.cn/api/v1/depth.do?symbol=btc_cny'"
   ]
  },
  {
   "cell_type": "code",
   "execution_count": 3,
   "metadata": {
    "collapsed": false
   },
   "outputs": [],
   "source": [
    "data0 = urllib.request.urlopen(url).read().decode()"
   ]
  },
  {
   "cell_type": "code",
   "execution_count": 4,
   "metadata": {
    "collapsed": false
   },
   "outputs": [],
   "source": [
    "data1 = json.loads(data0)"
   ]
  },
  {
   "cell_type": "code",
   "execution_count": 5,
   "metadata": {
    "collapsed": true
   },
   "outputs": [],
   "source": [
    "btc_to_get = 0"
   ]
  },
  {
   "cell_type": "code",
   "execution_count": 6,
   "metadata": {
    "collapsed": true
   },
   "outputs": [],
   "source": [
    "data_asks = pd.DataFrame(data1['asks'],columns=['price', 'quantity'])\n",
    "data_bids = pd.DataFrame(data1['bids'],columns=['price', 'quantity'])\n",
    "data_asks['amount'] = data_asks['price'] * data_asks['quantity']\n",
    "data_bids['amount'] = data_bids['price'] * data_bids['quantity']"
   ]
  },
  {
   "cell_type": "code",
   "execution_count": 7,
   "metadata": {
    "collapsed": false
   },
   "outputs": [
    {
     "data": {
      "text/html": [
       "<div>\n",
       "<table border=\"1\" class=\"dataframe\">\n",
       "  <thead>\n",
       "    <tr style=\"text-align: right;\">\n",
       "      <th></th>\n",
       "      <th>price</th>\n",
       "      <th>quantity</th>\n",
       "      <th>amount</th>\n",
       "    </tr>\n",
       "  </thead>\n",
       "  <tbody>\n",
       "    <tr>\n",
       "      <th>0</th>\n",
       "      <td>8278.00</td>\n",
       "      <td>0.770</td>\n",
       "      <td>6374.0600</td>\n",
       "    </tr>\n",
       "    <tr>\n",
       "      <th>1</th>\n",
       "      <td>8267.17</td>\n",
       "      <td>0.050</td>\n",
       "      <td>413.3585</td>\n",
       "    </tr>\n",
       "    <tr>\n",
       "      <th>2</th>\n",
       "      <td>8266.15</td>\n",
       "      <td>0.500</td>\n",
       "      <td>4133.0750</td>\n",
       "    </tr>\n",
       "    <tr>\n",
       "      <th>3</th>\n",
       "      <td>8257.00</td>\n",
       "      <td>0.004</td>\n",
       "      <td>33.0280</td>\n",
       "    </tr>\n",
       "    <tr>\n",
       "      <th>4</th>\n",
       "      <td>8252.01</td>\n",
       "      <td>0.350</td>\n",
       "      <td>2888.2035</td>\n",
       "    </tr>\n",
       "  </tbody>\n",
       "</table>\n",
       "</div>"
      ],
      "text/plain": [
       "     price  quantity     amount\n",
       "0  8278.00     0.770  6374.0600\n",
       "1  8267.17     0.050   413.3585\n",
       "2  8266.15     0.500  4133.0750\n",
       "3  8257.00     0.004    33.0280\n",
       "4  8252.01     0.350  2888.2035"
      ]
     },
     "execution_count": 7,
     "metadata": {},
     "output_type": "execute_result"
    }
   ],
   "source": [
    "data_bids.head()"
   ]
  },
  {
   "cell_type": "code",
   "execution_count": 21,
   "metadata": {
    "collapsed": false
   },
   "outputs": [
    {
     "data": {
      "text/plain": [
       "199    7883.0\n",
       "Name: price, dtype: float64"
      ]
     },
     "execution_count": 21,
     "metadata": {},
     "output_type": "execute_result"
    }
   ],
   "source": [
    "data_bids['price'][199:len(data_bids)]"
   ]
  },
  {
   "cell_type": "code",
   "execution_count": 26,
   "metadata": {
    "collapsed": false
   },
   "outputs": [
    {
     "name": "stdout",
     "output_type": "stream",
     "text": [
      "4\n",
      "3\n",
      "2\n",
      "1\n",
      "0\n"
     ]
    }
   ],
   "source": [
    "for i in range(5-1,-1,-1):\n",
    "    print(i)"
   ]
  },
  {
   "cell_type": "code",
   "execution_count": 8,
   "metadata": {
    "collapsed": false
   },
   "outputs": [
    {
     "data": {
      "text/plain": [
       "True"
      ]
     },
     "execution_count": 8,
     "metadata": {},
     "output_type": "execute_result"
    }
   ],
   "source": [
    "data_bids['price'][0] > data_bids['price'][len(data_bids)-1]"
   ]
  },
  {
   "cell_type": "code",
   "execution_count": 13,
   "metadata": {
    "collapsed": true
   },
   "outputs": [],
   "source": [
    "def get_cost_btc(money_to_use, market, buy_or_sell, output):\n",
    "    if market == 'okcoin':\n",
    "        url = 'https://www.okcoin.cn/api/v1/depth.do?symbol=btc_cny'\n",
    "        data0 = urllib.request.urlopen(url).read().decode()\n",
    "        data1 = json.loads(data0)\n",
    "        data_asks = pd.DataFrame(data1['asks'],columns=['price', 'quantity'])\n",
    "        data_bids = pd.DataFrame(data1['bids'],columns=['price', 'quantity'])\n",
    "        data_asks['amount'] = data_asks['price'] * data_asks['quantity']\n",
    "        data_bids['amount'] = data_bids['price'] * data_bids['quantity']\n",
    "        if buy_or_sell == 'buy':\n",
    "            if data_bids['price'][0] > data_bids['price'][len(data_bids)-1]:\n",
    "                for i in range(1, len(data_bids)):\n",
    "                    if data_bids['amount'][0:i].sum() < money_to_use:\n",
    "                        pass\n",
    "                    elif data_bids['amount'][0:i].sum() >= money_to_use:\n",
    "                        btc_cost = money_to_use/\\\n",
    "                                    (data_bids['quantity'][0:i-1].sum() +\\\n",
    "                                     (money_to_use - data_bids['amount'][0:i-1].sum())/data_bids['price'][i-1])\n",
    "                        print('the price is ' + str(data_bids['price'][i-1]))\n",
    "                        print('the cost is ' + str(btc_cost))\n",
    "                        return btc_cost\n",
    "                        break\n",
    "            elif data_bids['price'][0] <= data_bids['price'][len(data_bids)-1]:\n",
    "                for i in range(len(data_bids)-1,-1,-1):\n",
    "                    if data_bids['amount'][i,len(data_bids)].sum() < money_to_use:\n",
    "                        pass\n",
    "                    elif data_bids['amount'][i:len(data_bids)].sum() >= money_to_use:\n",
    "                        btc_cost = money_to_use/\\\n",
    "                                    (data_bids['quantity'][i+1,len(data_bids)].sum() +\\\n",
    "                                     (money_to_use - data_bids['amount'][i+1,len(data_bids)].sum())/data_bids['price'][i])\n",
    "                        print('the price is ' + str(data_bids['price'][i-1]))\n",
    "                        print('the cost is ' + str(btc_cost))\n",
    "                        return btc_cost\n",
    "                        break"
   ]
  },
  {
   "cell_type": "code",
   "execution_count": 15,
   "metadata": {
    "collapsed": false
   },
   "outputs": [
    {
     "name": "stdout",
     "output_type": "stream",
     "text": [
      "the price is 8260.0\n",
      "the cost is 8260.0\n"
     ]
    },
    {
     "data": {
      "text/plain": [
       "8260.0"
      ]
     },
     "execution_count": 15,
     "metadata": {},
     "output_type": "execute_result"
    }
   ],
   "source": [
    "get_cost_btc(10000, 'okcoin', 'buy', 'y')"
   ]
  },
  {
   "cell_type": "code",
   "execution_count": 10,
   "metadata": {
    "collapsed": false
   },
   "outputs": [
    {
     "name": "stdout",
     "output_type": "stream",
     "text": [
      "the price is 8278.0\n",
      "the cost is 8278.0\n"
     ]
    }
   ],
   "source": [
    "money_to_use = 500\n",
    "for i in range(1, len(data_bids)):\n",
    "    if data_bids['amount'][0:i].sum() < money_to_use:\n",
    "        pass\n",
    "    elif data_bids['amount'][0:i].sum() >= money_to_use:\n",
    "        print('the price is ' + str(data_bids['price'][i-1]))\n",
    "        print('the cost is ' \\\n",
    "              + str(money_to_use/\\\n",
    "                    (data_bids['quantity'][0:i-1].sum() +\\\n",
    "                     (money_to_use - data_bids['amount'][0:i-1].sum())/data_bids['price'][i-1])))\n",
    "        break"
   ]
  },
  {
   "cell_type": "code",
   "execution_count": 11,
   "metadata": {
    "collapsed": false
   },
   "outputs": [
    {
     "data": {
      "text/plain": [
       "6787.418500000001"
      ]
     },
     "execution_count": 11,
     "metadata": {},
     "output_type": "execute_result"
    }
   ],
   "source": [
    "data_bids['amount'][0:2].sum()"
   ]
  },
  {
   "cell_type": "code",
   "execution_count": 12,
   "metadata": {
    "collapsed": false
   },
   "outputs": [
    {
     "data": {
      "text/plain": [
       "413.35850000000005"
      ]
     },
     "execution_count": 12,
     "metadata": {},
     "output_type": "execute_result"
    }
   ],
   "source": [
    "data_bids['amount'][1]"
   ]
  },
  {
   "cell_type": "code",
   "execution_count": null,
   "metadata": {
    "collapsed": true
   },
   "outputs": [],
   "source": []
  }
 ],
 "metadata": {
  "anaconda-cloud": {},
  "kernelspec": {
   "display_name": "Python [default]",
   "language": "python",
   "name": "python3"
  },
  "language_info": {
   "codemirror_mode": {
    "name": "ipython",
    "version": 3
   },
   "file_extension": ".py",
   "mimetype": "text/x-python",
   "name": "python",
   "nbconvert_exporter": "python",
   "pygments_lexer": "ipython3",
   "version": "3.5.2"
  }
 },
 "nbformat": 4,
 "nbformat_minor": 0
}
