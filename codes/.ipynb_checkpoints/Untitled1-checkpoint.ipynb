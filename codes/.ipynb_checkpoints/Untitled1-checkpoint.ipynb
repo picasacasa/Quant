{
 "cells": [
  {
   "cell_type": "code",
   "execution_count": 55,
   "metadata": {
    "collapsed": true
   },
   "outputs": [],
   "source": [
    "# 导入所需库\n",
    "import urllib, requests, json, copy, time\n",
    "import pandas as pd"
   ]
  },
  {
   "cell_type": "code",
   "execution_count": 2,
   "metadata": {
    "collapsed": true
   },
   "outputs": [],
   "source": [
    "url = 'https://www.okcoin.cn/api/v1/depth.do?symbol=btc_cny'"
   ]
  },
  {
   "cell_type": "code",
   "execution_count": 12,
   "metadata": {
    "collapsed": false
   },
   "outputs": [],
   "source": [
    "data0 = urllib.request.urlopen(url).read().decode()"
   ]
  },
  {
   "cell_type": "code",
   "execution_count": 14,
   "metadata": {
    "collapsed": false
   },
   "outputs": [],
   "source": [
    "data1 = json.loads(data0)"
   ]
  },
  {
   "cell_type": "code",
   "execution_count": 9,
   "metadata": {
    "collapsed": true
   },
   "outputs": [],
   "source": [
    "btc_to_get = 0"
   ]
  },
  {
   "cell_type": "code",
   "execution_count": 61,
   "metadata": {
    "collapsed": true
   },
   "outputs": [],
   "source": [
    "data_asks = pd.DataFrame(data1['asks'],columns=['price', 'quantity'])\n",
    "data_bids = pd.DataFrame(data1['bids'],columns=['price', 'quantity'])\n",
    "data_asks['amount'] = data_asks['price'] * data_asks['quantity']\n",
    "data_bids['amount'] = data_bids['price'] * data_bids['quantity']"
   ]
  },
  {
   "cell_type": "code",
   "execution_count": 65,
   "metadata": {
    "collapsed": false
   },
   "outputs": [
    {
     "data": {
      "text/html": [
       "<div>\n",
       "<table border=\"1\" class=\"dataframe\">\n",
       "  <thead>\n",
       "    <tr style=\"text-align: right;\">\n",
       "      <th></th>\n",
       "      <th>price</th>\n",
       "      <th>quantity</th>\n",
       "      <th>amount</th>\n",
       "    </tr>\n",
       "  </thead>\n",
       "  <tbody>\n",
       "    <tr>\n",
       "      <th>0</th>\n",
       "      <td>8039.00</td>\n",
       "      <td>0.030</td>\n",
       "      <td>241.170</td>\n",
       "    </tr>\n",
       "    <tr>\n",
       "      <th>1</th>\n",
       "      <td>8038.00</td>\n",
       "      <td>0.044</td>\n",
       "      <td>353.672</td>\n",
       "    </tr>\n",
       "    <tr>\n",
       "      <th>2</th>\n",
       "      <td>8036.00</td>\n",
       "      <td>1.242</td>\n",
       "      <td>9980.712</td>\n",
       "    </tr>\n",
       "    <tr>\n",
       "      <th>3</th>\n",
       "      <td>8035.00</td>\n",
       "      <td>1.700</td>\n",
       "      <td>13659.500</td>\n",
       "    </tr>\n",
       "    <tr>\n",
       "      <th>4</th>\n",
       "      <td>8033.96</td>\n",
       "      <td>0.200</td>\n",
       "      <td>1606.792</td>\n",
       "    </tr>\n",
       "  </tbody>\n",
       "</table>\n",
       "</div>"
      ],
      "text/plain": [
       "     price  quantity     amount\n",
       "0  8039.00     0.030    241.170\n",
       "1  8038.00     0.044    353.672\n",
       "2  8036.00     1.242   9980.712\n",
       "3  8035.00     1.700  13659.500\n",
       "4  8033.96     0.200   1606.792"
      ]
     },
     "execution_count": 65,
     "metadata": {},
     "output_type": "execute_result"
    }
   ],
   "source": [
    "data_bids.head()"
   ]
  },
  {
   "cell_type": "code",
   "execution_count": 60,
   "metadata": {
    "collapsed": false
   },
   "outputs": [
    {
     "data": {
      "text/plain": [
       "True"
      ]
     },
     "execution_count": 60,
     "metadata": {},
     "output_type": "execute_result"
    }
   ],
   "source": [
    "data_bids['price'][0] > data_bids['price'][len(data_bids)-1]"
   ]
  },
  {
   "cell_type": "code",
   "execution_count": 112,
   "metadata": {
    "collapsed": true
   },
   "outputs": [],
   "source": [
    "def get_cost_btc(money_to_use, market, buy_or_sell, output):\n",
    "    if market == 'okcoin':\n",
    "        url = 'https://www.okcoin.cn/api/v1/depth.do?symbol=btc_cny'\n",
    "        data0 = urllib.request.urlopen(url).read().decode()\n",
    "        data1 = json.loads(data0)\n",
    "        data_asks = pd.DataFrame(data1['asks'],columns=['price', 'quantity'])\n",
    "        data_bids = pd.DataFrame(data1['bids'],columns=['price', 'quantity'])\n",
    "        data_asks['amount'] = data_asks['price'] * data_asks['quantity']\n",
    "        data_bids['amount'] = data_bids['price'] * data_bids['quantity']\n",
    "        if buy_or_sell == 'buy':\n",
    "            for i in range(1, len(data_bids)):\n",
    "                if data_bids['amount'][0:i].sum() < money_to_use:\n",
    "                    pass\n",
    "                elif data_bids['amount'][0:i].sum() >= money_to_use:\n",
    "                    print('the price is ' + str(data_bids['price'][i-1]))\n",
    "                    print('the cost is ' \\\n",
    "                          + str(money_to_use/\\\n",
    "                                (data_bids['quantity'][0:i-1].sum() +\\\n",
    "                                 (money_to_use - data_bids['amount'][0:i-1].sum())/data_bids['price'][i-1])))\n",
    "                    break"
   ]
  },
  {
   "cell_type": "code",
   "execution_count": 111,
   "metadata": {
    "collapsed": false
   },
   "outputs": [
    {
     "name": "stdout",
     "output_type": "stream",
     "text": [
      "the price is 8038.0\n",
      "the cost is 8038.48230894\n"
     ]
    }
   ],
   "source": [
    "money_to_use = 500\n",
    "for i in range(1, len(data_bids)):\n",
    "    if data_bids['amount'][0:i].sum() < money_to_use:\n",
    "        pass\n",
    "    elif data_bids['amount'][0:i].sum() >= money_to_use:\n",
    "        print('the price is ' + str(data_bids['price'][i-1]))\n",
    "        print('the cost is ' \\\n",
    "              + str(money_to_use/\\\n",
    "                    (data_bids['quantity'][0:i-1].sum() +\\\n",
    "                     (money_to_use - data_bids['amount'][0:i-1].sum())/data_bids['price'][i-1])))\n",
    "        break"
   ]
  },
  {
   "cell_type": "code",
   "execution_count": 87,
   "metadata": {
    "collapsed": false
   },
   "outputs": [
    {
     "data": {
      "text/plain": [
       "594.842"
      ]
     },
     "execution_count": 87,
     "metadata": {},
     "output_type": "execute_result"
    }
   ],
   "source": [
    "data_bids['amount'][0:2].sum()"
   ]
  },
  {
   "cell_type": "code",
   "execution_count": 89,
   "metadata": {
    "collapsed": false
   },
   "outputs": [
    {
     "data": {
      "text/plain": [
       "353.67199999999997"
      ]
     },
     "execution_count": 89,
     "metadata": {},
     "output_type": "execute_result"
    }
   ],
   "source": [
    "data_bids['amount'][1]"
   ]
  },
  {
   "cell_type": "code",
   "execution_count": null,
   "metadata": {
    "collapsed": true
   },
   "outputs": [],
   "source": []
  }
 ],
 "metadata": {
  "anaconda-cloud": {},
  "kernelspec": {
   "display_name": "Python [default]",
   "language": "python",
   "name": "python3"
  },
  "language_info": {
   "codemirror_mode": {
    "name": "ipython",
    "version": 3
   },
   "file_extension": ".py",
   "mimetype": "text/x-python",
   "name": "python",
   "nbconvert_exporter": "python",
   "pygments_lexer": "ipython3",
   "version": "3.5.2"
  }
 },
 "nbformat": 4,
 "nbformat_minor": 0
}
