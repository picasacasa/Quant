{
 "cells": [
  {
   "cell_type": "code",
   "execution_count": 1,
   "metadata": {
    "collapsed": true
   },
   "outputs": [],
   "source": [
    "# 导入所需库\n",
    "import urllib, requests, json, copy, time\n",
    "import pandas as pd"
   ]
  },
  {
   "cell_type": "code",
   "execution_count": 2,
   "metadata": {
    "collapsed": true
   },
   "outputs": [],
   "source": [
    "# def get_cost_btc(money_to_use, market, buy_or_sell, output):\n",
    "#     return btc & cost"
   ]
  },
  {
   "cell_type": "code",
   "execution_count": 3,
   "metadata": {
    "collapsed": false
   },
   "outputs": [],
   "source": [
    "def get_cost_btc(money_to_use, market, buy_or_sell, output):\n",
    "    if market == 'okcoin':\n",
    "        url = 'https://www.okcoin.cn/api/v1/depth.do?symbol=btc_cny'\n",
    "        data0 = urllib.request.urlopen(url).read().decode()\n",
    "        data1 = json.loads(data0)\n",
    "        data_asks = pd.DataFrame(data1['asks'],columns=['price', 'quantity'])\n",
    "        data_bids = pd.DataFrame(data1['bids'],columns=['price', 'quantity'])\n",
    "        data_asks['amount'] = data_asks['price'] * data_asks['quantity']\n",
    "        data_bids['amount'] = data_bids['price'] * data_bids['quantity']\n",
    "        if buy_or_sell == 'buy':\n",
    "            for i in range(1, len(data_bids)):\n",
    "                if data_bids['amount'][0:i].sum() < money_to_use:\n",
    "                    pass\n",
    "                elif data_bids['amount'][0:i].sum() >= money_to_use:\n",
    "                    btc_cost = money_to_use/\\\n",
    "                                (data_bids['quantity'][0:i-1].sum() +\\\n",
    "                                 (money_to_use - data_bids['amount'][0:i-1].sum())/data_bids['price'][i-1])\n",
    "                    print('the price is ' + str(data_bids['price'][i-1]))\n",
    "                    print('the cost is ' + str(btc_cost))\n",
    "                    return btc_cost\n",
    "                    break"
   ]
  },
  {
   "cell_type": "code",
   "execution_count": 10,
   "metadata": {
    "collapsed": false
   },
   "outputs": [
    {
     "name": "stdout",
     "output_type": "stream",
     "text": [
      "the price is 8030.0\n",
      "the cost is 8045.42285597\n",
      "8045.42285597\n",
      "the price is 8030.0\n",
      "the cost is 8044.21093038\n",
      "8044.21093038\n",
      "the price is 8030.0\n",
      "the cost is 8045.38178038\n",
      "8045.38178038\n",
      "the price is 8032.3\n",
      "the cost is 8047.08210356\n",
      "8047.08210356\n",
      "the price is 8032.3\n",
      "the cost is 8048.43212927\n",
      "8048.43212927\n",
      "the price is 8032.3\n",
      "the cost is 8048.01984788\n",
      "8048.01984788\n",
      "the price is 8032.3\n",
      "the cost is 8052.07902708\n",
      "8052.07902708\n",
      "the price is 8032.3\n",
      "the cost is 8050.82542269\n",
      "8050.82542269\n",
      "the price is 8032.3\n",
      "the cost is 8050.90458179\n",
      "8050.90458179\n",
      "the price is 8030.95\n",
      "the cost is 8047.59921205\n",
      "8047.59921205\n",
      "CPU times: user 516 ms, sys: 12 ms, total: 528 ms\n",
      "Wall time: 53 s\n"
     ]
    }
   ],
   "source": [
    "%%time\n",
    "for i in range(0,10):\n",
    "    print(str(get_cost_btc(100000, 'okcoin', 'buy', 'z')))\n",
    "    time.sleep(5)"
   ]
  },
  {
   "cell_type": "code",
   "execution_count": null,
   "metadata": {
    "collapsed": true
   },
   "outputs": [],
   "source": [
    "url = 'https://www.okcoin.cn/api/v1/depth.do?symbol=btc_cny'"
   ]
  },
  {
   "cell_type": "code",
   "execution_count": null,
   "metadata": {
    "collapsed": true
   },
   "outputs": [],
   "source": [
    "data0 = urllib.request.urlopen(url).read().decode()"
   ]
  },
  {
   "cell_type": "code",
   "execution_count": null,
   "metadata": {
    "collapsed": false
   },
   "outputs": [],
   "source": [
    "data1 = json.loads(data0)"
   ]
  },
  {
   "cell_type": "code",
   "execution_count": null,
   "metadata": {
    "collapsed": true
   },
   "outputs": [],
   "source": [
    "import pandas as pd"
   ]
  },
  {
   "cell_type": "code",
   "execution_count": null,
   "metadata": {
    "collapsed": false
   },
   "outputs": [],
   "source": [
    "data_buy  = pd.DataFrame(data1['bids'],columns=['price','amount'])\n",
    "data_buy  = data_buy.sort_values(by=['price'],ascending=0)\n",
    "data_sell = pd.DataFrame(data1['asks'],columns=['price','amount'])\n",
    "data_sell = data_sell.sort_values(by=['price'],ascending=1)"
   ]
  },
  {
   "cell_type": "code",
   "execution_count": null,
   "metadata": {
    "collapsed": false
   },
   "outputs": [],
   "source": [
    "data_buy.head()"
   ]
  },
  {
   "cell_type": "code",
   "execution_count": null,
   "metadata": {
    "collapsed": false
   },
   "outputs": [],
   "source": [
    "data_sell.head()"
   ]
  },
  {
   "cell_type": "code",
   "execution_count": null,
   "metadata": {
    "collapsed": false
   },
   "outputs": [],
   "source": [
    "data_sell.reindex(index=range(0,len(data_sell))).head()"
   ]
  },
  {
   "cell_type": "code",
   "execution_count": null,
   "metadata": {
    "collapsed": true
   },
   "outputs": [],
   "source": []
  }
 ],
 "metadata": {
  "anaconda-cloud": {},
  "kernelspec": {
   "display_name": "Python [default]",
   "language": "python",
   "name": "python3"
  },
  "language_info": {
   "codemirror_mode": {
    "name": "ipython",
    "version": 3
   },
   "file_extension": ".py",
   "mimetype": "text/x-python",
   "name": "python",
   "nbconvert_exporter": "python",
   "pygments_lexer": "ipython3",
   "version": "3.5.2"
  }
 },
 "nbformat": 4,
 "nbformat_minor": 0
}
