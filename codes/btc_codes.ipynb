{
 "cells": [
  {
   "cell_type": "code",
   "execution_count": 1,
   "metadata": {
    "collapsed": true
   },
   "outputs": [],
   "source": [
    "# 导入所需库\n",
    "import urllib, requests, json, copy, time\n",
    "import pandas as pd"
   ]
  },
  {
   "cell_type": "code",
   "execution_count": 2,
   "metadata": {
    "collapsed": true
   },
   "outputs": [],
   "source": [
    "# def get_cost_btc(money_to_use, market, buy_or_sell, output):\n",
    "#     return btc & cost"
   ]
  },
  {
   "cell_type": "code",
   "execution_count": 3,
   "metadata": {
    "collapsed": false
   },
   "outputs": [],
   "source": [
    "def get_cost_btc(money_to_use, market, buy_or_sell, output):\n",
    "    if market == 'okcoin':\n",
    "        url = 'https://www.okcoin.cn/api/v1/depth.do?symbol=btc_cny'\n",
    "        data0 = urllib.request.urlopen(url).read().decode()\n",
    "        data1 = json.loads(data0)\n",
    "        data_asks = pd.DataFrame(data1['asks'],columns=['price', 'quantity'])\n",
    "        data_bids = pd.DataFrame(data1['bids'],columns=['price', 'quantity'])\n",
    "        data_asks['amount'] = data_asks['price'] * data_asks['quantity']\n",
    "        data_bids['amount'] = data_bids['price'] * data_bids['quantity']\n",
    "        if buy_or_sell == 'buy':\n",
    "            for i in range(1, len(data_bids)):\n",
    "                if data_bids['amount'][0:i].sum() < money_to_use:\n",
    "                    pass\n",
    "                elif data_bids['amount'][0:i].sum() >= money_to_use:\n",
    "                    btc_cost = money_to_use/\\\n",
    "                                (data_bids['quantity'][0:i-1].sum() +\\\n",
    "                                 (money_to_use - data_bids['amount'][0:i-1].sum())/data_bids['price'][i-1])\n",
    "                    print('the price is ' + str(data_bids['price'][i-1]))\n",
    "                    print('the cost is ' + str(btc_cost))\n",
    "                    return btc_cost\n",
    "                    break"
   ]
  },
  {
   "cell_type": "code",
   "execution_count": 4,
   "metadata": {
    "collapsed": false
   },
   "outputs": [
    {
     "name": "stdout",
     "output_type": "stream",
     "text": [
      "the price is 8221.46\n",
      "the cost is 8242.81261702\n",
      "8242.81261702\n",
      "the price is 8221.46\n",
      "the cost is 8241.29411321\n",
      "8241.29411321\n",
      "the price is 8221.46\n",
      "the cost is 8242.98643047\n",
      "8242.98643047\n",
      "the price is 8221.46\n",
      "the cost is 8241.97747488\n",
      "8241.97747488\n",
      "the price is 8218.0\n",
      "the cost is 8242.66785848\n",
      "8242.66785848\n",
      "the price is 8221.47\n",
      "the cost is 8242.81838692\n",
      "8242.81838692\n",
      "the price is 8221.47\n",
      "the cost is 8242.73772477\n",
      "8242.73772477\n",
      "the price is 8221.47\n",
      "the cost is 8243.03089282\n",
      "8243.03089282\n",
      "the price is 8221.47\n",
      "the cost is 8242.91394062\n",
      "8242.91394062\n",
      "the price is 8221.47\n",
      "the cost is 8242.50043654\n",
      "8242.50043654\n",
      "CPU times: user 528 ms, sys: 12 ms, total: 540 ms\n",
      "Wall time: 53 s\n"
     ]
    }
   ],
   "source": [
    "%%time\n",
    "for i in range(0,10):\n",
    "    print(str(get_cost_btc(100000, 'okcoin', 'buy', 'z')))\n",
    "    time.sleep(5)"
   ]
  },
  {
   "cell_type": "code",
   "execution_count": 5,
   "metadata": {
    "collapsed": true
   },
   "outputs": [],
   "source": [
    "url = 'https://www.okcoin.cn/api/v1/depth.do?symbol=btc_cny'"
   ]
  },
  {
   "cell_type": "code",
   "execution_count": 6,
   "metadata": {
    "collapsed": true
   },
   "outputs": [],
   "source": [
    "data0 = urllib.request.urlopen(url).read().decode()"
   ]
  },
  {
   "cell_type": "code",
   "execution_count": 7,
   "metadata": {
    "collapsed": false
   },
   "outputs": [],
   "source": [
    "data1 = json.loads(data0)"
   ]
  },
  {
   "cell_type": "code",
   "execution_count": 8,
   "metadata": {
    "collapsed": true
   },
   "outputs": [],
   "source": [
    "import pandas as pd"
   ]
  },
  {
   "cell_type": "code",
   "execution_count": 9,
   "metadata": {
    "collapsed": false
   },
   "outputs": [],
   "source": [
    "data_buy  = pd.DataFrame(data1['bids'],columns=['price','amount'])\n",
    "data_buy  = data_buy.sort_values(by=['price'],ascending=0)\n",
    "data_sell = pd.DataFrame(data1['asks'],columns=['price','amount'])\n",
    "data_sell = data_sell.sort_values(by=['price'],ascending=1)"
   ]
  },
  {
   "cell_type": "code",
   "execution_count": 10,
   "metadata": {
    "collapsed": false
   },
   "outputs": [
    {
     "data": {
      "text/html": [
       "<div>\n",
       "<table border=\"1\" class=\"dataframe\">\n",
       "  <thead>\n",
       "    <tr style=\"text-align: right;\">\n",
       "      <th></th>\n",
       "      <th>price</th>\n",
       "      <th>amount</th>\n",
       "    </tr>\n",
       "  </thead>\n",
       "  <tbody>\n",
       "    <tr>\n",
       "      <th>0</th>\n",
       "      <td>8280.00</td>\n",
       "      <td>0.137</td>\n",
       "    </tr>\n",
       "    <tr>\n",
       "      <th>1</th>\n",
       "      <td>8265.36</td>\n",
       "      <td>0.050</td>\n",
       "    </tr>\n",
       "    <tr>\n",
       "      <th>2</th>\n",
       "      <td>8262.29</td>\n",
       "      <td>0.500</td>\n",
       "    </tr>\n",
       "    <tr>\n",
       "      <th>3</th>\n",
       "      <td>8257.00</td>\n",
       "      <td>0.004</td>\n",
       "    </tr>\n",
       "    <tr>\n",
       "      <th>4</th>\n",
       "      <td>8252.01</td>\n",
       "      <td>0.350</td>\n",
       "    </tr>\n",
       "  </tbody>\n",
       "</table>\n",
       "</div>"
      ],
      "text/plain": [
       "     price  amount\n",
       "0  8280.00   0.137\n",
       "1  8265.36   0.050\n",
       "2  8262.29   0.500\n",
       "3  8257.00   0.004\n",
       "4  8252.01   0.350"
      ]
     },
     "execution_count": 10,
     "metadata": {},
     "output_type": "execute_result"
    }
   ],
   "source": [
    "data_buy.head()"
   ]
  },
  {
   "cell_type": "code",
   "execution_count": 11,
   "metadata": {
    "collapsed": false
   },
   "outputs": [
    {
     "data": {
      "text/html": [
       "<div>\n",
       "<table border=\"1\" class=\"dataframe\">\n",
       "  <thead>\n",
       "    <tr style=\"text-align: right;\">\n",
       "      <th></th>\n",
       "      <th>price</th>\n",
       "      <th>amount</th>\n",
       "    </tr>\n",
       "  </thead>\n",
       "  <tbody>\n",
       "    <tr>\n",
       "      <th>199</th>\n",
       "      <td>8284.00</td>\n",
       "      <td>5.471</td>\n",
       "    </tr>\n",
       "    <tr>\n",
       "      <th>198</th>\n",
       "      <td>8284.99</td>\n",
       "      <td>6.945</td>\n",
       "    </tr>\n",
       "    <tr>\n",
       "      <th>197</th>\n",
       "      <td>8285.00</td>\n",
       "      <td>27.627</td>\n",
       "    </tr>\n",
       "    <tr>\n",
       "      <th>196</th>\n",
       "      <td>8286.00</td>\n",
       "      <td>0.136</td>\n",
       "    </tr>\n",
       "    <tr>\n",
       "      <th>195</th>\n",
       "      <td>8288.00</td>\n",
       "      <td>0.012</td>\n",
       "    </tr>\n",
       "  </tbody>\n",
       "</table>\n",
       "</div>"
      ],
      "text/plain": [
       "       price  amount\n",
       "199  8284.00   5.471\n",
       "198  8284.99   6.945\n",
       "197  8285.00  27.627\n",
       "196  8286.00   0.136\n",
       "195  8288.00   0.012"
      ]
     },
     "execution_count": 11,
     "metadata": {},
     "output_type": "execute_result"
    }
   ],
   "source": [
    "data_sell.head()"
   ]
  },
  {
   "cell_type": "code",
   "execution_count": 12,
   "metadata": {
    "collapsed": false
   },
   "outputs": [
    {
     "data": {
      "text/html": [
       "<div>\n",
       "<table border=\"1\" class=\"dataframe\">\n",
       "  <thead>\n",
       "    <tr style=\"text-align: right;\">\n",
       "      <th></th>\n",
       "      <th>price</th>\n",
       "      <th>amount</th>\n",
       "    </tr>\n",
       "  </thead>\n",
       "  <tbody>\n",
       "    <tr>\n",
       "      <th>0</th>\n",
       "      <td>8529.99</td>\n",
       "      <td>0.010</td>\n",
       "    </tr>\n",
       "    <tr>\n",
       "      <th>1</th>\n",
       "      <td>8529.00</td>\n",
       "      <td>0.500</td>\n",
       "    </tr>\n",
       "    <tr>\n",
       "      <th>2</th>\n",
       "      <td>8527.00</td>\n",
       "      <td>0.032</td>\n",
       "    </tr>\n",
       "    <tr>\n",
       "      <th>3</th>\n",
       "      <td>8522.00</td>\n",
       "      <td>3.558</td>\n",
       "    </tr>\n",
       "    <tr>\n",
       "      <th>4</th>\n",
       "      <td>8520.00</td>\n",
       "      <td>6.802</td>\n",
       "    </tr>\n",
       "  </tbody>\n",
       "</table>\n",
       "</div>"
      ],
      "text/plain": [
       "     price  amount\n",
       "0  8529.99   0.010\n",
       "1  8529.00   0.500\n",
       "2  8527.00   0.032\n",
       "3  8522.00   3.558\n",
       "4  8520.00   6.802"
      ]
     },
     "execution_count": 12,
     "metadata": {},
     "output_type": "execute_result"
    }
   ],
   "source": [
    "data_sell.reindex(index=range(0,len(data_sell))).head()"
   ]
  },
  {
   "cell_type": "code",
   "execution_count": null,
   "metadata": {
    "collapsed": true
   },
   "outputs": [],
   "source": []
  }
 ],
 "metadata": {
  "anaconda-cloud": {},
  "kernelspec": {
   "display_name": "Python [default]",
   "language": "python",
   "name": "python3"
  },
  "language_info": {
   "codemirror_mode": {
    "name": "ipython",
    "version": 3
   },
   "file_extension": ".py",
   "mimetype": "text/x-python",
   "name": "python",
   "nbconvert_exporter": "python",
   "pygments_lexer": "ipython3",
   "version": "3.5.2"
  }
 },
 "nbformat": 4,
 "nbformat_minor": 0
}
