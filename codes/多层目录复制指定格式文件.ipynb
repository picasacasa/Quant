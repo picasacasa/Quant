{
 "cells": [
  {
   "cell_type": "code",
   "execution_count": 1,
   "metadata": {
    "collapsed": true
   },
   "outputs": [],
   "source": [
    "import os.path\n",
    "import shutil"
   ]
  },
  {
   "cell_type": "code",
   "execution_count": 2,
   "metadata": {
    "collapsed": false
   },
   "outputs": [
    {
     "data": {
      "text/plain": [
       "['Abdullah Chhadeh', 'Adele']"
      ]
     },
     "execution_count": 2,
     "metadata": {},
     "output_type": "execute_result"
    }
   ],
   "source": [
    "wyyyy = os.listdir('/media/wangshi/UsbStorage/music/网易云音乐')\n",
    "wyyyy[0:2]"
   ]
  },
  {
   "cell_type": "code",
   "execution_count": 3,
   "metadata": {
    "collapsed": false
   },
   "outputs": [
    {
     "data": {
      "text/plain": [
       "['/media/wangshi/UsbStorage/music/网易云音乐/Abdullah Chhadeh/',\n",
       " '/media/wangshi/UsbStorage/music/网易云音乐/Adele/',\n",
       " '/media/wangshi/UsbStorage/music/网易云音乐/Agnes Obel/',\n",
       " '/media/wangshi/UsbStorage/music/网易云音乐/Al Green/',\n",
       " '/media/wangshi/UsbStorage/music/网易云音乐/Alan Silvestri/',\n",
       " '/media/wangshi/UsbStorage/music/网易云音乐/Alan Walker/',\n",
       " '/media/wangshi/UsbStorage/music/网易云音乐/Albert hammond/',\n",
       " '/media/wangshi/UsbStorage/music/网易云音乐/Alborada Del Inka/',\n",
       " '/media/wangshi/UsbStorage/music/网易云音乐/Alex Fox/',\n",
       " '/media/wangshi/UsbStorage/music/网易云音乐/Alexandre Desplat/']"
      ]
     },
     "execution_count": 3,
     "metadata": {},
     "output_type": "execute_result"
    }
   ],
   "source": [
    "music1 = []\n",
    "for i in wyyyy:\n",
    "    music1.append('/media/wangshi/UsbStorage/music/网易云音乐/' + i + '/')\n",
    "music1[0:10]"
   ]
  },
  {
   "cell_type": "code",
   "execution_count": 4,
   "metadata": {
    "collapsed": false
   },
   "outputs": [
    {
     "data": {
      "text/plain": [
       "[['Abdullah Chhadeh - Asaf.mp3'],\n",
       " ['Rolling In The Deep'],\n",
       " ['Philharmonics'],\n",
       " [\"Al Green - Let's Stay Together.mp3\"],\n",
       " ['Alan Silvestri - Forrest Gump Suite.mp3'],\n",
       " ['Fade'],\n",
       " ['Albert hammond - It Never Rains in Southern California.mp3'],\n",
       " [\"Alborada Del Inka - El ultimo indio moxicano (song from the film 'The last Mohican').mp3\"],\n",
       " ['GUITAR ON FIRE'],\n",
       " ['Alexandre Desplat - Mr. Moustafa.mp3', 'The Luzhin Defence']]"
      ]
     },
     "execution_count": 4,
     "metadata": {},
     "output_type": "execute_result"
    }
   ],
   "source": [
    "music2 = []\n",
    "for i in music1:\n",
    "    music2.append(os.listdir(i))\n",
    "music2[0:10]"
   ]
  },
  {
   "cell_type": "code",
   "execution_count": 5,
   "metadata": {
    "collapsed": false
   },
   "outputs": [
    {
     "data": {
      "text/plain": [
       "[1, 1, 1, 1, 1, 1, 1, 1, 1, 2]"
      ]
     },
     "execution_count": 5,
     "metadata": {},
     "output_type": "execute_result"
    }
   ],
   "source": [
    "music3 = [] #每个子文件夹的文件数，与music1文件夹匹配\n",
    "for i in music2:\n",
    "    music3.append(len(i))\n",
    "music3[0:10]"
   ]
  },
  {
   "cell_type": "code",
   "execution_count": 8,
   "metadata": {
    "collapsed": false
   },
   "outputs": [
    {
     "data": {
      "text/plain": [
       "['/media/wangshi/UsbStorage/music/网易云音乐/Alexandre Desplat/',\n",
       " '/media/wangshi/UsbStorage/music/网易云音乐/Allan Taylor/',\n",
       " '/media/wangshi/UsbStorage/music/网易云音乐/Allan Taylor/',\n",
       " '/media/wangshi/UsbStorage/music/网易云音乐/Analogik/',\n",
       " '/media/wangshi/UsbStorage/music/网易云音乐/Andy Williams/',\n",
       " '/media/wangshi/UsbStorage/music/网易云音乐/Andy Williams/',\n",
       " '/media/wangshi/UsbStorage/music/网易云音乐/Audio Machine/',\n",
       " '/media/wangshi/UsbStorage/music/网易云音乐/Bobby Vinton/',\n",
       " '/media/wangshi/UsbStorage/music/网易云音乐/Bobby Vinton/',\n",
       " '/media/wangshi/UsbStorage/music/网易云音乐/Boney M/',\n",
       " '/media/wangshi/UsbStorage/music/网易云音乐/Brian Hyland/',\n",
       " '/media/wangshi/UsbStorage/music/网易云音乐/Cab Canavaral/',\n",
       " '/media/wangshi/UsbStorage/music/网易云音乐/Caravan Palace/',\n",
       " '/media/wangshi/UsbStorage/music/网易云音乐/Caro Emerald/',\n",
       " '/media/wangshi/UsbStorage/music/网易云音乐/Caro Emerald/',\n",
       " '/media/wangshi/UsbStorage/music/网易云音乐/Caro Emerald/',\n",
       " '/media/wangshi/UsbStorage/music/网易云音乐/Caro Emerald/',\n",
       " '/media/wangshi/UsbStorage/music/网易云音乐/Caro Emerald/',\n",
       " '/media/wangshi/UsbStorage/music/网易云音乐/Caro Emerald/',\n",
       " '/media/wangshi/UsbStorage/music/网易云音乐/Caro Emerald/',\n",
       " '/media/wangshi/UsbStorage/music/网易云音乐/Caro Emerald/',\n",
       " '/media/wangshi/UsbStorage/music/网易云音乐/Caro Emerald/',\n",
       " '/media/wangshi/UsbStorage/music/网易云音乐/Caro Emerald/',\n",
       " '/media/wangshi/UsbStorage/music/网易云音乐/Caro Emerald/',\n",
       " '/media/wangshi/UsbStorage/music/网易云音乐/Caro Emerald/',\n",
       " '/media/wangshi/UsbStorage/music/网易云音乐/Carpenters/',\n",
       " '/media/wangshi/UsbStorage/music/网易云音乐/Carpenters/',\n",
       " '/media/wangshi/UsbStorage/music/网易云音乐/Charlie Landsborough/',\n",
       " '/media/wangshi/UsbStorage/music/网易云音乐/Charlie Landsborough/',\n",
       " '/media/wangshi/UsbStorage/music/网易云音乐/Chuck Berry/',\n",
       " '/media/wangshi/UsbStorage/music/网易云音乐/Creedence Clearwater Revival/',\n",
       " '/media/wangshi/UsbStorage/music/网易云音乐/Danny Elfman/',\n",
       " '/media/wangshi/UsbStorage/music/网易云音乐/David Garrett/',\n",
       " '/media/wangshi/UsbStorage/music/网易云音乐/David Munyon/',\n",
       " '/media/wangshi/UsbStorage/music/网易云音乐/David Munyon/',\n",
       " '/media/wangshi/UsbStorage/music/网易云音乐/Dawn/',\n",
       " '/media/wangshi/UsbStorage/music/网易云音乐/Dolly Parton/',\n",
       " '/media/wangshi/UsbStorage/music/网易云音乐/Doris Day/',\n",
       " '/media/wangshi/UsbStorage/music/网易云音乐/Edith Piaf/',\n",
       " '/media/wangshi/UsbStorage/music/网易云音乐/Eleni Karaindrou/',\n",
       " '/media/wangshi/UsbStorage/music/网易云音乐/Elsa Kopf/',\n",
       " '/media/wangshi/UsbStorage/music/网易云音乐/Elvis Presley/',\n",
       " '/media/wangshi/UsbStorage/music/网易云音乐/Elvis Presley/',\n",
       " '/media/wangshi/UsbStorage/music/网易云音乐/Elvis Presley/',\n",
       " '/media/wangshi/UsbStorage/music/网易云音乐/Elvis Presley/',\n",
       " '/media/wangshi/UsbStorage/music/网易云音乐/Ennio Morricone/',\n",
       " '/media/wangshi/UsbStorage/music/网易云音乐/Enya/',\n",
       " '/media/wangshi/UsbStorage/music/网易云音乐/Enya/',\n",
       " '/media/wangshi/UsbStorage/music/网易云音乐/Five for Fighting/',\n",
       " '/media/wangshi/UsbStorage/music/网易云音乐/Fools Garden/',\n",
       " '/media/wangshi/UsbStorage/music/网易云音乐/French Accordion/',\n",
       " '/media/wangshi/UsbStorage/music/网易云音乐/French Accordion/',\n",
       " '/media/wangshi/UsbStorage/music/网易云音乐/French Accordion/',\n",
       " '/media/wangshi/UsbStorage/music/网易云音乐/French Accordion/',\n",
       " '/media/wangshi/UsbStorage/music/网易云音乐/French Accordion/',\n",
       " '/media/wangshi/UsbStorage/music/网易云音乐/French Accordion/',\n",
       " '/media/wangshi/UsbStorage/music/网易云音乐/French Accordion/',\n",
       " '/media/wangshi/UsbStorage/music/网易云音乐/George Winston/',\n",
       " '/media/wangshi/UsbStorage/music/网易云音乐/Gin Wigmore/',\n",
       " '/media/wangshi/UsbStorage/music/网易云音乐/Gin Wigmore/',\n",
       " '/media/wangshi/UsbStorage/music/网易云音乐/Gérard Darmon/',\n",
       " '/media/wangshi/UsbStorage/music/网易云音乐/Hank Williams/',\n",
       " '/media/wangshi/UsbStorage/music/网易云音乐/Hank Williams/',\n",
       " '/media/wangshi/UsbStorage/music/网易云音乐/Hank Williams/',\n",
       " '/media/wangshi/UsbStorage/music/网易云音乐/Hank Williams/',\n",
       " '/media/wangshi/UsbStorage/music/网易云音乐/Hank Williams/',\n",
       " '/media/wangshi/UsbStorage/music/网易云音乐/Hank Williams/',\n",
       " '/media/wangshi/UsbStorage/music/网易云音乐/Imany/',\n",
       " '/media/wangshi/UsbStorage/music/网易云音乐/Jack Johnson/',\n",
       " '/media/wangshi/UsbStorage/music/网易云音乐/James Horner/',\n",
       " '/media/wangshi/UsbStorage/music/网易云音乐/Jim Reeves/',\n",
       " '/media/wangshi/UsbStorage/music/网易云音乐/Jim Reeves/',\n",
       " '/media/wangshi/UsbStorage/music/网易云音乐/Jim Reeves/',\n",
       " '/media/wangshi/UsbStorage/music/网易云音乐/John Denver/',\n",
       " '/media/wangshi/UsbStorage/music/网易云音乐/John Denver/',\n",
       " '/media/wangshi/UsbStorage/music/网易云音乐/John Denver/',\n",
       " '/media/wangshi/UsbStorage/music/网易云音乐/Johnny Cash/',\n",
       " '/media/wangshi/UsbStorage/music/网易云音乐/Jojo Effect/',\n",
       " '/media/wangshi/UsbStorage/music/网易云音乐/Joyce Jonathan/',\n",
       " '/media/wangshi/UsbStorage/music/网易云音乐/Joyce Jonathan/',\n",
       " '/media/wangshi/UsbStorage/music/网易云音乐/Lena/',\n",
       " '/media/wangshi/UsbStorage/music/网易云音乐/Lenka/',\n",
       " '/media/wangshi/UsbStorage/music/网易云音乐/Leonard Cohen/',\n",
       " '/media/wangshi/UsbStorage/music/网易云音乐/Leonard Cohen/',\n",
       " '/media/wangshi/UsbStorage/music/网易云音乐/Leonard Cohen/',\n",
       " '/media/wangshi/UsbStorage/music/网易云音乐/Lily Allen/',\n",
       " '/media/wangshi/UsbStorage/music/网易云音乐/Lily Allen/',\n",
       " '/media/wangshi/UsbStorage/music/网易云音乐/Lou Bega/',\n",
       " '/media/wangshi/UsbStorage/music/网易云音乐/Lou Bega/',\n",
       " '/media/wangshi/UsbStorage/music/网易云音乐/Lyre le Temps/',\n",
       " '/media/wangshi/UsbStorage/music/网易云音乐/Mark Knopfler/',\n",
       " '/media/wangshi/UsbStorage/music/网易云音乐/Maroon 5/',\n",
       " '/media/wangshi/UsbStorage/music/网易云音乐/Maroon 5/',\n",
       " '/media/wangshi/UsbStorage/music/网易云音乐/Matt Dusk/',\n",
       " '/media/wangshi/UsbStorage/music/网易云音乐/Michel Teló/',\n",
       " '/media/wangshi/UsbStorage/music/网易云音乐/Miss Li/',\n",
       " '/media/wangshi/UsbStorage/music/网易云音乐/MOCCA/',\n",
       " '/media/wangshi/UsbStorage/music/网易云音乐/Nana Mouskouri/',\n",
       " '/media/wangshi/UsbStorage/music/网易云音乐/Nat King Cole/',\n",
       " '/media/wangshi/UsbStorage/music/网易云音乐/Nat King Cole/',\n",
       " '/media/wangshi/UsbStorage/music/网易云音乐/One Direction/',\n",
       " '/media/wangshi/UsbStorage/music/网易云音乐/OneRepublic/',\n",
       " '/media/wangshi/UsbStorage/music/网易云音乐/Otros Aires/',\n",
       " '/media/wangshi/UsbStorage/music/网易云音乐/Paralyzed Veterans of America/',\n",
       " '/media/wangshi/UsbStorage/music/网易云音乐/Paris Combo/',\n",
       " '/media/wangshi/UsbStorage/music/网易云音乐/Parov Stelar/',\n",
       " '/media/wangshi/UsbStorage/music/网易云音乐/Parov Stelar/',\n",
       " '/media/wangshi/UsbStorage/music/网易云音乐/Parov Stelar/',\n",
       " '/media/wangshi/UsbStorage/music/网易云音乐/Peppi Kamadhatu/',\n",
       " '/media/wangshi/UsbStorage/music/网易云音乐/Peter, Paul & Mary/',\n",
       " '/media/wangshi/UsbStorage/music/网易云音乐/Pink Martini/',\n",
       " '/media/wangshi/UsbStorage/music/网易云音乐/Raphaël Beau/',\n",
       " '/media/wangshi/UsbStorage/music/网易云音乐/Rod Stewart/',\n",
       " '/media/wangshi/UsbStorage/music/网易云音乐/Sarah McLachlan/',\n",
       " '/media/wangshi/UsbStorage/music/网易云音乐/Simon & Garfunkel/',\n",
       " '/media/wangshi/UsbStorage/music/网易云音乐/Skeeter Davis/',\n",
       " '/media/wangshi/UsbStorage/music/网易云音乐/Soundtrack/',\n",
       " '/media/wangshi/UsbStorage/music/网易云音乐/Soundtrack/',\n",
       " '/media/wangshi/UsbStorage/music/网易云音乐/Soundtrack/',\n",
       " '/media/wangshi/UsbStorage/music/网易云音乐/Soundtrack/',\n",
       " '/media/wangshi/UsbStorage/music/网易云音乐/Stella Starlight Trio/',\n",
       " '/media/wangshi/UsbStorage/music/网易云音乐/Stéphane Pompougnac/',\n",
       " '/media/wangshi/UsbStorage/music/网易云音乐/Tape Five/',\n",
       " '/media/wangshi/UsbStorage/music/网易云音乐/Tape Five/',\n",
       " '/media/wangshi/UsbStorage/music/网易云音乐/Tape Five/',\n",
       " '/media/wangshi/UsbStorage/music/网易云音乐/Tape Five/',\n",
       " '/media/wangshi/UsbStorage/music/网易云音乐/The Beatles/',\n",
       " '/media/wangshi/UsbStorage/music/网易云音乐/The Beatles/',\n",
       " '/media/wangshi/UsbStorage/music/网易云音乐/The Beatles/',\n",
       " '/media/wangshi/UsbStorage/music/网易云音乐/The Beatles/',\n",
       " '/media/wangshi/UsbStorage/music/网易云音乐/The Beatles/',\n",
       " '/media/wangshi/UsbStorage/music/网易云音乐/The Brothers Four/',\n",
       " '/media/wangshi/UsbStorage/music/网易云音乐/The Brothers Four/',\n",
       " '/media/wangshi/UsbStorage/music/网易云音乐/The Brothers Four/',\n",
       " '/media/wangshi/UsbStorage/music/网易云音乐/The Carpenters/',\n",
       " '/media/wangshi/UsbStorage/music/网易云音乐/Tim Tim/',\n",
       " '/media/wangshi/UsbStorage/music/网易云音乐/Tim Tim/',\n",
       " '/media/wangshi/UsbStorage/music/网易云音乐/Various Artists/',\n",
       " '/media/wangshi/UsbStorage/music/网易云音乐/Various Artists/',\n",
       " '/media/wangshi/UsbStorage/music/网易云音乐/Various Artists/',\n",
       " '/media/wangshi/UsbStorage/music/网易云音乐/Various Artists/',\n",
       " '/media/wangshi/UsbStorage/music/网易云音乐/Various Artists/',\n",
       " '/media/wangshi/UsbStorage/music/网易云音乐/Various Artists/',\n",
       " '/media/wangshi/UsbStorage/music/网易云音乐/Various Artists/',\n",
       " '/media/wangshi/UsbStorage/music/网易云音乐/Various Artists/',\n",
       " '/media/wangshi/UsbStorage/music/网易云音乐/Various Artists/',\n",
       " '/media/wangshi/UsbStorage/music/网易云音乐/Various Artists/',\n",
       " '/media/wangshi/UsbStorage/music/网易云音乐/Various Artists/',\n",
       " '/media/wangshi/UsbStorage/music/网易云音乐/Various Artists/',\n",
       " '/media/wangshi/UsbStorage/music/网易云音乐/Various Artists/',\n",
       " '/media/wangshi/UsbStorage/music/网易云音乐/Various Artists/',\n",
       " '/media/wangshi/UsbStorage/music/网易云音乐/Various Artists/',\n",
       " '/media/wangshi/UsbStorage/music/网易云音乐/Various Artists/',\n",
       " '/media/wangshi/UsbStorage/music/网易云音乐/Westlife/',\n",
       " '/media/wangshi/UsbStorage/music/网易云音乐/Yann Tiersen/',\n",
       " '/media/wangshi/UsbStorage/music/网易云音乐/Yann Tiersen/',\n",
       " '/media/wangshi/UsbStorage/music/网易云音乐/Yann Tiersen/',\n",
       " '/media/wangshi/UsbStorage/music/网易云音乐/Yann Tiersen/',\n",
       " '/media/wangshi/UsbStorage/music/网易云音乐/Yann Tiersen/',\n",
       " '/media/wangshi/UsbStorage/music/网易云音乐/Yolanda Be Cool/',\n",
       " '/media/wangshi/UsbStorage/music/网易云音乐/久石譲/',\n",
       " '/media/wangshi/UsbStorage/music/网易云音乐/久石譲/',\n",
       " '/media/wangshi/UsbStorage/music/网易云音乐/久石譲/',\n",
       " '/media/wangshi/UsbStorage/music/网易云音乐/久石譲/',\n",
       " '/media/wangshi/UsbStorage/music/网易云音乐/久石譲/',\n",
       " '/media/wangshi/UsbStorage/music/网易云音乐/理查德.克莱德曼/',\n",
       " '/media/wangshi/UsbStorage/music/网易云音乐/群星/',\n",
       " '/media/wangshi/UsbStorage/music/网易云音乐/群星/',\n",
       " '/media/wangshi/UsbStorage/music/网易云音乐/群星/',\n",
       " '/media/wangshi/UsbStorage/music/网易云音乐/群星/']"
      ]
     },
     "execution_count": 8,
     "metadata": {},
     "output_type": "execute_result"
    }
   ],
   "source": [
    "music4 = []\n",
    "for i in range(0, len(music1)-1):\n",
    "    for j in range(0,len(music2[i])-1):\n",
    "        music4.append(music1[i])\n",
    "music4"
   ]
  },
  {
   "cell_type": "code",
   "execution_count": 9,
   "metadata": {
    "collapsed": false
   },
   "outputs": [
    {
     "name": "stdout",
     "output_type": "stream",
     "text": [
      "/media/wangshi/UsbStorage/music/网易云音乐/Boney M/Alexandre Desplat - Mr. Moustafa.mp3\n",
      "/media/wangshi/UsbStorage/music/网易云音乐/Caravan Palace/Allan Taylor - All Is One Start.mp3\n",
      "/media/wangshi/UsbStorage/music/网易云音乐/Caravan Palace/Allan Taylor - The Tennessee Waltz.mp3\n",
      "/media/wangshi/UsbStorage/music/网易云音乐/Caro Emerald/Analogik - Gypsy Doodle (1).mp3\n",
      "/media/wangshi/UsbStorage/music/网易云音乐/Caro Emerald/Andy Williams - Raindrops Keep Falling on My Head.mp3\n",
      "/media/wangshi/UsbStorage/music/网易云音乐/Caro Emerald/Andy Williams - Where Do I Begin.mp3\n",
      "/media/wangshi/UsbStorage/music/网易云音乐/Charlie Landsborough/Chronicles\n",
      "/media/wangshi/UsbStorage/music/网易云音乐/Doris Day/Bobby Vinton - Mr. Lonely.mp3\n",
      "/media/wangshi/UsbStorage/music/网易云音乐/Doris Day/Bobby Vinton - Sealed With a Kiss.mp3\n",
      "/media/wangshi/UsbStorage/music/网易云音乐/Edith Piaf/Boney M. - Rivers Of Babylon.mp3\n",
      "/media/wangshi/UsbStorage/music/网易云音乐/Elvis Presley/Brian Hyland - Itsy Bitsy Teenie Weenie Yellow Polkadot Bikini.mp3\n",
      "/media/wangshi/UsbStorage/music/网易云音乐/Enya/Cab Canavaral - Swing What You Got (Cab Canavaral Remix Extended) - remix (1).mp3\n",
      "/media/wangshi/UsbStorage/music/网易云音乐/French Accordion/Caravan Palace - Jolie Coquine (1).mp3\n",
      "/media/wangshi/UsbStorage/music/网易云音乐/French Accordion/Caro Emerald - A Night Like This (1).mp3\n",
      "/media/wangshi/UsbStorage/music/网易云音乐/French Accordion/Caro Emerald - A Night Like This.mp3\n",
      "/media/wangshi/UsbStorage/music/网易云音乐/French Accordion/Caro Emerald - Dr. Wanna Do (1).mp3\n",
      "/media/wangshi/UsbStorage/music/网易云音乐/French Accordion/Caro Emerald - Dr. Wanna Do.mp3\n",
      "/media/wangshi/UsbStorage/music/网易云音乐/French Accordion/Caro Emerald - Liquid Lunch (1).mp3\n",
      "/media/wangshi/UsbStorage/music/网易云音乐/French Accordion/Caro Emerald - Liquid Lunch.mp3\n",
      "/media/wangshi/UsbStorage/music/网易云音乐/French Accordion/Caro Emerald - Pack Up the Louie.mp3\n",
      "/media/wangshi/UsbStorage/music/网易云音乐/French Accordion/Caro Emerald - Paris.mp3\n",
      "/media/wangshi/UsbStorage/music/网易云音乐/French Accordion/Caro Emerald - Stuck.mp3\n",
      "/media/wangshi/UsbStorage/music/网易云音乐/French Accordion/Caro Emerald - That Man.mp3\n",
      "/media/wangshi/UsbStorage/music/网易云音乐/French Accordion/Caro Emerald - The Lipstick On His Collar (1).mp3\n",
      "/media/wangshi/UsbStorage/music/网易云音乐/French Accordion/Caro Emerald - The Lipstick On His Collar.mp3\n",
      "/media/wangshi/UsbStorage/music/网易云音乐/French Accordion/40／40\n",
      "/media/wangshi/UsbStorage/music/网易云音乐/French Accordion/Their Greatest Hits\n",
      "/media/wangshi/UsbStorage/music/网易云音乐/Gin Wigmore/Charlie Landsborough - Aud Lang Syne.mp3\n",
      "/media/wangshi/UsbStorage/music/网易云音乐/Gin Wigmore/Charlie Landsborough - Mary's Boy Child.mp3\n",
      "/media/wangshi/UsbStorage/music/网易云音乐/Hank Williams/Chuck Berry - You Never Can Tell.mp3\n",
      "/media/wangshi/UsbStorage/music/网易云音乐/Imany/Creedence Clearwater Revival - I Heard It Through the Grapevine.mp3\n",
      "/media/wangshi/UsbStorage/music/网易云音乐/James Horner/Danny Elfman - Everyday.mp3\n",
      "/media/wangshi/UsbStorage/music/网易云音乐/Jim Reeves/David Garrett - Humoresque.mp3\n",
      "/media/wangshi/UsbStorage/music/网易云音乐/John Denver/David Munyon - Miles.mp3\n",
      "/media/wangshi/UsbStorage/music/网易云音乐/John Denver/David Munyon - Prayers Of Elvis Presley.mp3\n",
      "/media/wangshi/UsbStorage/music/网易云音乐/John Denver/Dawn - Tie A Yellow Ribbon Round The Old Oak Tree.mp3\n",
      "/media/wangshi/UsbStorage/music/网易云音乐/Leonard Cohen/Dolly Parton - Coat Of Many Colors.mp3\n",
      "/media/wangshi/UsbStorage/music/网易云音乐/Lily Allen/Doris Day - Whatever Will Be, Will Be.mp3\n",
      "/media/wangshi/UsbStorage/music/网易云音乐/Matt Dusk/La Vie en Rose： La Môme\n",
      "/media/wangshi/UsbStorage/music/网易云音乐/Michel Teló/O Melissokomos\n",
      "/media/wangshi/UsbStorage/music/网易云音乐/MOCCA/Elsa Kopf - Candy Street.mp3\n",
      "/media/wangshi/UsbStorage/music/网易云音乐/Nat King Cole/Elvis Presley - Are You Lonesome Tonight？.mp3\n",
      "/media/wangshi/UsbStorage/music/网易云音乐/Nat King Cole/Elvis Presley - Can't Help Falling in Love.mp3\n",
      "/media/wangshi/UsbStorage/music/网易云音乐/Nat King Cole/Elvis Presley - Jailhouse Rock.mp3\n",
      "/media/wangshi/UsbStorage/music/网易云音乐/Nat King Cole/Elvis Presley - Such a Night - High Quality Restoration Remastering.mp3\n",
      "/media/wangshi/UsbStorage/music/网易云音乐/Otros Aires/Ennio Morricone - 1900's Madness #1.mp3\n",
      "/media/wangshi/UsbStorage/music/网易云音乐/Paris Combo/A Box of Dreams\n",
      "/media/wangshi/UsbStorage/music/网易云音乐/Paris Combo/A Day Without Rain\n",
      "/media/wangshi/UsbStorage/music/网易云音乐/Peter, Paul & Mary/Five for Fighting - Tuesday (1).mp3\n",
      "/media/wangshi/UsbStorage/music/网易云音乐/Rod Stewart/Fools Garden - Lemon Tree.mp3\n",
      "/media/wangshi/UsbStorage/music/网易云音乐/Soundtrack/French Accordion - Commissaire Maigret Theme.mp3\n",
      "/media/wangshi/UsbStorage/music/网易云音乐/Soundtrack/French Accordion - La Defence.mp3\n",
      "/media/wangshi/UsbStorage/music/网易云音乐/Soundtrack/French Accordion - La Java Va Bien.mp3\n",
      "/media/wangshi/UsbStorage/music/网易云音乐/Soundtrack/French Accordion - La Vie En Rose.mp3\n",
      "/media/wangshi/UsbStorage/music/网易云音乐/Soundtrack/French Accordion - Paris Canaille.mp3\n",
      "/media/wangshi/UsbStorage/music/网易云音乐/Soundtrack/French Accordion - Reine De Musette.mp3\n",
      "/media/wangshi/UsbStorage/music/网易云音乐/Soundtrack/French Accordion - The Last Waltz.mp3\n",
      "/media/wangshi/UsbStorage/music/网易云音乐/Tape Five/December\n",
      "/media/wangshi/UsbStorage/music/网易云音乐/Tape Five/Gin Wigmore - Hey Ho.mp3\n",
      "/media/wangshi/UsbStorage/music/网易云音乐/Tape Five/Gin Wigmore - Written In the Water (1).mp3\n",
      "/media/wangshi/UsbStorage/music/网易云音乐/The Beatles/Gérard Darmon - And the Winner Is.mp3\n",
      "/media/wangshi/UsbStorage/music/网易云音乐/The Brothers Four/Hank Williams - I Just Don't Like This Kind of Living.mp3\n",
      "/media/wangshi/UsbStorage/music/网易云音乐/The Brothers Four/Hank Williams - I Saw The Light.mp3\n",
      "/media/wangshi/UsbStorage/music/网易云音乐/The Brothers Four/Hank Williams - Jambalaya.mp3\n",
      "/media/wangshi/UsbStorage/music/网易云音乐/The Brothers Four/Hank Williams - Long Gone Lonesome Blues.mp3\n",
      "/media/wangshi/UsbStorage/music/网易云音乐/The Brothers Four/Hank Williams - Lost Highway.mp3\n",
      "/media/wangshi/UsbStorage/music/网易云音乐/The Brothers Four/Hank Williams - Lovesick Blues.mp3\n",
      "/media/wangshi/UsbStorage/music/网易云音乐/Various Artists/Imany - Take Care (1).mp3\n",
      "/media/wangshi/UsbStorage/music/网易云音乐/Various Artists/Jack Johnson - Escape (The Pina Colada Song).mp3\n",
      "/media/wangshi/UsbStorage/music/网易云音乐/Various Artists/James Horner - Alfred Moves To Helena.mp3\n",
      "/media/wangshi/UsbStorage/music/网易云音乐/Various Artists/Jim Reeves - Four Walls.mp3\n",
      "/media/wangshi/UsbStorage/music/网易云音乐/Various Artists/Jim Reeves - This World Is Not My Home.mp3\n",
      "/media/wangshi/UsbStorage/music/网易云音乐/Various Artists/Love Songs\n",
      "/media/wangshi/UsbStorage/music/网易云音乐/Yann Tiersen/John Denver - Take Me Home Country Roads (1).mp3\n",
      "/media/wangshi/UsbStorage/music/网易云音乐/Yann Tiersen/John Denver - Take Me Home Country Roads.mp3\n",
      "/media/wangshi/UsbStorage/music/网易云音乐/Yann Tiersen/John Denver - Take Me Home,Country Roads.mp3\n",
      "/media/wangshi/UsbStorage/music/网易云音乐/久石譲/Man in Black\n",
      "/media/wangshi/UsbStorage/music/网易云音乐/久石譲/Jojo Effect - Volcano (1).mp3\n",
      "/media/wangshi/UsbStorage/music/网易云音乐/群星/Ca Ira\n",
      "/media/wangshi/UsbStorage/music/网易云音乐/群星/Caractère\n"
     ]
    }
   ],
   "source": [
    "music5 = []\n",
    "for i in range(0, len(music4)-1):\n",
    "    for j in range(0, len(music2[i])-1):\n",
    "        print (music4[i] + music2[i][j])"
   ]
  }
 ],
 "metadata": {
  "kernelspec": {
   "display_name": "Python 3",
   "language": "python",
   "name": "python3"
  },
  "language_info": {
   "codemirror_mode": {
    "name": "ipython",
    "version": 3
   },
   "file_extension": ".py",
   "mimetype": "text/x-python",
   "name": "python",
   "nbconvert_exporter": "python",
   "pygments_lexer": "ipython3",
   "version": "3.5.1"
  }
 },
 "nbformat": 4,
 "nbformat_minor": 0
}
