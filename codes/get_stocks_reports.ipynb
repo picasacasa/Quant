{
 "cells": [
  {
   "cell_type": "code",
   "execution_count": 1,
   "metadata": {
    "collapsed": false
   },
   "outputs": [
    {
     "name": "stdout",
     "output_type": "stream",
     "text": [
      "+--------------------+\n",
      "2016-08-18 23:39:25.870964\n"
     ]
    }
   ],
   "source": [
    "# coding: utf-8\n",
    "from datetime import datetime\n",
    "start_time = datetime.now()\n",
    "\n",
    "print('+--------------------+')\n",
    "print(datetime.now())\n",
    "from bs4 import BeautifulSoup\n",
    "import requests, urllib, os, shutil, json\n",
    "import pandas as pd"
   ]
  },
  {
   "cell_type": "code",
   "execution_count": 2,
   "metadata": {
    "collapsed": true
   },
   "outputs": [],
   "source": [
    "stock_codes = ['000538',]\n",
    "page_number = 1"
   ]
  },
  {
   "cell_type": "code",
   "execution_count": null,
   "metadata": {
    "collapsed": true
   },
   "outputs": [],
   "source": [
    "def get_stock_report_list(stock_codes,):\n",
    "    \n",
    "    from bs4 import BeautifulSoup\n",
    "    import requests, urllib, os, shutil, json\n",
    "    import pandas as pd\n",
    "    \n",
    "    data0 = None\n",
    "    \n",
    "    for i in stock_codes:\n",
    "        url_stock = 'http://data.eastmoney.com/report/' + i + '.html'\n",
    "        url_data = 'http://datainterface.eastmoney.com//EM_DataCenter/js.aspx?type=SR&sty=GGSR&js=var%20PrnJnSby={%22data%22:[(x)],%22pages%22:%22(pc)%22,%22update%22:%22(ud)%22,%22count%22:%22(count)%22}&ps=25&p'+ str(page_number) + '&code=' + i\n",
    "        html_doc = urllib.request.urlopen(url_data).read()\n",
    "        soup0 = BeautifulSoup(html_doc, \"lxml\")\n",
    "        jsontext = json.loads(soup0.text.split('=')[1])\n",
    "        data0 = pd.DataFrame(jsontext['data'])\n",
    "        data0.index = data0['infoCode']\n",
    "        data0.index.name = 'infoCode'\n",
    "        datat.append(data0)\n",
    "        \n",
    "    return datat"
   ]
  },
  {
   "cell_type": "code",
   "execution_count": null,
   "metadata": {
    "collapsed": true
   },
   "outputs": [],
   "source": []
  },
  {
   "cell_type": "code",
   "execution_count": 5,
   "metadata": {
    "collapsed": false
   },
   "outputs": [],
   "source": [
    "url_stock = 'http://data.eastmoney.com/report/' + stock_codes[0] + '.html'\n",
    "url_data = 'http://datainterface.eastmoney.com//EM_DataCenter/js.aspx?type=SR&sty=GGSR&js=var%20PrnJnSby={%22data%22:[(x)],%22pages%22:%22(pc)%22,%22update%22:%22(ud)%22,%22count%22:%22(count)%22}&ps=25&p'+ str(page_number) + '&code=' + stock_codes[0]"
   ]
  },
  {
   "cell_type": "code",
   "execution_count": 6,
   "metadata": {
    "collapsed": false
   },
   "outputs": [
    {
     "data": {
      "text/plain": [
       "'http://datainterface.eastmoney.com//EM_DataCenter/js.aspx?type=SR&sty=GGSR&js=var%20PrnJnSby={%22data%22:[(x)],%22pages%22:%22(pc)%22,%22update%22:%22(ud)%22,%22count%22:%22(count)%22}&ps=25&p1&code=000538'"
      ]
     },
     "execution_count": 6,
     "metadata": {},
     "output_type": "execute_result"
    }
   ],
   "source": [
    "url_data"
   ]
  },
  {
   "cell_type": "code",
   "execution_count": 7,
   "metadata": {
    "collapsed": true
   },
   "outputs": [],
   "source": [
    "html_doc = urllib.request.urlopen(url_data).read()"
   ]
  },
  {
   "cell_type": "code",
   "execution_count": 8,
   "metadata": {
    "collapsed": false
   },
   "outputs": [
    {
     "data": {
      "text/plain": [
       "b'var PrnJnSby={\"data\":[{\"author\":\"\\xe7\\xa0\\x94\\xe7\\xa9\\xb6\\xe9\\x83\\xa8\",\"change\":\"\",\"companyCode\":\"10000880\",\"datetime\":\"2016-05-06T16:48:23\",\"infoCode\":\"APPH3krGmemfASearchReport\",\"insCode\":\"80000119\",\"insName\":\"\\xe7\\xbe\\xa4\\xe7\\x9b\\x8a\\xe8\\xaf\\x81\\xe5\\x88\\xb8\",\"insStar\":\"1\",\"jlrs\":[\"3113000000\",\"3556000000\",\"\",\"\",\"\"],\"rate\":\"\\xe5\\xa2\\x9e\\xe6\\x8c\\x81\",\"secuFullCode\":\"000538.SZ\",\"secuName\":\"\\xe4\\xba\\x91\\xe5\\x8d\\x97\\xe7\\x99\\xbd\\xe8\\x8d\\xaf\",\"sratingName\":\"\\xe4\\xb9\\xb0\\xe5\\x85\\xa5\",\"sy\":\"2.6600\",\"syls\":[\"23\",\"\",\"\",\"\",\"\"],\"sys\":[\"2.99\",\"3.42\",\"\",\"\",\"\"],\"title\":\"2016\\xe5\\xb9\\xb41Q\\xe4\\xb8\\x9a\\xe7\\xbb\\xa9\\xe7\\x95\\xa5\\xe7\\xac\\xa6\\xe5\\x90\\x88\\xe9\\xa0\\x90\\xe6\\x9c\\x9f\\xef\\xbc\\x8c\\xe9\\x95\\xbf\\xe6\\x9c\\x9f\\xe7\\x9c\\x8b\\xe5\\xa5\\xbd\\xe5\\xa4\\xa7\\xe5\\x81\\xa5\\xe5\\xba\\xb7\\xe4\\xba\\xa7\\xe4\\xb8\\x9a\\xe5\\x8f\\x91\\xe5\\xb1\\x95\",\"profitYear\":\"2015\",\"type\":\"1\",\"newPrice\":\"69.23\"},{\"author\":\"\\xe9\\x97\\xab\\xe6\\xb0\\xb8\\xe6\\xad\\xa3\",\"change\":\"\",\"companyCode\":\"10000880\",\"datetime\":\"2016-04-28T10:32:18\",\"infoCode\":\"APPH3SMFKGesASearchReport\",\"insCode\":\"80000119\",\"insName\":\"\\xe7\\xbe\\xa4\\xe7\\x9b\\x8a\\xe8\\xaf\\x81\\xe5\\x88\\xb8\",\"insStar\":\"1\",\"jlrs\":[\"3113000000\",\"3556000000\",\"\",\"\",\"\"],\"rate\":\"\\xe5\\xa2\\x9e\\xe6\\x8c\\x81\",\"secuFullCode\":\"000538.SZ\",\"secuName\":\"\\xe4\\xba\\x91\\xe5\\x8d\\x97\\xe7\\x99\\xbd\\xe8\\x8d\\xaf\",\"sratingName\":\"\\xe4\\xb9\\xb0\\xe5\\x85\\xa5\",\"sy\":\"2.6600\",\"syls\":[\"23\",\"\",\"\",\"\",\"\"],\"sys\":[\"2.99\",\"3.42\",\"\",\"\",\"\"],\"title\":\"2016\\xe5\\xb9\\xb41Q\\xe4\\xb8\\x9a\\xe7\\xbb\\xa9\\xe7\\x95\\xa5\\xe7\\xac\\xa6\\xe5\\x90\\x88\\xe9\\xa2\\x84\\xe6\\x9c\\x9f\\xef\\xbc\\x8c\\xe9\\x95\\xbf\\xe6\\x9c\\x9f\\xe7\\x9c\\x8b\\xe5\\xa5\\xbd\\xe5\\xa4\\xa7\\xe5\\x81\\xa5\\xe5\\xba\\xb7\\xe4\\xba\\xa7\\xe4\\xb8\\x9a\\xe5\\x8f\\x91\\xe5\\xb1\\x95\",\"profitYear\":\"2015\",\"type\":\"1\",\"newPrice\":\"69.23\"},{\"author\":\"\\xe5\\xbc\\xa0\\xe6\\x98\\x8e\\xe8\\x8a\\xb3\",\"change\":\"\\xe7\\xbb\\xb4\\xe6\\x8c\\x81\",\"companyCode\":\"10000880\",\"datetime\":\"2016-04-28T17:07:12\",\"infoCode\":\"APPH3SMFKJDdASearchReport\",\"insCode\":\"80000074\",\"insName\":\"\\xe5\\x85\\x89\\xe5\\xa4\\xa7\\xe8\\xaf\\x81\\xe5\\x88\\xb8\",\"insStar\":\"5\",\"jlrs\":[\"3169630000\",\"3583200000\",\"3959660000\",\"\",\"\"],\"rate\":\"\\xe6\\x8c\\x81\\xe6\\x9c\\x89\",\"secuFullCode\":\"000538.SZ\",\"secuName\":\"\\xe4\\xba\\x91\\xe5\\x8d\\x97\\xe7\\x99\\xbd\\xe8\\x8d\\xaf\",\"sratingName\":\"\\xe5\\xa2\\x9e\\xe6\\x8c\\x81\",\"sy\":\"2.6600\",\"syls\":[\"20\",\"18\",\"16\",\"\",\"\"],\"sys\":[\"2.95\",\"3.33\",\"3.68\",\"\",\"\"],\"title\":\"\\xe6\\x94\\xb6\\xe5\\x85\\xa5\\xe5\\x88\\xa9\\xe6\\xb6\\xa6\\xe7\\xa8\\xb3\\xe5\\x81\\xa5\\xe5\\xa2\\x9e\\xe9\\x95\\xbf\\xef\\xbc\\x8c\\xe4\\xb8\\x89\\xe4\\xb8\\x83\\xe6\\xb6\\xa8\\xe4\\xbb\\xb7\\xe5\\xaf\\xbc\\xe8\\x87\\xb4\\xe6\\xaf\\x9b\\xe5\\x88\\xa9\\xe7\\x8e\\x87\\xe7\\x95\\xa5\\xe5\\xbe\\xae\\xe4\\xb8\\x8b\\xe9\\x99\\x8d\",\"profitYear\":\"2015\",\"type\":\"1\",\"newPrice\":\"69.23\"},{\"author\":\"\\xe9\\x97\\xab\\xe6\\xb0\\xb8\\xe6\\xad\\xa3\",\"change\":\"\",\"companyCode\":\"10000880\",\"datetime\":\"2016-04-21T10:17:28\",\"infoCode\":\"APPH3QhKULe5ASearchReport\",\"insCode\":\"80000119\",\"insName\":\"\\xe7\\xbe\\xa4\\xe7\\x9b\\x8a\\xe8\\xaf\\x81\\xe5\\x88\\xb8\",\"insStar\":\"1\",\"jlrs\":[\"3192000000\",\"3727000000\",\"\",\"\",\"\"],\"rate\":\"\\xe5\\xa2\\x9e\\xe6\\x8c\\x81\",\"secuFullCode\":\"000538.SZ\",\"secuName\":\"\\xe4\\xba\\x91\\xe5\\x8d\\x97\\xe7\\x99\\xbd\\xe8\\x8d\\xaf\",\"sratingName\":\"\\xe4\\xb9\\xb0\\xe5\\x85\\xa5\",\"sy\":\"2.6600\",\"syls\":[\"23\",\"\",\"\",\"\",\"\"],\"sys\":[\"3.07\",\"3.58\",\"\",\"\",\"\"],\"title\":\"2015\\xe5\\xb9\\xb4\\xe4\\xb8\\x9a\\xe7\\xbb\\xa9\\xe7\\x95\\xa5\\xe7\\xac\\xa6\\xe5\\x90\\x88\\xe9\\xa2\\x84\\xe6\\x9c\\x9f\\xef\\xbc\\x8c\\xe9\\x95\\xbf\\xe6\\x9c\\x9f\\xe7\\x9c\\x8b\\xe5\\xa5\\xbd\\xe5\\xa4\\xa7\\xe5\\x81\\xa5\\xe5\\xba\\xb7\\xe4\\xba\\xa7\\xe4\\xb8\\x9a\\xe5\\x8f\\x91\\xe5\\xb1\\x95\",\"profitYear\":\"2015\",\"type\":\"1\",\"newPrice\":\"69.23\"},{\"author\":\"\\xe5\\xbc\\xa0\\xe6\\x98\\x8e\\xe8\\x8a\\xb3\",\"change\":\"\\xe9\\xa6\\x96\\xe6\\xac\\xa1\",\"companyCode\":\"10000880\",\"datetime\":\"2016-04-21T15:22:35\",\"infoCode\":\"APPH3QhKUMs7ASearchReport\",\"insCode\":\"80000074\",\"insName\":\"\\xe5\\x85\\x89\\xe5\\xa4\\xa7\\xe8\\xaf\\x81\\xe5\\x88\\xb8\",\"insStar\":\"5\",\"jlrs\":[\"3176930000\",\"3578570000\",\"3960830000\",\"\",\"\"],\"rate\":\"\\xe6\\x8c\\x81\\xe6\\x9c\\x89\",\"secuFullCode\":\"000538.SZ\",\"secuName\":\"\\xe4\\xba\\x91\\xe5\\x8d\\x97\\xe7\\x99\\xbd\\xe8\\x8d\\xaf\",\"sratingName\":\"\\xe5\\xa2\\x9e\\xe6\\x8c\\x81\",\"sy\":\"2.6600\",\"syls\":[\"21\",\"18\",\"17\",\"\",\"\"],\"sys\":[\"2.95\",\"3.33\",\"3.68\",\"\",\"\"],\"title\":\"\\xe8\\x8d\\xaf\\xe5\\x93\\x81\\xe5\\xa2\\x9e\\xe9\\x95\\xbf\\xe7\\xa8\\xb3\\xe5\\x81\\xa5\\xef\\xbc\\x8c\\xe5\\xa4\\xa7\\xe5\\x81\\xa5\\xe5\\xba\\xb7\\xe5\\x92\\x8c\\xe4\\xb8\\xad\\xe8\\x8d\\xaf\\xe8\\xb5\\x84\\xe6\\xba\\x90\\xe4\\xba\\xa7\\xe5\\x93\\x81\\xe6\\x8c\\x81\\xe7\\xbb\\xad\\xe5\\xbf\\xab\\xe9\\x80\\x9f\\xe5\\xa2\\x9e\\xe9\\x95\\xbf\",\"profitYear\":\"2015\",\"type\":\"1\",\"newPrice\":\"69.23\"},{\"author\":\"\\xe5\\x88\\x98\\xe8\\x88\\x92\\xe7\\x95\\x85,\\xe9\\xbb\\x84\\xe4\\xbc\\x9f\\xe8\\xbd\\xa9\",\"change\":\"\\xe7\\xbb\\xb4\\xe6\\x8c\\x81\",\"companyCode\":\"10000880\",\"datetime\":\"2016-04-20T16:07:16\",\"infoCode\":\"APPH3QTLDnUUASearchReport\",\"insCode\":\"10001081\",\"insName\":\"\\xe9\\x95\\xbf\\xe6\\xb1\\x9f\\xe8\\xaf\\x81\\xe5\\x88\\xb8\",\"insStar\":\"4\",\"jlrs\":[\"3218500000\",\"3752900000\",\"4343100000\",\"\",\"\"],\"rate\":\"\\xe4\\xb9\\xb0\\xe5\\x85\\xa5\",\"secuFullCode\":\"000538.SZ\",\"secuName\":\"\\xe4\\xba\\x91\\xe5\\x8d\\x97\\xe7\\x99\\xbd\\xe8\\x8d\\xaf\",\"sratingName\":\"\\xe4\\xb9\\xb0\\xe5\\x85\\xa5\",\"sy\":\"2.6600\",\"syls\":[\"19.77\",\"16.95\",\"14.65\",\"\",\"\"],\"sys\":[\"3.09\",\"3.6\",\"4.17\",\"\",\"\"],\"title\":\"\\xe7\\x89\\x99\\xe8\\x86\\x8f\\xe5\\xbb\\xb6\\xe7\\xbb\\xad\\xe5\\xbf\\xab\\xe5\\xa2\\x9e\\xe9\\x95\\xbf\\xef\\xbc\\x8c\\xe7\\x9c\\x8b\\xe5\\xa5\\xbd\\xe5\\xa4\\xa7\\xe5\\x81\\xa5\\xe5\\xba\\xb7\\xe5\\xb8\\x83\\xe5\\xb1\\x80\",\"profitYear\":\"2015\",\"type\":\"1\",\"newPrice\":\"69.23\"},{\"author\":\"\\xe9\\x97\\xab\\xe6\\xb0\\xb8\\xe6\\xad\\xa3\",\"change\":\"\",\"companyCode\":\"10000880\",\"datetime\":\"2015-11-03T09:52:57\",\"infoCode\":\"APPGPycr36GVASearchReport\",\"insCode\":\"80000119\",\"insName\":\"\\xe7\\xbe\\xa4\\xe7\\x9b\\x8a\\xe8\\xaf\\x81\\xe5\\x88\\xb8\",\"insStar\":\"1\",\"jlrs\":[\"3304000000\",\"\",\"\",\"\",\"\"],\"rate\":\"\\xe5\\xa2\\x9e\\xe6\\x8c\\x81\",\"secuFullCode\":\"000538.SZ\",\"secuName\":\"\\xe4\\xba\\x91\\xe5\\x8d\\x97\\xe7\\x99\\xbd\\xe8\\x8d\\xaf\",\"sratingName\":\"\\xe4\\xb9\\xb0\\xe5\\x85\\xa5\",\"sy\":\"2.6600\",\"syls\":[\"25\",\"\",\"\",\"\",\"\"],\"sys\":[\"3.17\",\"\",\"\",\"\",\"\"],\"title\":\"1-3Q\\xe4\\xb8\\x9a\\xe7\\xbb\\xa9\\xe7\\x95\\xa5\\xe7\\xac\\xa6\\xe5\\x90\\x88\\xe9\\xa2\\x84\\xe6\\x9c\\x9f\\xef\\xbc\\x8c\\xe9\\x95\\xbf\\xe6\\x9c\\x9f\\xe7\\x9c\\x8b\\xe5\\xa5\\xbd\\xe5\\xa4\\xa7\\xe5\\x81\\xa5\\xe5\\xba\\xb7\\xe4\\xba\\xa7\\xe4\\xb8\\x9a\\xe5\\x8f\\x91\\xe5\\xb1\\x95\",\"profitYear\":\"2015\",\"type\":\"1\",\"newPrice\":\"69.23\"},{\"author\":\"\\xe9\\xad\\x8f\\xe5\\xb7\\x8d,\\xe9\\x82\\xb9\\xe6\\x95\\x8f,\\xe5\\x8f\\xb6\\xe5\\xaf\\x85\",\"change\":\"\\xe7\\xbb\\xb4\\xe6\\x8c\\x81\",\"companyCode\":\"10000880\",\"datetime\":\"2015-11-02T16:10:26\",\"infoCode\":\"APPGPyNrlZpwASearchReport\",\"insCode\":\"80000037\",\"insName\":\"\\xe5\\xb9\\xb3\\xe5\\xae\\x89\\xe8\\xaf\\x81\\xe5\\x88\\xb8\",\"insStar\":\"4\",\"jlrs\":[\"3403000000\",\"4022000000\",\"\",\"\",\"\"],\"rate\":\"\\xe5\\xa2\\x9e\\xe6\\x8c\\x81\",\"secuFullCode\":\"000538.SZ\",\"secuName\":\"\\xe4\\xba\\x91\\xe5\\x8d\\x97\\xe7\\x99\\xbd\\xe8\\x8d\\xaf\",\"sratingName\":\"\\xe6\\x8e\\xa8\\xe8\\x8d\\x90\",\"sy\":\"2.6600\",\"syls\":[\"27\",\"\",\"\",\"\",\"\"],\"sys\":[\"3.27\",\"3.86\",\"\",\"\",\"\"],\"title\":\"\\xe5\\x85\\xac\\xe5\\x8f\\xb8\\xe5\\xad\\xa3\\xe6\\x8a\\xa5\\xe7\\x82\\xb9\\xe8\\xaf\\x84\\xef\\xbc\\x9a\\xe8\\x91\\xa3\\xe4\\xba\\x8b\\xe4\\xbc\\x9a\\xe6\\x8d\\xa2\\xe5\\xb1\\x8a\\xe5\\x90\\x8d\\xe5\\x8d\\x95\\xe5\\x87\\xba\\xe7\\x82\\x89\\xef\\xbc\\x8c\\xe5\\x9b\\xbd\\xe4\\xbc\\x81\\xe6\\x94\\xb9\\xe9\\x9d\\xa9\\xe6\\xad\\xa5\\xe4\\xbc\\x90\\xe6\\x9c\\x89\\xe6\\x9c\\x9b\\xe5\\x8a\\xa0\\xe5\\xbf\\xab\",\"profitYear\":\"2015\",\"type\":\"1\",\"newPrice\":\"69.23\"},{\"author\":\"\\xe9\\x97\\xab\\xe6\\xb0\\xb8\\xe6\\xad\\xa3\",\"change\":\"\",\"companyCode\":\"10000880\",\"datetime\":\"2015-08-21T08:55:11\",\"infoCode\":\"APPGNqlN3CfZASearchReport\",\"insCode\":\"80000119\",\"insName\":\"\\xe7\\xbe\\xa4\\xe7\\x9b\\x8a\\xe8\\xaf\\x81\\xe5\\x88\\xb8\",\"insStar\":\"1\",\"jlrs\":[\"3366000000\",\"\",\"\",\"\",\"\"],\"rate\":\"\\xe5\\xa2\\x9e\\xe6\\x8c\\x81\",\"secuFullCode\":\"000538.SZ\",\"secuName\":\"\\xe4\\xba\\x91\\xe5\\x8d\\x97\\xe7\\x99\\xbd\\xe8\\x8d\\xaf\",\"sratingName\":\"\\xe4\\xb9\\xb0\\xe5\\x85\\xa5\",\"sy\":\"2.6600\",\"syls\":[\"25\",\"\",\"\",\"\",\"\"],\"sys\":[\"3.23\",\"\",\"\",\"\",\"\"],\"title\":\"\\xe4\\xb8\\xad\\xe6\\x8a\\xa5\\xe4\\xb8\\x9a\\xe7\\xbb\\xa9\\xe7\\x95\\xa5\\xe4\\xbd\\x8e\\xe4\\xba\\x8e\\xe9\\xa2\\x84\\xe6\\x9c\\x9f\\xef\\xbc\\x8c\\xe9\\x95\\xbf\\xe6\\x9c\\x9f\\xe7\\x9c\\x8b\\xe5\\xa5\\xbd\\xe5\\xa4\\xa7\\xe5\\x81\\xa5\\xe5\\xba\\xb7\\xe4\\xba\\xa7\\xe4\\xb8\\x9a\\xe5\\x8f\\x91\\xe5\\xb1\\x95\",\"profitYear\":\"2015\",\"type\":\"1\",\"newPrice\":\"69.23\"},{\"author\":\"\\xe5\\xbc\\xa0\\xe7\\xa7\\x91\\xe7\\x84\\xb6\",\"change\":\"\",\"companyCode\":\"10000880\",\"datetime\":\"2015-08-21T11:05:53\",\"infoCode\":\"APPGNqlN3CyWASearchReport\",\"insCode\":\"80092743\",\"insName\":\"\\xe5\\x8d\\x8e\\xe8\\x9e\\x8d\\xe8\\xaf\\x81\\xe5\\x88\\xb8\",\"insStar\":\"3\",\"jlrs\":[\"3412000000\",\"3967200000\",\"\",\"\",\"\"],\"rate\":\"\\xe5\\xa2\\x9e\\xe6\\x8c\\x81\",\"secuFullCode\":\"000538.SZ\",\"secuName\":\"\\xe4\\xba\\x91\\xe5\\x8d\\x97\\xe7\\x99\\xbd\\xe8\\x8d\\xaf\",\"sratingName\":\"\\xe6\\x8e\\xa8\\xe8\\x8d\\x90\",\"sy\":\"2.6600\",\"syls\":[\"22\",\"19\",\"\",\"\",\"\"],\"sys\":[\"3.28\",\"3.81\",\"\",\"\",\"\"],\"title\":\"\\xe4\\xb8\\xad\\xe6\\x8a\\xa5\\xe7\\x82\\xb9\\xe8\\xaf\\x84\\xef\\xbc\\x9a\\xe5\\xa4\\xa7\\xe5\\x81\\xa5\\xe5\\xba\\xb7\\xe4\\xba\\xa7\\xe4\\xb8\\x9a\\xe5\\xa4\\xaf\\xe5\\xae\\x9e\\xe4\\xb8\\x9a\\xe7\\xbb\\xa9\",\"profitYear\":\"2015\",\"type\":\"1\",\"newPrice\":\"69.23\"},{\"author\":\"\\xe6\\x9d\\x8e\\xe5\\xb9\\xb3\\xe7\\xa5\\x9d\",\"change\":\"\\xe9\\xa6\\x96\\xe6\\xac\\xa1\",\"companyCode\":\"10000880\",\"datetime\":\"2015-08-21T17:26:14\",\"infoCode\":\"APPGNqlN3E76ASearchReport\",\"insCode\":\"80000135\",\"insName\":\"\\xe9\\x93\\xb6\\xe6\\xb2\\xb3\\xe8\\xaf\\x81\\xe5\\x88\\xb8\",\"insStar\":\"5\",\"jlrs\":[\"\",\"\",\"\",\"\",\"\"],\"rate\":\"\\xe5\\xa2\\x9e\\xe6\\x8c\\x81\",\"secuFullCode\":\"000538.SZ\",\"secuName\":\"\\xe4\\xba\\x91\\xe5\\x8d\\x97\\xe7\\x99\\xbd\\xe8\\x8d\\xaf\",\"sratingName\":\"\\xe8\\xb0\\xa8\\xe6\\x85\\x8e\\xe6\\x8e\\xa8\\xe8\\x8d\\x90\",\"sy\":\"2.6600\",\"syls\":[\"\",\"\",\"\",\"\",\"\"],\"sys\":[\"2.99\",\"3.36\",\"\",\"\",\"\"],\"title\":\"2015\\xe5\\xb9\\xb4\\xe4\\xb8\\xad\\xe6\\x8a\\xa5\\xe7\\x82\\xb9\\xe8\\xaf\\x84\\xef\\xbc\\x9a\\xe7\\x99\\xbd\\xe8\\x8d\\xaf\\xe7\\x89\\x99\\xe8\\x86\\x8f\\xe6\\x8c\\x81\\xe7\\xbb\\xad\\xe9\\xab\\x98\\xe5\\xa2\\x9e\\xe9\\x95\\xbf\\xef\\xbc\\x8c\\xe6\\xb7\\xb7\\xe6\\x94\\xb9\\xe9\\xa2\\x84\\xe6\\x9c\\x9f\\xe6\\xb8\\x90\\xe5\\x8d\\x87\\xe6\\xb8\\xa9\",\"profitYear\":\"2015\",\"type\":\"1\",\"newPrice\":\"69.23\"},{\"author\":\"\\xe6\\x9d\\x8e\\xe7\\x8f\\x8a\\xe7\\x8f\\x8a,\\xe6\\x9d\\x8e\\xe5\\x8b\\x87\\xe5\\x89\\x91\",\"change\":\"\\xe7\\xbb\\xb4\\xe6\\x8c\\x81\",\"companyCode\":\"10000880\",\"datetime\":\"2015-08-20T10:54:33\",\"infoCode\":\"APPGNqXNlflPASearchReport\",\"insCode\":\"80000012\",\"insName\":\"\\xe6\\x8b\\x9b\\xe5\\x95\\x86\\xe8\\xaf\\x81\\xe5\\x88\\xb8\",\"insStar\":\"5\",\"jlrs\":[\"3299000000\",\"3699000000\",\"\",\"\",\"\"],\"rate\":\"\\xe4\\xb9\\xb0\\xe5\\x85\\xa5\",\"secuFullCode\":\"000538.SZ\",\"secuName\":\"\\xe4\\xba\\x91\\xe5\\x8d\\x97\\xe7\\x99\\xbd\\xe8\\x8d\\xaf\",\"sratingName\":\"\\xe5\\xbc\\xba\\xe7\\x83\\x88\\xe6\\x8e\\xa8\\xe8\\x8d\\x90\",\"sy\":\"2.6600\",\"syls\":[\"23\",\"20.5\",\"\",\"\",\"\"],\"sys\":[\"3.17\",\"3.55\",\"\",\"\",\"\"],\"title\":\"\\xe4\\xb8\\xad\\xe6\\x8a\\xa5\\xe5\\x87\\x80\\xe5\\x88\\xa9\\xe5\\xa2\\x9e11%\\xef\\xbc\\x8c\\xe5\\x81\\xa5\\xe5\\xba\\xb7\\xe4\\xba\\x8b\\xe4\\xb8\\x9a\\xe9\\x83\\xa8\\xe8\\xa1\\xa8\\xe7\\x8e\\xb0\\xe9\\x9d\\x93\\xe4\\xb8\\xbd\",\"profitYear\":\"2015\",\"type\":\"1\",\"newPrice\":\"69.23\"},{\"author\":\"\\xe9\\xad\\x8f\\xe5\\xb7\\x8d,\\xe9\\x82\\xb9\\xe6\\x95\\x8f,\\xe5\\x8f\\xb6\\xe5\\xaf\\x85\",\"change\":\"\\xe7\\xbb\\xb4\\xe6\\x8c\\x81\",\"companyCode\":\"10000880\",\"datetime\":\"2015-08-20T13:49:19\",\"infoCode\":\"APPGNqXNlgD1ASearchReport\",\"insCode\":\"80000037\",\"insName\":\"\\xe5\\xb9\\xb3\\xe5\\xae\\x89\\xe8\\xaf\\x81\\xe5\\x88\\xb8\",\"insStar\":\"4\",\"jlrs\":[\"3403000000\",\"\",\"\",\"\",\"\"],\"rate\":\"\\xe5\\xa2\\x9e\\xe6\\x8c\\x81\",\"secuFullCode\":\"000538.SZ\",\"secuName\":\"\\xe4\\xba\\x91\\xe5\\x8d\\x97\\xe7\\x99\\xbd\\xe8\\x8d\\xaf\",\"sratingName\":\"\\xe6\\x8e\\xa8\\xe8\\x8d\\x90\",\"sy\":\"2.6600\",\"syls\":[\"22.3\",\"\",\"\",\"\",\"\"],\"sys\":[\"3.27\",\"\",\"\",\"\",\"\"],\"title\":\"\\xe5\\x81\\xa5\\xe5\\xba\\xb7\\xe4\\xba\\x8b\\xe4\\xb8\\x9a\\xe9\\x83\\xa8\\xe7\\xbb\\xa7\\xe7\\xbb\\xad\\xe4\\xbf\\x9d\\xe6\\x8c\\x81\\xe9\\xab\\x98\\xe5\\xa2\\x9e\\xe9\\x95\\xbf\\xef\\xbc\\x8c\\xe6\\x9c\\x9f\\xe5\\xbe\\x85\\xe5\\x9b\\xbd\\xe4\\xbc\\x81\\xe6\\x94\\xb9\\xe9\\x9d\\xa9\\xe8\\xbf\\x9b\\xe4\\xb8\\x80\\xe6\\xad\\xa5\\xe9\\x87\\x8a\\xe6\\x94\\xbe\\xe6\\xb4\\xbb\\xe5\\x8a\\x9b\",\"profitYear\":\"2015\",\"type\":\"1\",\"newPrice\":\"69.23\"},{\"author\":\"\\xe5\\x88\\x98\\xe8\\x88\\x92\\xe7\\x95\\x85,\\xe9\\xbb\\x84\\xe4\\xbc\\x9f\\xe8\\xbd\\xa9\",\"change\":\"\\xe7\\xbb\\xb4\\xe6\\x8c\\x81\",\"companyCode\":\"10000880\",\"datetime\":\"2015-08-20T14:13:34\",\"infoCode\":\"APPGNqXNlgKzASearchReport\",\"insCode\":\"10001081\",\"insName\":\"\\xe9\\x95\\xbf\\xe6\\xb1\\x9f\\xe8\\xaf\\x81\\xe5\\x88\\xb8\",\"insStar\":\"4\",\"jlrs\":[\"3610000000\",\"4334000000\",\"\",\"\",\"\"],\"rate\":\"\\xe4\\xb9\\xb0\\xe5\\x85\\xa5\",\"secuFullCode\":\"000538.SZ\",\"secuName\":\"\\xe4\\xba\\x91\\xe5\\x8d\\x97\\xe7\\x99\\xbd\\xe8\\x8d\\xaf\",\"sratingName\":\"\\xe4\\xb9\\xb0\\xe5\\x85\\xa5\",\"sy\":\"2.6600\",\"syls\":[\"21\",\"17\",\"\",\"\",\"\"],\"sys\":[\"3.47\",\"4.16\",\"\",\"\",\"\"],\"title\":\"\\xe4\\xb8\\x9a\\xe7\\xbb\\xa9\\xe5\\xa2\\x9e\\xe9\\x95\\xbf\\xe5\\xb9\\xb3\\xe7\\xa8\\xb3\\xef\\xbc\\x8c\\xe5\\xa4\\xa7\\xe5\\x81\\xa5\\xe5\\xba\\xb7\\xe5\\x80\\xbc\\xe5\\xbe\\x97\\xe6\\x9c\\x9f\\xe5\\xbe\\x85\",\"profitYear\":\"2015\",\"type\":\"1\",\"newPrice\":\"69.23\"},{\"author\":\"\\xe6\\x9e\\x97\\xe5\\xa8\\x9c\",\"change\":\"\\xe7\\xbb\\xb4\\xe6\\x8c\\x81\",\"companyCode\":\"10000880\",\"datetime\":\"2015-08-20T16:15:12\",\"infoCode\":\"APPGNqXNlgYdASearchReport\",\"insCode\":\"80086668\",\"insName\":\"\\xe7\\x91\\x9e\\xe9\\x93\\xb6\\xe8\\xaf\\x81\\xe5\\x88\\xb8\",\"insStar\":\"\",\"jlrs\":[\"3692000000\",\"4414000000\",\"\",\"\",\"\"],\"rate\":\"\\xe6\\x8c\\x81\\xe6\\x9c\\x89\",\"secuFullCode\":\"000538.SZ\",\"secuName\":\"\\xe4\\xba\\x91\\xe5\\x8d\\x97\\xe7\\x99\\xbd\\xe8\\x8d\\xaf\",\"sratingName\":\"\\xe4\\xb9\\xb0\\xe5\\x85\\xa5\",\"sy\":\"2.6600\",\"syls\":[\"21\",\"17\",\"\",\"\",\"\"],\"sys\":[\"3.55\",\"4.24\",\"\",\"\",\"\"],\"title\":\"\\xe4\\xb8\\x9a\\xe7\\xbb\\xa9\\xe7\\xa8\\xb3\\xe5\\x81\\xa5\\xe5\\xa2\\x9e\\xe9\\x95\\xbf\\xef\\xbc\\x8c\\xe7\\x89\\x99\\xe8\\x86\\x8f\\xe8\\xa1\\xa8\\xe7\\x8e\\xb0\\xe9\\x9d\\x93\\xe4\\xb8\\xbd\",\"profitYear\":\"2015\",\"type\":\"1\",\"newPrice\":\"69.23\"},{\"author\":\"\\xe6\\x9c\\xb1\\xe5\\x9b\\xbd\\xe5\\xb9\\xbf\",\"change\":\"\\xe9\\xa6\\x96\\xe6\\xac\\xa1\",\"companyCode\":\"10000880\",\"datetime\":\"2015-08-20T17:44:31\",\"infoCode\":\"APPGNqXNlhBJASearchReport\",\"insCode\":\"10000296\",\"insName\":\"\\xe8\\xa5\\xbf\\xe5\\x8d\\x97\\xe8\\xaf\\x81\\xe5\\x88\\xb8\",\"insStar\":\"3\",\"jlrs\":[\"3179670000\",\"3605960000\",\"\",\"\",\"\"],\"rate\":\"\\xe5\\xa2\\x9e\\xe6\\x8c\\x81\",\"secuFullCode\":\"000538.SZ\",\"secuName\":\"\\xe4\\xba\\x91\\xe5\\x8d\\x97\\xe7\\x99\\xbd\\xe8\\x8d\\xaf\",\"sratingName\":\"\\xe5\\xa2\\x9e\\xe6\\x8c\\x81\",\"sy\":\"2.6600\",\"syls\":[\"24\",\"21\",\"\",\"\",\"\"],\"sys\":[\"3.05\",\"3.46\",\"\",\"\",\"\"],\"title\":\"\\xe6\\x95\\xb4\\xe4\\xbd\\x93\\xe4\\xb8\\x9a\\xe7\\xbb\\xa9\\xe7\\xa8\\xb3\\xe5\\x81\\xa5\\xe5\\xa2\\x9e\\xe9\\x95\\xbf\\xef\\xbc\\x8c\\xe5\\xa4\\xa7\\xe5\\x81\\xa5\\xe5\\xba\\xb7\\xe5\\xae\\x8c\\xe6\\x95\\xb4\\xe5\\xb8\\x83\\xe5\\xb1\\x80\\xe9\\x80\\x90\\xe6\\xad\\xa5\\xe5\\xbd\\xa2\\xe6\\x88\\x90\",\"profitYear\":\"2015\",\"type\":\"1\",\"newPrice\":\"69.23\"},{\"author\":\"\\xe5\\xad\\xa3\\xe5\\xba\\x8f\\xe6\\x88\\x91,\\xe6\\x9e\\x97\\xe5\\xa8\\x9c\",\"change\":\"\\xe7\\xbb\\xb4\\xe6\\x8c\\x81\",\"companyCode\":\"10000880\",\"datetime\":\"2015-04-30T08:26:39\",\"infoCode\":\"APPGMH5GQzkXASearchReport\",\"insCode\":\"80086668\",\"insName\":\"\\xe7\\x91\\x9e\\xe9\\x93\\xb6\\xe8\\xaf\\x81\\xe5\\x88\\xb8\",\"insStar\":\"\",\"jlrs\":[\"\",\"\",\"\",\"\",\"\"],\"rate\":\"\\xe6\\x8c\\x81\\xe6\\x9c\\x89\",\"secuFullCode\":\"000538.SZ\",\"secuName\":\"\\xe4\\xba\\x91\\xe5\\x8d\\x97\\xe7\\x99\\xbd\\xe8\\x8d\\xaf\",\"sratingName\":\"\\xe4\\xb9\\xb0\\xe5\\x85\\xa5\",\"sy\":\"2.6600\",\"syls\":[\"20\",\"17\",\"\",\"\",\"\"],\"sys\":[\"3.49\",\"4.2\",\"\",\"\",\"\"],\"title\":\"\\xe7\\x9b\\x88\\xe5\\x88\\xa9\\xe7\\xa8\\xb3\\xe5\\x81\\xa5\\xe5\\xa2\\x9e\\xe9\\x95\\xbf\\xef\\xbc\\x8c\\xe9\\xa2\\x84\\xe8\\xae\\xa1Q1\\xe4\\xb8\\xba\\xe5\\x85\\xa8\\xe5\\xb9\\xb4\\xe5\\xa2\\x9e\\xe9\\x80\\x9f\\xe4\\xbd\\x8e\\xe7\\x82\\xb9\",\"profitYear\":\"2015\",\"type\":\"1\",\"newPrice\":\"69.23\"},{\"author\":\"\\xe5\\x88\\x98\\xe8\\x88\\x92\\xe7\\x95\\x85\",\"change\":\"\\xe7\\xbb\\xb4\\xe6\\x8c\\x81\",\"companyCode\":\"10000880\",\"datetime\":\"2015-04-30T16:20:02\",\"infoCode\":\"APPGMH5GR3i8ASearchReport\",\"insCode\":\"10001081\",\"insName\":\"\\xe9\\x95\\xbf\\xe6\\xb1\\x9f\\xe8\\xaf\\x81\\xe5\\x88\\xb8\",\"insStar\":\"4\",\"jlrs\":[\"3642600000\",\"4371100000\",\"\",\"\",\"\"],\"rate\":\"\\xe5\\xa2\\x9e\\xe6\\x8c\\x81\",\"secuFullCode\":\"000538.SZ\",\"secuName\":\"\\xe4\\xba\\x91\\xe5\\x8d\\x97\\xe7\\x99\\xbd\\xe8\\x8d\\xaf\",\"sratingName\":\"\\xe6\\x8e\\xa8\\xe8\\x8d\\x90\",\"sy\":\"2.6600\",\"syls\":[\"20\",\"17\",\"\",\"\",\"\"],\"sys\":[\"3.5\",\"4.2\",\"\",\"\",\"\"],\"title\":\"\\xe4\\xb8\\x80\\xe5\\xad\\xa3\\xe5\\xba\\xa6\\xe5\\xa2\\x9e\\xe9\\x95\\xbf\\xe7\\xa8\\xb3\\xe5\\x81\\xa5\\xef\\xbc\\x8c\\xe6\\xb6\\x88\\xe8\\xb4\\xb9\\xe5\\x93\\x81\\xe7\\xa9\\xba\\xe9\\x97\\xb4\\xe5\\xb9\\xbf\\xe9\\x98\\x94\",\"profitYear\":\"2015\",\"type\":\"1\",\"newPrice\":\"69.23\"},{\"author\":\"\\xe9\\x97\\xab\\xe6\\xb0\\xb8\\xe6\\xad\\xa3\",\"change\":\"\\xe7\\xbb\\xb4\\xe6\\x8c\\x81\",\"companyCode\":\"10000880\",\"datetime\":\"2015-04-30T16:21:06\",\"infoCode\":\"APPGMH5GR3dqASearchReport\",\"insCode\":\"80000119\",\"insName\":\"\\xe7\\xbe\\xa4\\xe7\\x9b\\x8a\\xe8\\xaf\\x81\\xe5\\x88\\xb8\",\"insStar\":\"1\",\"jlrs\":[\"3634000000\",\"\",\"\",\"\",\"\"],\"rate\":\"\\xe5\\xa2\\x9e\\xe6\\x8c\\x81\",\"secuFullCode\":\"000538.SZ\",\"secuName\":\"\\xe4\\xba\\x91\\xe5\\x8d\\x97\\xe7\\x99\\xbd\\xe8\\x8d\\xaf\",\"sratingName\":\"\\xe4\\xb9\\xb0\\xe5\\x85\\xa5\",\"sy\":\"2.6600\",\"syls\":[\"23\",\"\",\"\",\"\",\"\"],\"sys\":[\"3.49\",\"\",\"\",\"\",\"\"],\"title\":\"\\xe4\\xb8\\x9a\\xe7\\xbb\\xa9\\xe7\\xac\\xa6\\xe5\\x90\\x88\\xe9\\xa2\\x84\\xe6\\x9c\\x9f\\xef\\xbc\\x8c\\xe9\\x95\\xbf\\xe6\\x9c\\x9f\\xe7\\x9c\\x8b\\xe5\\xa5\\xbd\\xe5\\xa4\\xa7\\xe5\\x81\\xa5\\xe5\\xba\\xb7\\xe4\\xba\\xa7\\xe4\\xb8\\x9a\\xe5\\x8f\\x91\\xe5\\xb1\\x95\",\"profitYear\":\"2015\",\"type\":\"1\",\"newPrice\":\"69.23\"},{\"author\":\"\\xe5\\x88\\x98\\xe8\\x88\\x92\\xe7\\x95\\x85\",\"change\":\"\\xe7\\xbb\\xb4\\xe6\\x8c\\x81\",\"companyCode\":\"10000880\",\"datetime\":\"2015-04-29T08:24:00\",\"infoCode\":\"APPGMGqHARBDASearchReport\",\"insCode\":\"10001081\",\"insName\":\"\\xe9\\x95\\xbf\\xe6\\xb1\\x9f\\xe8\\xaf\\x81\\xe5\\x88\\xb8\",\"insStar\":\"4\",\"jlrs\":[\"3642600000\",\"4371100000\",\"\",\"\",\"\"],\"rate\":\"\\xe5\\xa2\\x9e\\xe6\\x8c\\x81\",\"secuFullCode\":\"000538.SZ\",\"secuName\":\"\\xe4\\xba\\x91\\xe5\\x8d\\x97\\xe7\\x99\\xbd\\xe8\\x8d\\xaf\",\"sratingName\":\"\\xe6\\x8e\\xa8\\xe8\\x8d\\x90\",\"sy\":\"2.6600\",\"syls\":[\"20.76\",\"17.3\",\"\",\"\",\"\"],\"sys\":[\"3.5\",\"4.2\",\"\",\"\",\"\"],\"title\":\"\\xe7\\x89\\x99\\xe8\\x86\\x8f\\xe4\\xbf\\x9d\\xe6\\x8c\\x81\\xe9\\xab\\x98\\xe5\\xa2\\x9e\\xe9\\x95\\xbf\\xef\\xbc\\x8c\\xe7\\xa7\\xaf\\xe6\\x9e\\x81\\xe5\\x8f\\x91\\xe5\\xb1\\x95\\xe7\\x94\\xb5\\xe5\\x95\\x86\\xe6\\x96\\xb0\\xe6\\xb8\\xa0\\xe9\\x81\\x93\",\"profitYear\":\"2015\",\"type\":\"1\",\"newPrice\":\"69.23\"},{\"author\":\"\\xe5\\xbc\\xa0\\xe5\\x85\\xb6\\xe7\\xab\\x8b\",\"change\":\"\\xe7\\xbb\\xb4\\xe6\\x8c\\x81\",\"companyCode\":\"10000880\",\"datetime\":\"2015-04-29T17:09:05\",\"infoCode\":\"APPGMGqHATNjASearchReport\",\"insCode\":\"10001075\",\"insName\":\"\\xe5\\xb9\\xbf\\xe5\\x8f\\x91\\xe8\\xaf\\x81\\xe5\\x88\\xb8\",\"insStar\":\"4\",\"jlrs\":[\"3598000000\",\"4267000000\",\"\",\"\",\"\"],\"rate\":\"\\xe4\\xb9\\xb0\\xe5\\x85\\xa5\",\"secuFullCode\":\"000538.SZ\",\"secuName\":\"\\xe4\\xba\\x91\\xe5\\x8d\\x97\\xe7\\x99\\xbd\\xe8\\x8d\\xaf\",\"sratingName\":\"\\xe4\\xb9\\xb0\\xe5\\x85\\xa5\",\"sy\":\"2.6600\",\"syls\":[\"20\",\"17\",\"\",\"\",\"\"],\"sys\":[\"3.46\",\"4.1\",\"\",\"\",\"\"],\"title\":\"\\xe8\\x8d\\xaf\\xe5\\x93\\x81\\xe6\\x97\\xa5\\xe5\\x8c\\x96\\xe7\\xa8\\xb3\\xe5\\x81\\xa5\\xe5\\xa2\\x9e\\xe9\\x95\\xbf\\xef\\xbc\\x8c\\xe4\\xb8\\xad\\xe8\\x8d\\xaf\\xe9\\xbe\\x99\\xe5\\xa4\\xb4\\xe6\\x9c\\x89\\xe5\\xbe\\x85\\xe9\\x87\\x8d\\xe4\\xbc\\xb0\",\"profitYear\":\"2015\",\"type\":\"1\",\"newPrice\":\"69.23\"},{\"author\":\"\\xe5\\xad\\xa3\\xe5\\xba\\x8f\\xe6\\x88\\x91,\\xe6\\x9e\\x97\\xe5\\xa8\\x9c\",\"change\":\"\\xe7\\xbb\\xb4\\xe6\\x8c\\x81\",\"companyCode\":\"10000880\",\"datetime\":\"2015-01-09T08:23:00\",\"infoCode\":\"APPGKyyH9eiIASearchReport\",\"insCode\":\"80086668\",\"insName\":\"\\xe7\\x91\\x9e\\xe9\\x93\\xb6\\xe8\\xaf\\x81\\xe5\\x88\\xb8\",\"insStar\":\"\",\"jlrs\":[\"3759000000\",\"\",\"\",\"\",\"\"],\"rate\":\"\\xe6\\x8c\\x81\\xe6\\x9c\\x89\",\"secuFullCode\":\"000538.SZ\",\"secuName\":\"\\xe4\\xba\\x91\\xe5\\x8d\\x97\\xe7\\x99\\xbd\\xe8\\x8d\\xaf\",\"sratingName\":\"\\xe4\\xb9\\xb0\\xe5\\x85\\xa5\",\"sy\":\"2.6600\",\"syls\":[\"\",\"\",\"\",\"\",\"\"],\"sys\":[\"3.61\",\"\",\"\",\"\",\"\"],\"title\":\"\\xe7\\xa8\\xb3\\xe5\\x81\\xa5\\xe6\\x88\\x90\\xe9\\x95\\xbf\\xef\\xbc\\x8c\\xe4\\xbc\\xb0\\xe5\\x80\\xbc\\xe4\\xbf\\xae\\xe5\\xa4\\x8d\\xe6\\x9c\\x89\\xe6\\x9c\\x9b\\xe6\\x8c\\x81\\xe7\\xbb\\xad\",\"profitYear\":\"2015\",\"type\":\"1\",\"newPrice\":\"69.23\"},{\"author\":\"\\xe5\\xad\\xa3\\xe5\\xba\\x8f\\xe6\\x88\\x91,\\xe6\\x9e\\x97\\xe5\\xa8\\x9c\",\"change\":\"\\xe9\\xa6\\x96\\xe6\\xac\\xa1\",\"companyCode\":\"10000880\",\"datetime\":\"2014-11-13T13:15:06\",\"infoCode\":\"APPFiqElLuJQASearchReport\",\"insCode\":\"80086668\",\"insName\":\"\\xe7\\x91\\x9e\\xe9\\x93\\xb6\\xe8\\xaf\\x81\\xe5\\x88\\xb8\",\"insStar\":\"\",\"jlrs\":[\"3759000000\",\"\",\"\",\"\",\"\"],\"rate\":\"\\xe6\\x8c\\x81\\xe6\\x9c\\x89\",\"secuFullCode\":\"000538.SZ\",\"secuName\":\"\\xe4\\xba\\x91\\xe5\\x8d\\x97\\xe7\\x99\\xbd\\xe8\\x8d\\xaf\",\"sratingName\":\"\\xe4\\xb9\\xb0\\xe5\\x85\\xa5\",\"sy\":\"2.6600\",\"syls\":[\"18\",\"\",\"\",\"\",\"\"],\"sys\":[\"3.61\",\"\",\"\",\"\",\"\"],\"title\":\"\\xe5\\x9f\\xba\\xe6\\x9c\\xac\\xe9\\x9d\\xa2\\xe7\\xa8\\xb3\\xe5\\x81\\xa5\\xef\\xbc\\x8c\\xe4\\xb8\\xad\\xe8\\x8d\\xaf\\xe6\\x97\\xa5\\xe5\\x8c\\x96\\xe9\\xa2\\x86\\xe5\\x9f\\x9f\\xe6\\x88\\x96\\xe6\\x9c\\x89\\xe6\\x83\\x8a\\xe5\\x96\\x9c\",\"profitYear\":\"2015\",\"type\":\"1\",\"newPrice\":\"69.23\"},{\"author\":\"\\xe9\\x82\\xb9\\xe6\\x95\\x8f\",\"change\":\"\\xe7\\xbb\\xb4\\xe6\\x8c\\x81\",\"companyCode\":\"10000880\",\"datetime\":\"2014-11-05T08:03:19\",\"infoCode\":\"APPFin6szGuBASearchReport\",\"insCode\":\"80000037\",\"insName\":\"\\xe5\\xb9\\xb3\\xe5\\xae\\x89\\xe8\\xaf\\x81\\xe5\\x88\\xb8\",\"insStar\":\"4\",\"jlrs\":[\"3360000000\",\"\",\"\",\"\",\"\"],\"rate\":\"\\xe5\\xa2\\x9e\\xe6\\x8c\\x81\",\"secuFullCode\":\"000538.SZ\",\"secuName\":\"\\xe4\\xba\\x91\\xe5\\x8d\\x97\\xe7\\x99\\xbd\\xe8\\x8d\\xaf\",\"sratingName\":\"\\xe6\\x8e\\xa8\\xe8\\x8d\\x90\",\"sy\":\"2.6600\",\"syls\":[\"\",\"\",\"\",\"\",\"\"],\"sys\":[\"3.23\",\"\",\"\",\"\",\"\"],\"title\":\"\\xe8\\x8d\\xaf\\xe5\\x93\\x81\\xe5\\xa2\\x9e\\xe9\\x80\\x9f\\xe9\\x80\\x90\\xe5\\xad\\xa3\\xe6\\x81\\xa2\\xe5\\xa4\\x8d\\xef\\xbc\\x8c\\xe9\\x94\\x80\\xe5\\x94\\xae\\xe8\\xb4\\xb9\\xe7\\x94\\xa8\\xe7\\x8e\\x87\\xe4\\xb8\\x8b\\xe9\\x99\\x8d\\xe5\\xb8\\xa6\\xe5\\x8a\\xa8\\xe7\\x9b\\x88\\xe5\\x88\\xa9\\xe5\\xa4\\xa7\\xe5\\xb9\\x85\\xe6\\x8f\\x90\\xe5\\x8d\\x87\",\"profitYear\":\"2015\",\"type\":\"1\",\"newPrice\":\"69.23\"},{\"author\":\"\\xe7\\x87\\x95\\xe6\\x99\\xba,\\xe6\\x9d\\x8e\\xe6\\x95\\xac\\xe9\\x9b\\xb7,\\xe9\\xbb\\x84\\xe6\\x8c\\xba\",\"change\":\"\\xe7\\xbb\\xb4\\xe6\\x8c\\x81\",\"companyCode\":\"10000880\",\"datetime\":\"2014-10-29T16:04:02\",\"infoCode\":\"APPFiVJpJgkgASearchReport\",\"insCode\":\"10000082\",\"insName\":\"\\xe5\\x9b\\xbd\\xe9\\x87\\x91\\xe8\\xaf\\x81\\xe5\\x88\\xb8\",\"insStar\":\"5\",\"jlrs\":[\"\",\"\",\"\",\"\",\"\"],\"rate\":\"\\xe5\\xa2\\x9e\\xe6\\x8c\\x81\",\"secuFullCode\":\"000538.SZ\",\"secuName\":\"\\xe4\\xba\\x91\\xe5\\x8d\\x97\\xe7\\x99\\xbd\\xe8\\x8d\\xaf\",\"sratingName\":\"\\xe5\\xa2\\x9e\\xe6\\x8c\\x81\",\"sy\":\"2.6600\",\"syls\":[\"16.79\",\"\",\"\",\"\",\"\"],\"sys\":[\"5.238\",\"\",\"\",\"\",\"\"],\"title\":\"\\xe4\\xb8\\x89\\xe5\\xad\\xa3\\xe6\\x8a\\xa5\\xe4\\xb8\\x9a\\xe7\\xbb\\xa9\\xe8\\xb6\\x85\\xe9\\xa2\\x84\\xe6\\x9c\\x9f\\xef\\xbc\\x8c\\xe6\\x8e\\xa7\\xe8\\xb4\\xb9\\xe6\\x95\\x88\\xe6\\x9e\\x9c\\xe6\\x98\\x8e\\xe6\\x98\\xbe\",\"profitYear\":\"2015\",\"type\":\"1\",\"newPrice\":\"69.23\"}],\"pages\":\"2\",\"update\":\"2016-08-18\",\"count\":\"33\"}'"
      ]
     },
     "execution_count": 8,
     "metadata": {},
     "output_type": "execute_result"
    }
   ],
   "source": [
    "html_doc"
   ]
  },
  {
   "cell_type": "code",
   "execution_count": 9,
   "metadata": {
    "collapsed": true
   },
   "outputs": [],
   "source": [
    "soup0 = BeautifulSoup(html_doc, \"lxml\")"
   ]
  },
  {
   "cell_type": "code",
   "execution_count": 10,
   "metadata": {
    "collapsed": false
   },
   "outputs": [
    {
     "data": {
      "text/plain": [
       "<html><body><p>var PrnJnSby={\"data\":[{\"author\":\"研究部\",\"change\":\"\",\"companyCode\":\"10000880\",\"datetime\":\"2016-05-06T16:48:23\",\"infoCode\":\"APPH3krGmemfASearchReport\",\"insCode\":\"80000119\",\"insName\":\"群益证券\",\"insStar\":\"1\",\"jlrs\":[\"3113000000\",\"3556000000\",\"\",\"\",\"\"],\"rate\":\"增持\",\"secuFullCode\":\"000538.SZ\",\"secuName\":\"云南白药\",\"sratingName\":\"买入\",\"sy\":\"2.6600\",\"syls\":[\"23\",\"\",\"\",\"\",\"\"],\"sys\":[\"2.99\",\"3.42\",\"\",\"\",\"\"],\"title\":\"2016年1Q业绩略符合預期，长期看好大健康产业发展\",\"profitYear\":\"2015\",\"type\":\"1\",\"newPrice\":\"69.23\"},{\"author\":\"闫永正\",\"change\":\"\",\"companyCode\":\"10000880\",\"datetime\":\"2016-04-28T10:32:18\",\"infoCode\":\"APPH3SMFKGesASearchReport\",\"insCode\":\"80000119\",\"insName\":\"群益证券\",\"insStar\":\"1\",\"jlrs\":[\"3113000000\",\"3556000000\",\"\",\"\",\"\"],\"rate\":\"增持\",\"secuFullCode\":\"000538.SZ\",\"secuName\":\"云南白药\",\"sratingName\":\"买入\",\"sy\":\"2.6600\",\"syls\":[\"23\",\"\",\"\",\"\",\"\"],\"sys\":[\"2.99\",\"3.42\",\"\",\"\",\"\"],\"title\":\"2016年1Q业绩略符合预期，长期看好大健康产业发展\",\"profitYear\":\"2015\",\"type\":\"1\",\"newPrice\":\"69.23\"},{\"author\":\"张明芳\",\"change\":\"维持\",\"companyCode\":\"10000880\",\"datetime\":\"2016-04-28T17:07:12\",\"infoCode\":\"APPH3SMFKJDdASearchReport\",\"insCode\":\"80000074\",\"insName\":\"光大证券\",\"insStar\":\"5\",\"jlrs\":[\"3169630000\",\"3583200000\",\"3959660000\",\"\",\"\"],\"rate\":\"持有\",\"secuFullCode\":\"000538.SZ\",\"secuName\":\"云南白药\",\"sratingName\":\"增持\",\"sy\":\"2.6600\",\"syls\":[\"20\",\"18\",\"16\",\"\",\"\"],\"sys\":[\"2.95\",\"3.33\",\"3.68\",\"\",\"\"],\"title\":\"收入利润稳健增长，三七涨价导致毛利率略微下降\",\"profitYear\":\"2015\",\"type\":\"1\",\"newPrice\":\"69.23\"},{\"author\":\"闫永正\",\"change\":\"\",\"companyCode\":\"10000880\",\"datetime\":\"2016-04-21T10:17:28\",\"infoCode\":\"APPH3QhKULe5ASearchReport\",\"insCode\":\"80000119\",\"insName\":\"群益证券\",\"insStar\":\"1\",\"jlrs\":[\"3192000000\",\"3727000000\",\"\",\"\",\"\"],\"rate\":\"增持\",\"secuFullCode\":\"000538.SZ\",\"secuName\":\"云南白药\",\"sratingName\":\"买入\",\"sy\":\"2.6600\",\"syls\":[\"23\",\"\",\"\",\"\",\"\"],\"sys\":[\"3.07\",\"3.58\",\"\",\"\",\"\"],\"title\":\"2015年业绩略符合预期，长期看好大健康产业发展\",\"profitYear\":\"2015\",\"type\":\"1\",\"newPrice\":\"69.23\"},{\"author\":\"张明芳\",\"change\":\"首次\",\"companyCode\":\"10000880\",\"datetime\":\"2016-04-21T15:22:35\",\"infoCode\":\"APPH3QhKUMs7ASearchReport\",\"insCode\":\"80000074\",\"insName\":\"光大证券\",\"insStar\":\"5\",\"jlrs\":[\"3176930000\",\"3578570000\",\"3960830000\",\"\",\"\"],\"rate\":\"持有\",\"secuFullCode\":\"000538.SZ\",\"secuName\":\"云南白药\",\"sratingName\":\"增持\",\"sy\":\"2.6600\",\"syls\":[\"21\",\"18\",\"17\",\"\",\"\"],\"sys\":[\"2.95\",\"3.33\",\"3.68\",\"\",\"\"],\"title\":\"药品增长稳健，大健康和中药资源产品持续快速增长\",\"profitYear\":\"2015\",\"type\":\"1\",\"newPrice\":\"69.23\"},{\"author\":\"刘舒畅,黄伟轩\",\"change\":\"维持\",\"companyCode\":\"10000880\",\"datetime\":\"2016-04-20T16:07:16\",\"infoCode\":\"APPH3QTLDnUUASearchReport\",\"insCode\":\"10001081\",\"insName\":\"长江证券\",\"insStar\":\"4\",\"jlrs\":[\"3218500000\",\"3752900000\",\"4343100000\",\"\",\"\"],\"rate\":\"买入\",\"secuFullCode\":\"000538.SZ\",\"secuName\":\"云南白药\",\"sratingName\":\"买入\",\"sy\":\"2.6600\",\"syls\":[\"19.77\",\"16.95\",\"14.65\",\"\",\"\"],\"sys\":[\"3.09\",\"3.6\",\"4.17\",\"\",\"\"],\"title\":\"牙膏延续快增长，看好大健康布局\",\"profitYear\":\"2015\",\"type\":\"1\",\"newPrice\":\"69.23\"},{\"author\":\"闫永正\",\"change\":\"\",\"companyCode\":\"10000880\",\"datetime\":\"2015-11-03T09:52:57\",\"infoCode\":\"APPGPycr36GVASearchReport\",\"insCode\":\"80000119\",\"insName\":\"群益证券\",\"insStar\":\"1\",\"jlrs\":[\"3304000000\",\"\",\"\",\"\",\"\"],\"rate\":\"增持\",\"secuFullCode\":\"000538.SZ\",\"secuName\":\"云南白药\",\"sratingName\":\"买入\",\"sy\":\"2.6600\",\"syls\":[\"25\",\"\",\"\",\"\",\"\"],\"sys\":[\"3.17\",\"\",\"\",\"\",\"\"],\"title\":\"1-3Q业绩略符合预期，长期看好大健康产业发展\",\"profitYear\":\"2015\",\"type\":\"1\",\"newPrice\":\"69.23\"},{\"author\":\"魏巍,邹敏,叶寅\",\"change\":\"维持\",\"companyCode\":\"10000880\",\"datetime\":\"2015-11-02T16:10:26\",\"infoCode\":\"APPGPyNrlZpwASearchReport\",\"insCode\":\"80000037\",\"insName\":\"平安证券\",\"insStar\":\"4\",\"jlrs\":[\"3403000000\",\"4022000000\",\"\",\"\",\"\"],\"rate\":\"增持\",\"secuFullCode\":\"000538.SZ\",\"secuName\":\"云南白药\",\"sratingName\":\"推荐\",\"sy\":\"2.6600\",\"syls\":[\"27\",\"\",\"\",\"\",\"\"],\"sys\":[\"3.27\",\"3.86\",\"\",\"\",\"\"],\"title\":\"公司季报点评：董事会换届名单出炉，国企改革步伐有望加快\",\"profitYear\":\"2015\",\"type\":\"1\",\"newPrice\":\"69.23\"},{\"author\":\"闫永正\",\"change\":\"\",\"companyCode\":\"10000880\",\"datetime\":\"2015-08-21T08:55:11\",\"infoCode\":\"APPGNqlN3CfZASearchReport\",\"insCode\":\"80000119\",\"insName\":\"群益证券\",\"insStar\":\"1\",\"jlrs\":[\"3366000000\",\"\",\"\",\"\",\"\"],\"rate\":\"增持\",\"secuFullCode\":\"000538.SZ\",\"secuName\":\"云南白药\",\"sratingName\":\"买入\",\"sy\":\"2.6600\",\"syls\":[\"25\",\"\",\"\",\"\",\"\"],\"sys\":[\"3.23\",\"\",\"\",\"\",\"\"],\"title\":\"中报业绩略低于预期，长期看好大健康产业发展\",\"profitYear\":\"2015\",\"type\":\"1\",\"newPrice\":\"69.23\"},{\"author\":\"张科然\",\"change\":\"\",\"companyCode\":\"10000880\",\"datetime\":\"2015-08-21T11:05:53\",\"infoCode\":\"APPGNqlN3CyWASearchReport\",\"insCode\":\"80092743\",\"insName\":\"华融证券\",\"insStar\":\"3\",\"jlrs\":[\"3412000000\",\"3967200000\",\"\",\"\",\"\"],\"rate\":\"增持\",\"secuFullCode\":\"000538.SZ\",\"secuName\":\"云南白药\",\"sratingName\":\"推荐\",\"sy\":\"2.6600\",\"syls\":[\"22\",\"19\",\"\",\"\",\"\"],\"sys\":[\"3.28\",\"3.81\",\"\",\"\",\"\"],\"title\":\"中报点评：大健康产业夯实业绩\",\"profitYear\":\"2015\",\"type\":\"1\",\"newPrice\":\"69.23\"},{\"author\":\"李平祝\",\"change\":\"首次\",\"companyCode\":\"10000880\",\"datetime\":\"2015-08-21T17:26:14\",\"infoCode\":\"APPGNqlN3E76ASearchReport\",\"insCode\":\"80000135\",\"insName\":\"银河证券\",\"insStar\":\"5\",\"jlrs\":[\"\",\"\",\"\",\"\",\"\"],\"rate\":\"增持\",\"secuFullCode\":\"000538.SZ\",\"secuName\":\"云南白药\",\"sratingName\":\"谨慎推荐\",\"sy\":\"2.6600\",\"syls\":[\"\",\"\",\"\",\"\",\"\"],\"sys\":[\"2.99\",\"3.36\",\"\",\"\",\"\"],\"title\":\"2015年中报点评：白药牙膏持续高增长，混改预期渐升温\",\"profitYear\":\"2015\",\"type\":\"1\",\"newPrice\":\"69.23\"},{\"author\":\"李珊珊,李勇剑\",\"change\":\"维持\",\"companyCode\":\"10000880\",\"datetime\":\"2015-08-20T10:54:33\",\"infoCode\":\"APPGNqXNlflPASearchReport\",\"insCode\":\"80000012\",\"insName\":\"招商证券\",\"insStar\":\"5\",\"jlrs\":[\"3299000000\",\"3699000000\",\"\",\"\",\"\"],\"rate\":\"买入\",\"secuFullCode\":\"000538.SZ\",\"secuName\":\"云南白药\",\"sratingName\":\"强烈推荐\",\"sy\":\"2.6600\",\"syls\":[\"23\",\"20.5\",\"\",\"\",\"\"],\"sys\":[\"3.17\",\"3.55\",\"\",\"\",\"\"],\"title\":\"中报净利增11%，健康事业部表现靓丽\",\"profitYear\":\"2015\",\"type\":\"1\",\"newPrice\":\"69.23\"},{\"author\":\"魏巍,邹敏,叶寅\",\"change\":\"维持\",\"companyCode\":\"10000880\",\"datetime\":\"2015-08-20T13:49:19\",\"infoCode\":\"APPGNqXNlgD1ASearchReport\",\"insCode\":\"80000037\",\"insName\":\"平安证券\",\"insStar\":\"4\",\"jlrs\":[\"3403000000\",\"\",\"\",\"\",\"\"],\"rate\":\"增持\",\"secuFullCode\":\"000538.SZ\",\"secuName\":\"云南白药\",\"sratingName\":\"推荐\",\"sy\":\"2.6600\",\"syls\":[\"22.3\",\"\",\"\",\"\",\"\"],\"sys\":[\"3.27\",\"\",\"\",\"\",\"\"],\"title\":\"健康事业部继续保持高增长，期待国企改革进一步释放活力\",\"profitYear\":\"2015\",\"type\":\"1\",\"newPrice\":\"69.23\"},{\"author\":\"刘舒畅,黄伟轩\",\"change\":\"维持\",\"companyCode\":\"10000880\",\"datetime\":\"2015-08-20T14:13:34\",\"infoCode\":\"APPGNqXNlgKzASearchReport\",\"insCode\":\"10001081\",\"insName\":\"长江证券\",\"insStar\":\"4\",\"jlrs\":[\"3610000000\",\"4334000000\",\"\",\"\",\"\"],\"rate\":\"买入\",\"secuFullCode\":\"000538.SZ\",\"secuName\":\"云南白药\",\"sratingName\":\"买入\",\"sy\":\"2.6600\",\"syls\":[\"21\",\"17\",\"\",\"\",\"\"],\"sys\":[\"3.47\",\"4.16\",\"\",\"\",\"\"],\"title\":\"业绩增长平稳，大健康值得期待\",\"profitYear\":\"2015\",\"type\":\"1\",\"newPrice\":\"69.23\"},{\"author\":\"林娜\",\"change\":\"维持\",\"companyCode\":\"10000880\",\"datetime\":\"2015-08-20T16:15:12\",\"infoCode\":\"APPGNqXNlgYdASearchReport\",\"insCode\":\"80086668\",\"insName\":\"瑞银证券\",\"insStar\":\"\",\"jlrs\":[\"3692000000\",\"4414000000\",\"\",\"\",\"\"],\"rate\":\"持有\",\"secuFullCode\":\"000538.SZ\",\"secuName\":\"云南白药\",\"sratingName\":\"买入\",\"sy\":\"2.6600\",\"syls\":[\"21\",\"17\",\"\",\"\",\"\"],\"sys\":[\"3.55\",\"4.24\",\"\",\"\",\"\"],\"title\":\"业绩稳健增长，牙膏表现靓丽\",\"profitYear\":\"2015\",\"type\":\"1\",\"newPrice\":\"69.23\"},{\"author\":\"朱国广\",\"change\":\"首次\",\"companyCode\":\"10000880\",\"datetime\":\"2015-08-20T17:44:31\",\"infoCode\":\"APPGNqXNlhBJASearchReport\",\"insCode\":\"10000296\",\"insName\":\"西南证券\",\"insStar\":\"3\",\"jlrs\":[\"3179670000\",\"3605960000\",\"\",\"\",\"\"],\"rate\":\"增持\",\"secuFullCode\":\"000538.SZ\",\"secuName\":\"云南白药\",\"sratingName\":\"增持\",\"sy\":\"2.6600\",\"syls\":[\"24\",\"21\",\"\",\"\",\"\"],\"sys\":[\"3.05\",\"3.46\",\"\",\"\",\"\"],\"title\":\"整体业绩稳健增长，大健康完整布局逐步形成\",\"profitYear\":\"2015\",\"type\":\"1\",\"newPrice\":\"69.23\"},{\"author\":\"季序我,林娜\",\"change\":\"维持\",\"companyCode\":\"10000880\",\"datetime\":\"2015-04-30T08:26:39\",\"infoCode\":\"APPGMH5GQzkXASearchReport\",\"insCode\":\"80086668\",\"insName\":\"瑞银证券\",\"insStar\":\"\",\"jlrs\":[\"\",\"\",\"\",\"\",\"\"],\"rate\":\"持有\",\"secuFullCode\":\"000538.SZ\",\"secuName\":\"云南白药\",\"sratingName\":\"买入\",\"sy\":\"2.6600\",\"syls\":[\"20\",\"17\",\"\",\"\",\"\"],\"sys\":[\"3.49\",\"4.2\",\"\",\"\",\"\"],\"title\":\"盈利稳健增长，预计Q1为全年增速低点\",\"profitYear\":\"2015\",\"type\":\"1\",\"newPrice\":\"69.23\"},{\"author\":\"刘舒畅\",\"change\":\"维持\",\"companyCode\":\"10000880\",\"datetime\":\"2015-04-30T16:20:02\",\"infoCode\":\"APPGMH5GR3i8ASearchReport\",\"insCode\":\"10001081\",\"insName\":\"长江证券\",\"insStar\":\"4\",\"jlrs\":[\"3642600000\",\"4371100000\",\"\",\"\",\"\"],\"rate\":\"增持\",\"secuFullCode\":\"000538.SZ\",\"secuName\":\"云南白药\",\"sratingName\":\"推荐\",\"sy\":\"2.6600\",\"syls\":[\"20\",\"17\",\"\",\"\",\"\"],\"sys\":[\"3.5\",\"4.2\",\"\",\"\",\"\"],\"title\":\"一季度增长稳健，消费品空间广阔\",\"profitYear\":\"2015\",\"type\":\"1\",\"newPrice\":\"69.23\"},{\"author\":\"闫永正\",\"change\":\"维持\",\"companyCode\":\"10000880\",\"datetime\":\"2015-04-30T16:21:06\",\"infoCode\":\"APPGMH5GR3dqASearchReport\",\"insCode\":\"80000119\",\"insName\":\"群益证券\",\"insStar\":\"1\",\"jlrs\":[\"3634000000\",\"\",\"\",\"\",\"\"],\"rate\":\"增持\",\"secuFullCode\":\"000538.SZ\",\"secuName\":\"云南白药\",\"sratingName\":\"买入\",\"sy\":\"2.6600\",\"syls\":[\"23\",\"\",\"\",\"\",\"\"],\"sys\":[\"3.49\",\"\",\"\",\"\",\"\"],\"title\":\"业绩符合预期，长期看好大健康产业发展\",\"profitYear\":\"2015\",\"type\":\"1\",\"newPrice\":\"69.23\"},{\"author\":\"刘舒畅\",\"change\":\"维持\",\"companyCode\":\"10000880\",\"datetime\":\"2015-04-29T08:24:00\",\"infoCode\":\"APPGMGqHARBDASearchReport\",\"insCode\":\"10001081\",\"insName\":\"长江证券\",\"insStar\":\"4\",\"jlrs\":[\"3642600000\",\"4371100000\",\"\",\"\",\"\"],\"rate\":\"增持\",\"secuFullCode\":\"000538.SZ\",\"secuName\":\"云南白药\",\"sratingName\":\"推荐\",\"sy\":\"2.6600\",\"syls\":[\"20.76\",\"17.3\",\"\",\"\",\"\"],\"sys\":[\"3.5\",\"4.2\",\"\",\"\",\"\"],\"title\":\"牙膏保持高增长，积极发展电商新渠道\",\"profitYear\":\"2015\",\"type\":\"1\",\"newPrice\":\"69.23\"},{\"author\":\"张其立\",\"change\":\"维持\",\"companyCode\":\"10000880\",\"datetime\":\"2015-04-29T17:09:05\",\"infoCode\":\"APPGMGqHATNjASearchReport\",\"insCode\":\"10001075\",\"insName\":\"广发证券\",\"insStar\":\"4\",\"jlrs\":[\"3598000000\",\"4267000000\",\"\",\"\",\"\"],\"rate\":\"买入\",\"secuFullCode\":\"000538.SZ\",\"secuName\":\"云南白药\",\"sratingName\":\"买入\",\"sy\":\"2.6600\",\"syls\":[\"20\",\"17\",\"\",\"\",\"\"],\"sys\":[\"3.46\",\"4.1\",\"\",\"\",\"\"],\"title\":\"药品日化稳健增长，中药龙头有待重估\",\"profitYear\":\"2015\",\"type\":\"1\",\"newPrice\":\"69.23\"},{\"author\":\"季序我,林娜\",\"change\":\"维持\",\"companyCode\":\"10000880\",\"datetime\":\"2015-01-09T08:23:00\",\"infoCode\":\"APPGKyyH9eiIASearchReport\",\"insCode\":\"80086668\",\"insName\":\"瑞银证券\",\"insStar\":\"\",\"jlrs\":[\"3759000000\",\"\",\"\",\"\",\"\"],\"rate\":\"持有\",\"secuFullCode\":\"000538.SZ\",\"secuName\":\"云南白药\",\"sratingName\":\"买入\",\"sy\":\"2.6600\",\"syls\":[\"\",\"\",\"\",\"\",\"\"],\"sys\":[\"3.61\",\"\",\"\",\"\",\"\"],\"title\":\"稳健成长，估值修复有望持续\",\"profitYear\":\"2015\",\"type\":\"1\",\"newPrice\":\"69.23\"},{\"author\":\"季序我,林娜\",\"change\":\"首次\",\"companyCode\":\"10000880\",\"datetime\":\"2014-11-13T13:15:06\",\"infoCode\":\"APPFiqElLuJQASearchReport\",\"insCode\":\"80086668\",\"insName\":\"瑞银证券\",\"insStar\":\"\",\"jlrs\":[\"3759000000\",\"\",\"\",\"\",\"\"],\"rate\":\"持有\",\"secuFullCode\":\"000538.SZ\",\"secuName\":\"云南白药\",\"sratingName\":\"买入\",\"sy\":\"2.6600\",\"syls\":[\"18\",\"\",\"\",\"\",\"\"],\"sys\":[\"3.61\",\"\",\"\",\"\",\"\"],\"title\":\"基本面稳健，中药日化领域或有惊喜\",\"profitYear\":\"2015\",\"type\":\"1\",\"newPrice\":\"69.23\"},{\"author\":\"邹敏\",\"change\":\"维持\",\"companyCode\":\"10000880\",\"datetime\":\"2014-11-05T08:03:19\",\"infoCode\":\"APPFin6szGuBASearchReport\",\"insCode\":\"80000037\",\"insName\":\"平安证券\",\"insStar\":\"4\",\"jlrs\":[\"3360000000\",\"\",\"\",\"\",\"\"],\"rate\":\"增持\",\"secuFullCode\":\"000538.SZ\",\"secuName\":\"云南白药\",\"sratingName\":\"推荐\",\"sy\":\"2.6600\",\"syls\":[\"\",\"\",\"\",\"\",\"\"],\"sys\":[\"3.23\",\"\",\"\",\"\",\"\"],\"title\":\"药品增速逐季恢复，销售费用率下降带动盈利大幅提升\",\"profitYear\":\"2015\",\"type\":\"1\",\"newPrice\":\"69.23\"},{\"author\":\"燕智,李敬雷,黄挺\",\"change\":\"维持\",\"companyCode\":\"10000880\",\"datetime\":\"2014-10-29T16:04:02\",\"infoCode\":\"APPFiVJpJgkgASearchReport\",\"insCode\":\"10000082\",\"insName\":\"国金证券\",\"insStar\":\"5\",\"jlrs\":[\"\",\"\",\"\",\"\",\"\"],\"rate\":\"增持\",\"secuFullCode\":\"000538.SZ\",\"secuName\":\"云南白药\",\"sratingName\":\"增持\",\"sy\":\"2.6600\",\"syls\":[\"16.79\",\"\",\"\",\"\",\"\"],\"sys\":[\"5.238\",\"\",\"\",\"\",\"\"],\"title\":\"三季报业绩超预期，控费效果明显\",\"profitYear\":\"2015\",\"type\":\"1\",\"newPrice\":\"69.23\"}],\"pages\":\"2\",\"update\":\"2016-08-18\",\"count\":\"33\"}</p></body></html>"
      ]
     },
     "execution_count": 10,
     "metadata": {},
     "output_type": "execute_result"
    }
   ],
   "source": [
    "soup0"
   ]
  },
  {
   "cell_type": "code",
   "execution_count": 11,
   "metadata": {
    "collapsed": false
   },
   "outputs": [
    {
     "data": {
      "text/plain": [
       "'{\"data\":[{\"author\":\"研究部\",\"change\":\"\",\"companyCode\":\"10000880\",\"datetime\":\"2016-05-06T16:48:23\",\"infoCode\":\"APPH3krGmemfASearchReport\",\"insCode\":\"80000119\",\"insName\":\"群益证券\",\"insStar\":\"1\",\"jlrs\":[\"3113000000\",\"3556000000\",\"\",\"\",\"\"],\"rate\":\"增持\",\"secuFullCode\":\"000538.SZ\",\"secuName\":\"云南白药\",\"sratingName\":\"买入\",\"sy\":\"2.6600\",\"syls\":[\"23\",\"\",\"\",\"\",\"\"],\"sys\":[\"2.99\",\"3.42\",\"\",\"\",\"\"],\"title\":\"2016年1Q业绩略符合預期，长期看好大健康产业发展\",\"profitYear\":\"2015\",\"type\":\"1\",\"newPrice\":\"69.23\"},{\"author\":\"闫永正\",\"change\":\"\",\"companyCode\":\"10000880\",\"datetime\":\"2016-04-28T10:32:18\",\"infoCode\":\"APPH3SMFKGesASearchReport\",\"insCode\":\"80000119\",\"insName\":\"群益证券\",\"insStar\":\"1\",\"jlrs\":[\"3113000000\",\"3556000000\",\"\",\"\",\"\"],\"rate\":\"增持\",\"secuFullCode\":\"000538.SZ\",\"secuName\":\"云南白药\",\"sratingName\":\"买入\",\"sy\":\"2.6600\",\"syls\":[\"23\",\"\",\"\",\"\",\"\"],\"sys\":[\"2.99\",\"3.42\",\"\",\"\",\"\"],\"title\":\"2016年1Q业绩略符合预期，长期看好大健康产业发展\",\"profitYear\":\"2015\",\"type\":\"1\",\"newPrice\":\"69.23\"},{\"author\":\"张明芳\",\"change\":\"维持\",\"companyCode\":\"10000880\",\"datetime\":\"2016-04-28T17:07:12\",\"infoCode\":\"APPH3SMFKJDdASearchReport\",\"insCode\":\"80000074\",\"insName\":\"光大证券\",\"insStar\":\"5\",\"jlrs\":[\"3169630000\",\"3583200000\",\"3959660000\",\"\",\"\"],\"rate\":\"持有\",\"secuFullCode\":\"000538.SZ\",\"secuName\":\"云南白药\",\"sratingName\":\"增持\",\"sy\":\"2.6600\",\"syls\":[\"20\",\"18\",\"16\",\"\",\"\"],\"sys\":[\"2.95\",\"3.33\",\"3.68\",\"\",\"\"],\"title\":\"收入利润稳健增长，三七涨价导致毛利率略微下降\",\"profitYear\":\"2015\",\"type\":\"1\",\"newPrice\":\"69.23\"},{\"author\":\"闫永正\",\"change\":\"\",\"companyCode\":\"10000880\",\"datetime\":\"2016-04-21T10:17:28\",\"infoCode\":\"APPH3QhKULe5ASearchReport\",\"insCode\":\"80000119\",\"insName\":\"群益证券\",\"insStar\":\"1\",\"jlrs\":[\"3192000000\",\"3727000000\",\"\",\"\",\"\"],\"rate\":\"增持\",\"secuFullCode\":\"000538.SZ\",\"secuName\":\"云南白药\",\"sratingName\":\"买入\",\"sy\":\"2.6600\",\"syls\":[\"23\",\"\",\"\",\"\",\"\"],\"sys\":[\"3.07\",\"3.58\",\"\",\"\",\"\"],\"title\":\"2015年业绩略符合预期，长期看好大健康产业发展\",\"profitYear\":\"2015\",\"type\":\"1\",\"newPrice\":\"69.23\"},{\"author\":\"张明芳\",\"change\":\"首次\",\"companyCode\":\"10000880\",\"datetime\":\"2016-04-21T15:22:35\",\"infoCode\":\"APPH3QhKUMs7ASearchReport\",\"insCode\":\"80000074\",\"insName\":\"光大证券\",\"insStar\":\"5\",\"jlrs\":[\"3176930000\",\"3578570000\",\"3960830000\",\"\",\"\"],\"rate\":\"持有\",\"secuFullCode\":\"000538.SZ\",\"secuName\":\"云南白药\",\"sratingName\":\"增持\",\"sy\":\"2.6600\",\"syls\":[\"21\",\"18\",\"17\",\"\",\"\"],\"sys\":[\"2.95\",\"3.33\",\"3.68\",\"\",\"\"],\"title\":\"药品增长稳健，大健康和中药资源产品持续快速增长\",\"profitYear\":\"2015\",\"type\":\"1\",\"newPrice\":\"69.23\"},{\"author\":\"刘舒畅,黄伟轩\",\"change\":\"维持\",\"companyCode\":\"10000880\",\"datetime\":\"2016-04-20T16:07:16\",\"infoCode\":\"APPH3QTLDnUUASearchReport\",\"insCode\":\"10001081\",\"insName\":\"长江证券\",\"insStar\":\"4\",\"jlrs\":[\"3218500000\",\"3752900000\",\"4343100000\",\"\",\"\"],\"rate\":\"买入\",\"secuFullCode\":\"000538.SZ\",\"secuName\":\"云南白药\",\"sratingName\":\"买入\",\"sy\":\"2.6600\",\"syls\":[\"19.77\",\"16.95\",\"14.65\",\"\",\"\"],\"sys\":[\"3.09\",\"3.6\",\"4.17\",\"\",\"\"],\"title\":\"牙膏延续快增长，看好大健康布局\",\"profitYear\":\"2015\",\"type\":\"1\",\"newPrice\":\"69.23\"},{\"author\":\"闫永正\",\"change\":\"\",\"companyCode\":\"10000880\",\"datetime\":\"2015-11-03T09:52:57\",\"infoCode\":\"APPGPycr36GVASearchReport\",\"insCode\":\"80000119\",\"insName\":\"群益证券\",\"insStar\":\"1\",\"jlrs\":[\"3304000000\",\"\",\"\",\"\",\"\"],\"rate\":\"增持\",\"secuFullCode\":\"000538.SZ\",\"secuName\":\"云南白药\",\"sratingName\":\"买入\",\"sy\":\"2.6600\",\"syls\":[\"25\",\"\",\"\",\"\",\"\"],\"sys\":[\"3.17\",\"\",\"\",\"\",\"\"],\"title\":\"1-3Q业绩略符合预期，长期看好大健康产业发展\",\"profitYear\":\"2015\",\"type\":\"1\",\"newPrice\":\"69.23\"},{\"author\":\"魏巍,邹敏,叶寅\",\"change\":\"维持\",\"companyCode\":\"10000880\",\"datetime\":\"2015-11-02T16:10:26\",\"infoCode\":\"APPGPyNrlZpwASearchReport\",\"insCode\":\"80000037\",\"insName\":\"平安证券\",\"insStar\":\"4\",\"jlrs\":[\"3403000000\",\"4022000000\",\"\",\"\",\"\"],\"rate\":\"增持\",\"secuFullCode\":\"000538.SZ\",\"secuName\":\"云南白药\",\"sratingName\":\"推荐\",\"sy\":\"2.6600\",\"syls\":[\"27\",\"\",\"\",\"\",\"\"],\"sys\":[\"3.27\",\"3.86\",\"\",\"\",\"\"],\"title\":\"公司季报点评：董事会换届名单出炉，国企改革步伐有望加快\",\"profitYear\":\"2015\",\"type\":\"1\",\"newPrice\":\"69.23\"},{\"author\":\"闫永正\",\"change\":\"\",\"companyCode\":\"10000880\",\"datetime\":\"2015-08-21T08:55:11\",\"infoCode\":\"APPGNqlN3CfZASearchReport\",\"insCode\":\"80000119\",\"insName\":\"群益证券\",\"insStar\":\"1\",\"jlrs\":[\"3366000000\",\"\",\"\",\"\",\"\"],\"rate\":\"增持\",\"secuFullCode\":\"000538.SZ\",\"secuName\":\"云南白药\",\"sratingName\":\"买入\",\"sy\":\"2.6600\",\"syls\":[\"25\",\"\",\"\",\"\",\"\"],\"sys\":[\"3.23\",\"\",\"\",\"\",\"\"],\"title\":\"中报业绩略低于预期，长期看好大健康产业发展\",\"profitYear\":\"2015\",\"type\":\"1\",\"newPrice\":\"69.23\"},{\"author\":\"张科然\",\"change\":\"\",\"companyCode\":\"10000880\",\"datetime\":\"2015-08-21T11:05:53\",\"infoCode\":\"APPGNqlN3CyWASearchReport\",\"insCode\":\"80092743\",\"insName\":\"华融证券\",\"insStar\":\"3\",\"jlrs\":[\"3412000000\",\"3967200000\",\"\",\"\",\"\"],\"rate\":\"增持\",\"secuFullCode\":\"000538.SZ\",\"secuName\":\"云南白药\",\"sratingName\":\"推荐\",\"sy\":\"2.6600\",\"syls\":[\"22\",\"19\",\"\",\"\",\"\"],\"sys\":[\"3.28\",\"3.81\",\"\",\"\",\"\"],\"title\":\"中报点评：大健康产业夯实业绩\",\"profitYear\":\"2015\",\"type\":\"1\",\"newPrice\":\"69.23\"},{\"author\":\"李平祝\",\"change\":\"首次\",\"companyCode\":\"10000880\",\"datetime\":\"2015-08-21T17:26:14\",\"infoCode\":\"APPGNqlN3E76ASearchReport\",\"insCode\":\"80000135\",\"insName\":\"银河证券\",\"insStar\":\"5\",\"jlrs\":[\"\",\"\",\"\",\"\",\"\"],\"rate\":\"增持\",\"secuFullCode\":\"000538.SZ\",\"secuName\":\"云南白药\",\"sratingName\":\"谨慎推荐\",\"sy\":\"2.6600\",\"syls\":[\"\",\"\",\"\",\"\",\"\"],\"sys\":[\"2.99\",\"3.36\",\"\",\"\",\"\"],\"title\":\"2015年中报点评：白药牙膏持续高增长，混改预期渐升温\",\"profitYear\":\"2015\",\"type\":\"1\",\"newPrice\":\"69.23\"},{\"author\":\"李珊珊,李勇剑\",\"change\":\"维持\",\"companyCode\":\"10000880\",\"datetime\":\"2015-08-20T10:54:33\",\"infoCode\":\"APPGNqXNlflPASearchReport\",\"insCode\":\"80000012\",\"insName\":\"招商证券\",\"insStar\":\"5\",\"jlrs\":[\"3299000000\",\"3699000000\",\"\",\"\",\"\"],\"rate\":\"买入\",\"secuFullCode\":\"000538.SZ\",\"secuName\":\"云南白药\",\"sratingName\":\"强烈推荐\",\"sy\":\"2.6600\",\"syls\":[\"23\",\"20.5\",\"\",\"\",\"\"],\"sys\":[\"3.17\",\"3.55\",\"\",\"\",\"\"],\"title\":\"中报净利增11%，健康事业部表现靓丽\",\"profitYear\":\"2015\",\"type\":\"1\",\"newPrice\":\"69.23\"},{\"author\":\"魏巍,邹敏,叶寅\",\"change\":\"维持\",\"companyCode\":\"10000880\",\"datetime\":\"2015-08-20T13:49:19\",\"infoCode\":\"APPGNqXNlgD1ASearchReport\",\"insCode\":\"80000037\",\"insName\":\"平安证券\",\"insStar\":\"4\",\"jlrs\":[\"3403000000\",\"\",\"\",\"\",\"\"],\"rate\":\"增持\",\"secuFullCode\":\"000538.SZ\",\"secuName\":\"云南白药\",\"sratingName\":\"推荐\",\"sy\":\"2.6600\",\"syls\":[\"22.3\",\"\",\"\",\"\",\"\"],\"sys\":[\"3.27\",\"\",\"\",\"\",\"\"],\"title\":\"健康事业部继续保持高增长，期待国企改革进一步释放活力\",\"profitYear\":\"2015\",\"type\":\"1\",\"newPrice\":\"69.23\"},{\"author\":\"刘舒畅,黄伟轩\",\"change\":\"维持\",\"companyCode\":\"10000880\",\"datetime\":\"2015-08-20T14:13:34\",\"infoCode\":\"APPGNqXNlgKzASearchReport\",\"insCode\":\"10001081\",\"insName\":\"长江证券\",\"insStar\":\"4\",\"jlrs\":[\"3610000000\",\"4334000000\",\"\",\"\",\"\"],\"rate\":\"买入\",\"secuFullCode\":\"000538.SZ\",\"secuName\":\"云南白药\",\"sratingName\":\"买入\",\"sy\":\"2.6600\",\"syls\":[\"21\",\"17\",\"\",\"\",\"\"],\"sys\":[\"3.47\",\"4.16\",\"\",\"\",\"\"],\"title\":\"业绩增长平稳，大健康值得期待\",\"profitYear\":\"2015\",\"type\":\"1\",\"newPrice\":\"69.23\"},{\"author\":\"林娜\",\"change\":\"维持\",\"companyCode\":\"10000880\",\"datetime\":\"2015-08-20T16:15:12\",\"infoCode\":\"APPGNqXNlgYdASearchReport\",\"insCode\":\"80086668\",\"insName\":\"瑞银证券\",\"insStar\":\"\",\"jlrs\":[\"3692000000\",\"4414000000\",\"\",\"\",\"\"],\"rate\":\"持有\",\"secuFullCode\":\"000538.SZ\",\"secuName\":\"云南白药\",\"sratingName\":\"买入\",\"sy\":\"2.6600\",\"syls\":[\"21\",\"17\",\"\",\"\",\"\"],\"sys\":[\"3.55\",\"4.24\",\"\",\"\",\"\"],\"title\":\"业绩稳健增长，牙膏表现靓丽\",\"profitYear\":\"2015\",\"type\":\"1\",\"newPrice\":\"69.23\"},{\"author\":\"朱国广\",\"change\":\"首次\",\"companyCode\":\"10000880\",\"datetime\":\"2015-08-20T17:44:31\",\"infoCode\":\"APPGNqXNlhBJASearchReport\",\"insCode\":\"10000296\",\"insName\":\"西南证券\",\"insStar\":\"3\",\"jlrs\":[\"3179670000\",\"3605960000\",\"\",\"\",\"\"],\"rate\":\"增持\",\"secuFullCode\":\"000538.SZ\",\"secuName\":\"云南白药\",\"sratingName\":\"增持\",\"sy\":\"2.6600\",\"syls\":[\"24\",\"21\",\"\",\"\",\"\"],\"sys\":[\"3.05\",\"3.46\",\"\",\"\",\"\"],\"title\":\"整体业绩稳健增长，大健康完整布局逐步形成\",\"profitYear\":\"2015\",\"type\":\"1\",\"newPrice\":\"69.23\"},{\"author\":\"季序我,林娜\",\"change\":\"维持\",\"companyCode\":\"10000880\",\"datetime\":\"2015-04-30T08:26:39\",\"infoCode\":\"APPGMH5GQzkXASearchReport\",\"insCode\":\"80086668\",\"insName\":\"瑞银证券\",\"insStar\":\"\",\"jlrs\":[\"\",\"\",\"\",\"\",\"\"],\"rate\":\"持有\",\"secuFullCode\":\"000538.SZ\",\"secuName\":\"云南白药\",\"sratingName\":\"买入\",\"sy\":\"2.6600\",\"syls\":[\"20\",\"17\",\"\",\"\",\"\"],\"sys\":[\"3.49\",\"4.2\",\"\",\"\",\"\"],\"title\":\"盈利稳健增长，预计Q1为全年增速低点\",\"profitYear\":\"2015\",\"type\":\"1\",\"newPrice\":\"69.23\"},{\"author\":\"刘舒畅\",\"change\":\"维持\",\"companyCode\":\"10000880\",\"datetime\":\"2015-04-30T16:20:02\",\"infoCode\":\"APPGMH5GR3i8ASearchReport\",\"insCode\":\"10001081\",\"insName\":\"长江证券\",\"insStar\":\"4\",\"jlrs\":[\"3642600000\",\"4371100000\",\"\",\"\",\"\"],\"rate\":\"增持\",\"secuFullCode\":\"000538.SZ\",\"secuName\":\"云南白药\",\"sratingName\":\"推荐\",\"sy\":\"2.6600\",\"syls\":[\"20\",\"17\",\"\",\"\",\"\"],\"sys\":[\"3.5\",\"4.2\",\"\",\"\",\"\"],\"title\":\"一季度增长稳健，消费品空间广阔\",\"profitYear\":\"2015\",\"type\":\"1\",\"newPrice\":\"69.23\"},{\"author\":\"闫永正\",\"change\":\"维持\",\"companyCode\":\"10000880\",\"datetime\":\"2015-04-30T16:21:06\",\"infoCode\":\"APPGMH5GR3dqASearchReport\",\"insCode\":\"80000119\",\"insName\":\"群益证券\",\"insStar\":\"1\",\"jlrs\":[\"3634000000\",\"\",\"\",\"\",\"\"],\"rate\":\"增持\",\"secuFullCode\":\"000538.SZ\",\"secuName\":\"云南白药\",\"sratingName\":\"买入\",\"sy\":\"2.6600\",\"syls\":[\"23\",\"\",\"\",\"\",\"\"],\"sys\":[\"3.49\",\"\",\"\",\"\",\"\"],\"title\":\"业绩符合预期，长期看好大健康产业发展\",\"profitYear\":\"2015\",\"type\":\"1\",\"newPrice\":\"69.23\"},{\"author\":\"刘舒畅\",\"change\":\"维持\",\"companyCode\":\"10000880\",\"datetime\":\"2015-04-29T08:24:00\",\"infoCode\":\"APPGMGqHARBDASearchReport\",\"insCode\":\"10001081\",\"insName\":\"长江证券\",\"insStar\":\"4\",\"jlrs\":[\"3642600000\",\"4371100000\",\"\",\"\",\"\"],\"rate\":\"增持\",\"secuFullCode\":\"000538.SZ\",\"secuName\":\"云南白药\",\"sratingName\":\"推荐\",\"sy\":\"2.6600\",\"syls\":[\"20.76\",\"17.3\",\"\",\"\",\"\"],\"sys\":[\"3.5\",\"4.2\",\"\",\"\",\"\"],\"title\":\"牙膏保持高增长，积极发展电商新渠道\",\"profitYear\":\"2015\",\"type\":\"1\",\"newPrice\":\"69.23\"},{\"author\":\"张其立\",\"change\":\"维持\",\"companyCode\":\"10000880\",\"datetime\":\"2015-04-29T17:09:05\",\"infoCode\":\"APPGMGqHATNjASearchReport\",\"insCode\":\"10001075\",\"insName\":\"广发证券\",\"insStar\":\"4\",\"jlrs\":[\"3598000000\",\"4267000000\",\"\",\"\",\"\"],\"rate\":\"买入\",\"secuFullCode\":\"000538.SZ\",\"secuName\":\"云南白药\",\"sratingName\":\"买入\",\"sy\":\"2.6600\",\"syls\":[\"20\",\"17\",\"\",\"\",\"\"],\"sys\":[\"3.46\",\"4.1\",\"\",\"\",\"\"],\"title\":\"药品日化稳健增长，中药龙头有待重估\",\"profitYear\":\"2015\",\"type\":\"1\",\"newPrice\":\"69.23\"},{\"author\":\"季序我,林娜\",\"change\":\"维持\",\"companyCode\":\"10000880\",\"datetime\":\"2015-01-09T08:23:00\",\"infoCode\":\"APPGKyyH9eiIASearchReport\",\"insCode\":\"80086668\",\"insName\":\"瑞银证券\",\"insStar\":\"\",\"jlrs\":[\"3759000000\",\"\",\"\",\"\",\"\"],\"rate\":\"持有\",\"secuFullCode\":\"000538.SZ\",\"secuName\":\"云南白药\",\"sratingName\":\"买入\",\"sy\":\"2.6600\",\"syls\":[\"\",\"\",\"\",\"\",\"\"],\"sys\":[\"3.61\",\"\",\"\",\"\",\"\"],\"title\":\"稳健成长，估值修复有望持续\",\"profitYear\":\"2015\",\"type\":\"1\",\"newPrice\":\"69.23\"},{\"author\":\"季序我,林娜\",\"change\":\"首次\",\"companyCode\":\"10000880\",\"datetime\":\"2014-11-13T13:15:06\",\"infoCode\":\"APPFiqElLuJQASearchReport\",\"insCode\":\"80086668\",\"insName\":\"瑞银证券\",\"insStar\":\"\",\"jlrs\":[\"3759000000\",\"\",\"\",\"\",\"\"],\"rate\":\"持有\",\"secuFullCode\":\"000538.SZ\",\"secuName\":\"云南白药\",\"sratingName\":\"买入\",\"sy\":\"2.6600\",\"syls\":[\"18\",\"\",\"\",\"\",\"\"],\"sys\":[\"3.61\",\"\",\"\",\"\",\"\"],\"title\":\"基本面稳健，中药日化领域或有惊喜\",\"profitYear\":\"2015\",\"type\":\"1\",\"newPrice\":\"69.23\"},{\"author\":\"邹敏\",\"change\":\"维持\",\"companyCode\":\"10000880\",\"datetime\":\"2014-11-05T08:03:19\",\"infoCode\":\"APPFin6szGuBASearchReport\",\"insCode\":\"80000037\",\"insName\":\"平安证券\",\"insStar\":\"4\",\"jlrs\":[\"3360000000\",\"\",\"\",\"\",\"\"],\"rate\":\"增持\",\"secuFullCode\":\"000538.SZ\",\"secuName\":\"云南白药\",\"sratingName\":\"推荐\",\"sy\":\"2.6600\",\"syls\":[\"\",\"\",\"\",\"\",\"\"],\"sys\":[\"3.23\",\"\",\"\",\"\",\"\"],\"title\":\"药品增速逐季恢复，销售费用率下降带动盈利大幅提升\",\"profitYear\":\"2015\",\"type\":\"1\",\"newPrice\":\"69.23\"},{\"author\":\"燕智,李敬雷,黄挺\",\"change\":\"维持\",\"companyCode\":\"10000880\",\"datetime\":\"2014-10-29T16:04:02\",\"infoCode\":\"APPFiVJpJgkgASearchReport\",\"insCode\":\"10000082\",\"insName\":\"国金证券\",\"insStar\":\"5\",\"jlrs\":[\"\",\"\",\"\",\"\",\"\"],\"rate\":\"增持\",\"secuFullCode\":\"000538.SZ\",\"secuName\":\"云南白药\",\"sratingName\":\"增持\",\"sy\":\"2.6600\",\"syls\":[\"16.79\",\"\",\"\",\"\",\"\"],\"sys\":[\"5.238\",\"\",\"\",\"\",\"\"],\"title\":\"三季报业绩超预期，控费效果明显\",\"profitYear\":\"2015\",\"type\":\"1\",\"newPrice\":\"69.23\"}],\"pages\":\"2\",\"update\":\"2016-08-18\",\"count\":\"33\"}'"
      ]
     },
     "execution_count": 11,
     "metadata": {},
     "output_type": "execute_result"
    }
   ],
   "source": [
    "soup0.text.split('=')[1]"
   ]
  },
  {
   "cell_type": "code",
   "execution_count": 12,
   "metadata": {
    "collapsed": false
   },
   "outputs": [],
   "source": [
    "jsontext = json.loads(soup0.text.split('=')[1])"
   ]
  },
  {
   "cell_type": "code",
   "execution_count": 16,
   "metadata": {
    "collapsed": false
   },
   "outputs": [
    {
     "data": {
      "text/plain": [
       "[{'author': '研究部',\n",
       "  'change': '',\n",
       "  'companyCode': '10000880',\n",
       "  'datetime': '2016-05-06T16:48:23',\n",
       "  'infoCode': 'APPH3krGmemfASearchReport',\n",
       "  'insCode': '80000119',\n",
       "  'insName': '群益证券',\n",
       "  'insStar': '1',\n",
       "  'jlrs': ['3113000000', '3556000000', '', '', ''],\n",
       "  'newPrice': '69.23',\n",
       "  'profitYear': '2015',\n",
       "  'rate': '增持',\n",
       "  'secuFullCode': '000538.SZ',\n",
       "  'secuName': '云南白药',\n",
       "  'sratingName': '买入',\n",
       "  'sy': '2.6600',\n",
       "  'syls': ['23', '', '', '', ''],\n",
       "  'sys': ['2.99', '3.42', '', '', ''],\n",
       "  'title': '2016年1Q业绩略符合預期，长期看好大健康产业发展',\n",
       "  'type': '1'},\n",
       " {'author': '闫永正',\n",
       "  'change': '',\n",
       "  'companyCode': '10000880',\n",
       "  'datetime': '2016-04-28T10:32:18',\n",
       "  'infoCode': 'APPH3SMFKGesASearchReport',\n",
       "  'insCode': '80000119',\n",
       "  'insName': '群益证券',\n",
       "  'insStar': '1',\n",
       "  'jlrs': ['3113000000', '3556000000', '', '', ''],\n",
       "  'newPrice': '69.23',\n",
       "  'profitYear': '2015',\n",
       "  'rate': '增持',\n",
       "  'secuFullCode': '000538.SZ',\n",
       "  'secuName': '云南白药',\n",
       "  'sratingName': '买入',\n",
       "  'sy': '2.6600',\n",
       "  'syls': ['23', '', '', '', ''],\n",
       "  'sys': ['2.99', '3.42', '', '', ''],\n",
       "  'title': '2016年1Q业绩略符合预期，长期看好大健康产业发展',\n",
       "  'type': '1'},\n",
       " {'author': '张明芳',\n",
       "  'change': '维持',\n",
       "  'companyCode': '10000880',\n",
       "  'datetime': '2016-04-28T17:07:12',\n",
       "  'infoCode': 'APPH3SMFKJDdASearchReport',\n",
       "  'insCode': '80000074',\n",
       "  'insName': '光大证券',\n",
       "  'insStar': '5',\n",
       "  'jlrs': ['3169630000', '3583200000', '3959660000', '', ''],\n",
       "  'newPrice': '69.23',\n",
       "  'profitYear': '2015',\n",
       "  'rate': '持有',\n",
       "  'secuFullCode': '000538.SZ',\n",
       "  'secuName': '云南白药',\n",
       "  'sratingName': '增持',\n",
       "  'sy': '2.6600',\n",
       "  'syls': ['20', '18', '16', '', ''],\n",
       "  'sys': ['2.95', '3.33', '3.68', '', ''],\n",
       "  'title': '收入利润稳健增长，三七涨价导致毛利率略微下降',\n",
       "  'type': '1'},\n",
       " {'author': '闫永正',\n",
       "  'change': '',\n",
       "  'companyCode': '10000880',\n",
       "  'datetime': '2016-04-21T10:17:28',\n",
       "  'infoCode': 'APPH3QhKULe5ASearchReport',\n",
       "  'insCode': '80000119',\n",
       "  'insName': '群益证券',\n",
       "  'insStar': '1',\n",
       "  'jlrs': ['3192000000', '3727000000', '', '', ''],\n",
       "  'newPrice': '69.23',\n",
       "  'profitYear': '2015',\n",
       "  'rate': '增持',\n",
       "  'secuFullCode': '000538.SZ',\n",
       "  'secuName': '云南白药',\n",
       "  'sratingName': '买入',\n",
       "  'sy': '2.6600',\n",
       "  'syls': ['23', '', '', '', ''],\n",
       "  'sys': ['3.07', '3.58', '', '', ''],\n",
       "  'title': '2015年业绩略符合预期，长期看好大健康产业发展',\n",
       "  'type': '1'},\n",
       " {'author': '张明芳',\n",
       "  'change': '首次',\n",
       "  'companyCode': '10000880',\n",
       "  'datetime': '2016-04-21T15:22:35',\n",
       "  'infoCode': 'APPH3QhKUMs7ASearchReport',\n",
       "  'insCode': '80000074',\n",
       "  'insName': '光大证券',\n",
       "  'insStar': '5',\n",
       "  'jlrs': ['3176930000', '3578570000', '3960830000', '', ''],\n",
       "  'newPrice': '69.23',\n",
       "  'profitYear': '2015',\n",
       "  'rate': '持有',\n",
       "  'secuFullCode': '000538.SZ',\n",
       "  'secuName': '云南白药',\n",
       "  'sratingName': '增持',\n",
       "  'sy': '2.6600',\n",
       "  'syls': ['21', '18', '17', '', ''],\n",
       "  'sys': ['2.95', '3.33', '3.68', '', ''],\n",
       "  'title': '药品增长稳健，大健康和中药资源产品持续快速增长',\n",
       "  'type': '1'},\n",
       " {'author': '刘舒畅,黄伟轩',\n",
       "  'change': '维持',\n",
       "  'companyCode': '10000880',\n",
       "  'datetime': '2016-04-20T16:07:16',\n",
       "  'infoCode': 'APPH3QTLDnUUASearchReport',\n",
       "  'insCode': '10001081',\n",
       "  'insName': '长江证券',\n",
       "  'insStar': '4',\n",
       "  'jlrs': ['3218500000', '3752900000', '4343100000', '', ''],\n",
       "  'newPrice': '69.23',\n",
       "  'profitYear': '2015',\n",
       "  'rate': '买入',\n",
       "  'secuFullCode': '000538.SZ',\n",
       "  'secuName': '云南白药',\n",
       "  'sratingName': '买入',\n",
       "  'sy': '2.6600',\n",
       "  'syls': ['19.77', '16.95', '14.65', '', ''],\n",
       "  'sys': ['3.09', '3.6', '4.17', '', ''],\n",
       "  'title': '牙膏延续快增长，看好大健康布局',\n",
       "  'type': '1'},\n",
       " {'author': '闫永正',\n",
       "  'change': '',\n",
       "  'companyCode': '10000880',\n",
       "  'datetime': '2015-11-03T09:52:57',\n",
       "  'infoCode': 'APPGPycr36GVASearchReport',\n",
       "  'insCode': '80000119',\n",
       "  'insName': '群益证券',\n",
       "  'insStar': '1',\n",
       "  'jlrs': ['3304000000', '', '', '', ''],\n",
       "  'newPrice': '69.23',\n",
       "  'profitYear': '2015',\n",
       "  'rate': '增持',\n",
       "  'secuFullCode': '000538.SZ',\n",
       "  'secuName': '云南白药',\n",
       "  'sratingName': '买入',\n",
       "  'sy': '2.6600',\n",
       "  'syls': ['25', '', '', '', ''],\n",
       "  'sys': ['3.17', '', '', '', ''],\n",
       "  'title': '1-3Q业绩略符合预期，长期看好大健康产业发展',\n",
       "  'type': '1'},\n",
       " {'author': '魏巍,邹敏,叶寅',\n",
       "  'change': '维持',\n",
       "  'companyCode': '10000880',\n",
       "  'datetime': '2015-11-02T16:10:26',\n",
       "  'infoCode': 'APPGPyNrlZpwASearchReport',\n",
       "  'insCode': '80000037',\n",
       "  'insName': '平安证券',\n",
       "  'insStar': '4',\n",
       "  'jlrs': ['3403000000', '4022000000', '', '', ''],\n",
       "  'newPrice': '69.23',\n",
       "  'profitYear': '2015',\n",
       "  'rate': '增持',\n",
       "  'secuFullCode': '000538.SZ',\n",
       "  'secuName': '云南白药',\n",
       "  'sratingName': '推荐',\n",
       "  'sy': '2.6600',\n",
       "  'syls': ['27', '', '', '', ''],\n",
       "  'sys': ['3.27', '3.86', '', '', ''],\n",
       "  'title': '公司季报点评：董事会换届名单出炉，国企改革步伐有望加快',\n",
       "  'type': '1'},\n",
       " {'author': '闫永正',\n",
       "  'change': '',\n",
       "  'companyCode': '10000880',\n",
       "  'datetime': '2015-08-21T08:55:11',\n",
       "  'infoCode': 'APPGNqlN3CfZASearchReport',\n",
       "  'insCode': '80000119',\n",
       "  'insName': '群益证券',\n",
       "  'insStar': '1',\n",
       "  'jlrs': ['3366000000', '', '', '', ''],\n",
       "  'newPrice': '69.23',\n",
       "  'profitYear': '2015',\n",
       "  'rate': '增持',\n",
       "  'secuFullCode': '000538.SZ',\n",
       "  'secuName': '云南白药',\n",
       "  'sratingName': '买入',\n",
       "  'sy': '2.6600',\n",
       "  'syls': ['25', '', '', '', ''],\n",
       "  'sys': ['3.23', '', '', '', ''],\n",
       "  'title': '中报业绩略低于预期，长期看好大健康产业发展',\n",
       "  'type': '1'},\n",
       " {'author': '张科然',\n",
       "  'change': '',\n",
       "  'companyCode': '10000880',\n",
       "  'datetime': '2015-08-21T11:05:53',\n",
       "  'infoCode': 'APPGNqlN3CyWASearchReport',\n",
       "  'insCode': '80092743',\n",
       "  'insName': '华融证券',\n",
       "  'insStar': '3',\n",
       "  'jlrs': ['3412000000', '3967200000', '', '', ''],\n",
       "  'newPrice': '69.23',\n",
       "  'profitYear': '2015',\n",
       "  'rate': '增持',\n",
       "  'secuFullCode': '000538.SZ',\n",
       "  'secuName': '云南白药',\n",
       "  'sratingName': '推荐',\n",
       "  'sy': '2.6600',\n",
       "  'syls': ['22', '19', '', '', ''],\n",
       "  'sys': ['3.28', '3.81', '', '', ''],\n",
       "  'title': '中报点评：大健康产业夯实业绩',\n",
       "  'type': '1'},\n",
       " {'author': '李平祝',\n",
       "  'change': '首次',\n",
       "  'companyCode': '10000880',\n",
       "  'datetime': '2015-08-21T17:26:14',\n",
       "  'infoCode': 'APPGNqlN3E76ASearchReport',\n",
       "  'insCode': '80000135',\n",
       "  'insName': '银河证券',\n",
       "  'insStar': '5',\n",
       "  'jlrs': ['', '', '', '', ''],\n",
       "  'newPrice': '69.23',\n",
       "  'profitYear': '2015',\n",
       "  'rate': '增持',\n",
       "  'secuFullCode': '000538.SZ',\n",
       "  'secuName': '云南白药',\n",
       "  'sratingName': '谨慎推荐',\n",
       "  'sy': '2.6600',\n",
       "  'syls': ['', '', '', '', ''],\n",
       "  'sys': ['2.99', '3.36', '', '', ''],\n",
       "  'title': '2015年中报点评：白药牙膏持续高增长，混改预期渐升温',\n",
       "  'type': '1'},\n",
       " {'author': '李珊珊,李勇剑',\n",
       "  'change': '维持',\n",
       "  'companyCode': '10000880',\n",
       "  'datetime': '2015-08-20T10:54:33',\n",
       "  'infoCode': 'APPGNqXNlflPASearchReport',\n",
       "  'insCode': '80000012',\n",
       "  'insName': '招商证券',\n",
       "  'insStar': '5',\n",
       "  'jlrs': ['3299000000', '3699000000', '', '', ''],\n",
       "  'newPrice': '69.23',\n",
       "  'profitYear': '2015',\n",
       "  'rate': '买入',\n",
       "  'secuFullCode': '000538.SZ',\n",
       "  'secuName': '云南白药',\n",
       "  'sratingName': '强烈推荐',\n",
       "  'sy': '2.6600',\n",
       "  'syls': ['23', '20.5', '', '', ''],\n",
       "  'sys': ['3.17', '3.55', '', '', ''],\n",
       "  'title': '中报净利增11%，健康事业部表现靓丽',\n",
       "  'type': '1'},\n",
       " {'author': '魏巍,邹敏,叶寅',\n",
       "  'change': '维持',\n",
       "  'companyCode': '10000880',\n",
       "  'datetime': '2015-08-20T13:49:19',\n",
       "  'infoCode': 'APPGNqXNlgD1ASearchReport',\n",
       "  'insCode': '80000037',\n",
       "  'insName': '平安证券',\n",
       "  'insStar': '4',\n",
       "  'jlrs': ['3403000000', '', '', '', ''],\n",
       "  'newPrice': '69.23',\n",
       "  'profitYear': '2015',\n",
       "  'rate': '增持',\n",
       "  'secuFullCode': '000538.SZ',\n",
       "  'secuName': '云南白药',\n",
       "  'sratingName': '推荐',\n",
       "  'sy': '2.6600',\n",
       "  'syls': ['22.3', '', '', '', ''],\n",
       "  'sys': ['3.27', '', '', '', ''],\n",
       "  'title': '健康事业部继续保持高增长，期待国企改革进一步释放活力',\n",
       "  'type': '1'},\n",
       " {'author': '刘舒畅,黄伟轩',\n",
       "  'change': '维持',\n",
       "  'companyCode': '10000880',\n",
       "  'datetime': '2015-08-20T14:13:34',\n",
       "  'infoCode': 'APPGNqXNlgKzASearchReport',\n",
       "  'insCode': '10001081',\n",
       "  'insName': '长江证券',\n",
       "  'insStar': '4',\n",
       "  'jlrs': ['3610000000', '4334000000', '', '', ''],\n",
       "  'newPrice': '69.23',\n",
       "  'profitYear': '2015',\n",
       "  'rate': '买入',\n",
       "  'secuFullCode': '000538.SZ',\n",
       "  'secuName': '云南白药',\n",
       "  'sratingName': '买入',\n",
       "  'sy': '2.6600',\n",
       "  'syls': ['21', '17', '', '', ''],\n",
       "  'sys': ['3.47', '4.16', '', '', ''],\n",
       "  'title': '业绩增长平稳，大健康值得期待',\n",
       "  'type': '1'},\n",
       " {'author': '林娜',\n",
       "  'change': '维持',\n",
       "  'companyCode': '10000880',\n",
       "  'datetime': '2015-08-20T16:15:12',\n",
       "  'infoCode': 'APPGNqXNlgYdASearchReport',\n",
       "  'insCode': '80086668',\n",
       "  'insName': '瑞银证券',\n",
       "  'insStar': '',\n",
       "  'jlrs': ['3692000000', '4414000000', '', '', ''],\n",
       "  'newPrice': '69.23',\n",
       "  'profitYear': '2015',\n",
       "  'rate': '持有',\n",
       "  'secuFullCode': '000538.SZ',\n",
       "  'secuName': '云南白药',\n",
       "  'sratingName': '买入',\n",
       "  'sy': '2.6600',\n",
       "  'syls': ['21', '17', '', '', ''],\n",
       "  'sys': ['3.55', '4.24', '', '', ''],\n",
       "  'title': '业绩稳健增长，牙膏表现靓丽',\n",
       "  'type': '1'},\n",
       " {'author': '朱国广',\n",
       "  'change': '首次',\n",
       "  'companyCode': '10000880',\n",
       "  'datetime': '2015-08-20T17:44:31',\n",
       "  'infoCode': 'APPGNqXNlhBJASearchReport',\n",
       "  'insCode': '10000296',\n",
       "  'insName': '西南证券',\n",
       "  'insStar': '3',\n",
       "  'jlrs': ['3179670000', '3605960000', '', '', ''],\n",
       "  'newPrice': '69.23',\n",
       "  'profitYear': '2015',\n",
       "  'rate': '增持',\n",
       "  'secuFullCode': '000538.SZ',\n",
       "  'secuName': '云南白药',\n",
       "  'sratingName': '增持',\n",
       "  'sy': '2.6600',\n",
       "  'syls': ['24', '21', '', '', ''],\n",
       "  'sys': ['3.05', '3.46', '', '', ''],\n",
       "  'title': '整体业绩稳健增长，大健康完整布局逐步形成',\n",
       "  'type': '1'},\n",
       " {'author': '季序我,林娜',\n",
       "  'change': '维持',\n",
       "  'companyCode': '10000880',\n",
       "  'datetime': '2015-04-30T08:26:39',\n",
       "  'infoCode': 'APPGMH5GQzkXASearchReport',\n",
       "  'insCode': '80086668',\n",
       "  'insName': '瑞银证券',\n",
       "  'insStar': '',\n",
       "  'jlrs': ['', '', '', '', ''],\n",
       "  'newPrice': '69.23',\n",
       "  'profitYear': '2015',\n",
       "  'rate': '持有',\n",
       "  'secuFullCode': '000538.SZ',\n",
       "  'secuName': '云南白药',\n",
       "  'sratingName': '买入',\n",
       "  'sy': '2.6600',\n",
       "  'syls': ['20', '17', '', '', ''],\n",
       "  'sys': ['3.49', '4.2', '', '', ''],\n",
       "  'title': '盈利稳健增长，预计Q1为全年增速低点',\n",
       "  'type': '1'},\n",
       " {'author': '刘舒畅',\n",
       "  'change': '维持',\n",
       "  'companyCode': '10000880',\n",
       "  'datetime': '2015-04-30T16:20:02',\n",
       "  'infoCode': 'APPGMH5GR3i8ASearchReport',\n",
       "  'insCode': '10001081',\n",
       "  'insName': '长江证券',\n",
       "  'insStar': '4',\n",
       "  'jlrs': ['3642600000', '4371100000', '', '', ''],\n",
       "  'newPrice': '69.23',\n",
       "  'profitYear': '2015',\n",
       "  'rate': '增持',\n",
       "  'secuFullCode': '000538.SZ',\n",
       "  'secuName': '云南白药',\n",
       "  'sratingName': '推荐',\n",
       "  'sy': '2.6600',\n",
       "  'syls': ['20', '17', '', '', ''],\n",
       "  'sys': ['3.5', '4.2', '', '', ''],\n",
       "  'title': '一季度增长稳健，消费品空间广阔',\n",
       "  'type': '1'},\n",
       " {'author': '闫永正',\n",
       "  'change': '维持',\n",
       "  'companyCode': '10000880',\n",
       "  'datetime': '2015-04-30T16:21:06',\n",
       "  'infoCode': 'APPGMH5GR3dqASearchReport',\n",
       "  'insCode': '80000119',\n",
       "  'insName': '群益证券',\n",
       "  'insStar': '1',\n",
       "  'jlrs': ['3634000000', '', '', '', ''],\n",
       "  'newPrice': '69.23',\n",
       "  'profitYear': '2015',\n",
       "  'rate': '增持',\n",
       "  'secuFullCode': '000538.SZ',\n",
       "  'secuName': '云南白药',\n",
       "  'sratingName': '买入',\n",
       "  'sy': '2.6600',\n",
       "  'syls': ['23', '', '', '', ''],\n",
       "  'sys': ['3.49', '', '', '', ''],\n",
       "  'title': '业绩符合预期，长期看好大健康产业发展',\n",
       "  'type': '1'},\n",
       " {'author': '刘舒畅',\n",
       "  'change': '维持',\n",
       "  'companyCode': '10000880',\n",
       "  'datetime': '2015-04-29T08:24:00',\n",
       "  'infoCode': 'APPGMGqHARBDASearchReport',\n",
       "  'insCode': '10001081',\n",
       "  'insName': '长江证券',\n",
       "  'insStar': '4',\n",
       "  'jlrs': ['3642600000', '4371100000', '', '', ''],\n",
       "  'newPrice': '69.23',\n",
       "  'profitYear': '2015',\n",
       "  'rate': '增持',\n",
       "  'secuFullCode': '000538.SZ',\n",
       "  'secuName': '云南白药',\n",
       "  'sratingName': '推荐',\n",
       "  'sy': '2.6600',\n",
       "  'syls': ['20.76', '17.3', '', '', ''],\n",
       "  'sys': ['3.5', '4.2', '', '', ''],\n",
       "  'title': '牙膏保持高增长，积极发展电商新渠道',\n",
       "  'type': '1'},\n",
       " {'author': '张其立',\n",
       "  'change': '维持',\n",
       "  'companyCode': '10000880',\n",
       "  'datetime': '2015-04-29T17:09:05',\n",
       "  'infoCode': 'APPGMGqHATNjASearchReport',\n",
       "  'insCode': '10001075',\n",
       "  'insName': '广发证券',\n",
       "  'insStar': '4',\n",
       "  'jlrs': ['3598000000', '4267000000', '', '', ''],\n",
       "  'newPrice': '69.23',\n",
       "  'profitYear': '2015',\n",
       "  'rate': '买入',\n",
       "  'secuFullCode': '000538.SZ',\n",
       "  'secuName': '云南白药',\n",
       "  'sratingName': '买入',\n",
       "  'sy': '2.6600',\n",
       "  'syls': ['20', '17', '', '', ''],\n",
       "  'sys': ['3.46', '4.1', '', '', ''],\n",
       "  'title': '药品日化稳健增长，中药龙头有待重估',\n",
       "  'type': '1'},\n",
       " {'author': '季序我,林娜',\n",
       "  'change': '维持',\n",
       "  'companyCode': '10000880',\n",
       "  'datetime': '2015-01-09T08:23:00',\n",
       "  'infoCode': 'APPGKyyH9eiIASearchReport',\n",
       "  'insCode': '80086668',\n",
       "  'insName': '瑞银证券',\n",
       "  'insStar': '',\n",
       "  'jlrs': ['3759000000', '', '', '', ''],\n",
       "  'newPrice': '69.23',\n",
       "  'profitYear': '2015',\n",
       "  'rate': '持有',\n",
       "  'secuFullCode': '000538.SZ',\n",
       "  'secuName': '云南白药',\n",
       "  'sratingName': '买入',\n",
       "  'sy': '2.6600',\n",
       "  'syls': ['', '', '', '', ''],\n",
       "  'sys': ['3.61', '', '', '', ''],\n",
       "  'title': '稳健成长，估值修复有望持续',\n",
       "  'type': '1'},\n",
       " {'author': '季序我,林娜',\n",
       "  'change': '首次',\n",
       "  'companyCode': '10000880',\n",
       "  'datetime': '2014-11-13T13:15:06',\n",
       "  'infoCode': 'APPFiqElLuJQASearchReport',\n",
       "  'insCode': '80086668',\n",
       "  'insName': '瑞银证券',\n",
       "  'insStar': '',\n",
       "  'jlrs': ['3759000000', '', '', '', ''],\n",
       "  'newPrice': '69.23',\n",
       "  'profitYear': '2015',\n",
       "  'rate': '持有',\n",
       "  'secuFullCode': '000538.SZ',\n",
       "  'secuName': '云南白药',\n",
       "  'sratingName': '买入',\n",
       "  'sy': '2.6600',\n",
       "  'syls': ['18', '', '', '', ''],\n",
       "  'sys': ['3.61', '', '', '', ''],\n",
       "  'title': '基本面稳健，中药日化领域或有惊喜',\n",
       "  'type': '1'},\n",
       " {'author': '邹敏',\n",
       "  'change': '维持',\n",
       "  'companyCode': '10000880',\n",
       "  'datetime': '2014-11-05T08:03:19',\n",
       "  'infoCode': 'APPFin6szGuBASearchReport',\n",
       "  'insCode': '80000037',\n",
       "  'insName': '平安证券',\n",
       "  'insStar': '4',\n",
       "  'jlrs': ['3360000000', '', '', '', ''],\n",
       "  'newPrice': '69.23',\n",
       "  'profitYear': '2015',\n",
       "  'rate': '增持',\n",
       "  'secuFullCode': '000538.SZ',\n",
       "  'secuName': '云南白药',\n",
       "  'sratingName': '推荐',\n",
       "  'sy': '2.6600',\n",
       "  'syls': ['', '', '', '', ''],\n",
       "  'sys': ['3.23', '', '', '', ''],\n",
       "  'title': '药品增速逐季恢复，销售费用率下降带动盈利大幅提升',\n",
       "  'type': '1'},\n",
       " {'author': '燕智,李敬雷,黄挺',\n",
       "  'change': '维持',\n",
       "  'companyCode': '10000880',\n",
       "  'datetime': '2014-10-29T16:04:02',\n",
       "  'infoCode': 'APPFiVJpJgkgASearchReport',\n",
       "  'insCode': '10000082',\n",
       "  'insName': '国金证券',\n",
       "  'insStar': '5',\n",
       "  'jlrs': ['', '', '', '', ''],\n",
       "  'newPrice': '69.23',\n",
       "  'profitYear': '2015',\n",
       "  'rate': '增持',\n",
       "  'secuFullCode': '000538.SZ',\n",
       "  'secuName': '云南白药',\n",
       "  'sratingName': '增持',\n",
       "  'sy': '2.6600',\n",
       "  'syls': ['16.79', '', '', '', ''],\n",
       "  'sys': ['5.238', '', '', '', ''],\n",
       "  'title': '三季报业绩超预期，控费效果明显',\n",
       "  'type': '1'}]"
      ]
     },
     "execution_count": 16,
     "metadata": {},
     "output_type": "execute_result"
    }
   ],
   "source": [
    "jsontext['data']"
   ]
  },
  {
   "cell_type": "code",
   "execution_count": 29,
   "metadata": {
    "collapsed": false
   },
   "outputs": [
    {
     "name": "stdout",
     "output_type": "stream",
     "text": [
      "None\n"
     ]
    }
   ],
   "source": [
    "print([1,2,3].append([5,6]))"
   ]
  },
  {
   "cell_type": "code",
   "execution_count": 24,
   "metadata": {
    "collapsed": false
   },
   "outputs": [
    {
     "data": {
      "text/plain": [
       "5"
      ]
     },
     "execution_count": 24,
     "metadata": {},
     "output_type": "execute_result"
    }
   ],
   "source": [
    "import math\n",
    "\n",
    "math.ceil((int(jsontext['count']))/7)"
   ]
  },
  {
   "cell_type": "code",
   "execution_count": null,
   "metadata": {
    "collapsed": true
   },
   "outputs": [],
   "source": []
  },
  {
   "cell_type": "code",
   "execution_count": 14,
   "metadata": {
    "collapsed": false
   },
   "outputs": [],
   "source": [
    "datat = pd.DataFrame(jsontext['data'])"
   ]
  },
  {
   "cell_type": "code",
   "execution_count": 15,
   "metadata": {
    "collapsed": false
   },
   "outputs": [
    {
     "ename": "SyntaxError",
     "evalue": "invalid syntax (<ipython-input-15-7ebe37d0e777>, line 1)",
     "output_type": "error",
     "traceback": [
      "\u001b[0;36m  File \u001b[0;32m\"<ipython-input-15-7ebe37d0e777>\"\u001b[0;36m, line \u001b[0;32m1\u001b[0m\n\u001b[0;31m    datat.index = datat['infoCode']        data_1 = []\u001b[0m\n\u001b[0m                                                ^\u001b[0m\n\u001b[0;31mSyntaxError\u001b[0m\u001b[0;31m:\u001b[0m invalid syntax\n"
     ]
    }
   ],
   "source": [
    "datat.index = datat['infoCode']\n",
    "data_1 = []\n",
    "datat.index.name = 'infoCode'"
   ]
  },
  {
   "cell_type": "code",
   "execution_count": null,
   "metadata": {
    "collapsed": false
   },
   "outputs": [],
   "source": [
    "datat"
   ]
  },
  {
   "cell_type": "code",
   "execution_count": null,
   "metadata": {
    "collapsed": false
   },
   "outputs": [],
   "source": [
    "def get_eastmoney_stock_report(urls, paths):\n",
    "    \n",
    "    # 下载个股\n",
    "    from dateutil.parser import parse\n",
    "    from bs4 import BeautifulSoup\n",
    "    import requests, urllib, os, shutil, json\n",
    "    import pandas as pd\n",
    "    \n",
    "    # 此处待添加验证 urls 是否为 DataFrame\n",
    "    count_download = 0\n",
    "    count_pass = 0\n",
    "    count_fail = 0\n",
    "    for i in range(0, len(urls)):\n",
    "        temp_url = 'http://data.eastmoney.com/report/' + parse(urls.loc[urls.index[i]]['datetime']).strftime('%Y'+'%m'+'%d') + '/' + urls.loc[urls.index[i]]['infoCode'] + '.html'\n",
    "        # print(temp_url)\n",
    "        html_doc = urllib.request.urlopen(temp_url).read()\n",
    "        soup = BeautifulSoup(html_doc, \"lxml\")\n",
    "        try:\n",
    "            file_url = soup.find_all(text = '查看PDF原文')[0].parent.get('href')\n",
    "            temp_name = paths + parse(urls.loc[urls.index[i]]['datetime']).strftime('%Y'+'%m'+'%d') + '_' + urls.loc[urls.index[i]]['insName'] + '_' + urls.loc[urls.index[i]]['title'] + '.pdf'\n",
    "        \n",
    "            if os.path.isfile(temp_name) == True:\n",
    "                # print('File already exist! PASS!')\n",
    "                count_pass += 1\n",
    "                pass\n",
    "            else:\n",
    "                urllib.request.urlretrieve(file_url, temp_name)\n",
    "                count_download += 1\n",
    "                # print('Download ' + str(count_download) + '/' + str(len(urls)) + ' new files '+ 'Successfully !')\n",
    "        except:\n",
    "            print('Fail to get the file. ' + 'Please download the file manually !' + '\\n'  + temp_url)\n",
    "            count_fail += 1\n",
    "            pass\n",
    "        \n",
    "    print('    DOWN: ' + str(count_download) + '/' + str(len(urls)) + '\\n'  + '    PASS: ' + str(count_pass) + '/' + str(len(urls)) + '\\n'   + '    FAIL: ' + str(count_fail) + '/' + str(len(urls)))\n",
    "\n",
    "    return"
   ]
  },
  {
   "cell_type": "code",
   "execution_count": null,
   "metadata": {
    "collapsed": false
   },
   "outputs": [],
   "source": [
    "get_eastmoney_report(datat, '/home/wangshi/')"
   ]
  },
  {
   "cell_type": "code",
   "execution_count": null,
   "metadata": {
    "collapsed": true
   },
   "outputs": [],
   "source": [
    "from dateutil.parser import parse"
   ]
  },
  {
   "cell_type": "code",
   "execution_count": null,
   "metadata": {
    "collapsed": false
   },
   "outputs": [],
   "source": [
    "count_download = 0\n",
    "count_pass = 0\n",
    "count_fail = 0"
   ]
  },
  {
   "cell_type": "code",
   "execution_count": null,
   "metadata": {
    "collapsed": false
   },
   "outputs": [],
   "source": [
    "html_doc = urllib.request.urlopen('http://data.eastmoney.com/report/20160506/APPH3krGmemfASearchReport.html').read()\n",
    "soup = BeautifulSoup(html_doc, \"lxml\")\n"
   ]
  },
  {
   "cell_type": "code",
   "execution_count": null,
   "metadata": {
    "collapsed": false
   },
   "outputs": [],
   "source": [
    "file_url = soup.find_all(text = '查看PDF原文')[0].parent.get('href')\n",
    "temp_name = paths + parse(datat.loc[datat.index[i]]['datetime']).strftime('%Y'+'%m'+'%d') + '_' + datat.loc[datat.index[i]]['insName'] + '_' + datat.datat[datat.index[i]]['title'] + '.pdf'"
   ]
  },
  {
   "cell_type": "code",
   "execution_count": null,
   "metadata": {
    "collapsed": false
   },
   "outputs": [],
   "source": [
    "file_url"
   ]
  },
  {
   "cell_type": "code",
   "execution_count": null,
   "metadata": {
    "collapsed": false
   },
   "outputs": [],
   "source": [
    "if os.path.isfile(temp_name) == True:\n",
    "    count_pass += 1\n",
    "    pass\n",
    "else:\n",
    "    urllib.request.urlretrieve(file_url, temp_name)\n",
    "    count_download += 1"
   ]
  },
  {
   "cell_type": "code",
   "execution_count": null,
   "metadata": {
    "collapsed": false
   },
   "outputs": [],
   "source": [
    "temp_name = parse(datat.loc[datat.index[i]]['datetime']).strftime('%Y'+'%m'+'%d') + '_' + datat.loc[datat.index[i]]['insName'] + '_' + datat.loc[datat.index[i]]['title'] + '.pdf'"
   ]
  },
  {
   "cell_type": "code",
   "execution_count": null,
   "metadata": {
    "collapsed": false
   },
   "outputs": [],
   "source": [
    "temp_name"
   ]
  },
  {
   "cell_type": "code",
   "execution_count": null,
   "metadata": {
    "collapsed": true
   },
   "outputs": [],
   "source": []
  }
 ],
 "metadata": {
  "anaconda-cloud": {},
  "kernelspec": {
   "display_name": "Python [default]",
   "language": "python",
   "name": "python3"
  },
  "language_info": {
   "codemirror_mode": {
    "name": "ipython",
    "version": 3
   },
   "file_extension": ".py",
   "mimetype": "text/x-python",
   "name": "python",
   "nbconvert_exporter": "python",
   "pygments_lexer": "ipython3",
   "version": "3.5.2"
  }
 },
 "nbformat": 4,
 "nbformat_minor": 0
}
