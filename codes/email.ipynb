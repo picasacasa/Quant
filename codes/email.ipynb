{
 "cells": [
  {
   "cell_type": "code",
   "execution_count": null,
   "metadata": {
    "collapsed": true
   },
   "outputs": [],
   "source": [
    "#! /usr/bin/env python\n",
    "# -*- coding: utf-8 -*-"
   ]
  },
  {
   "cell_type": "code",
   "execution_count": null,
   "metadata": {
    "collapsed": true
   },
   "outputs": [],
   "source": []
  },
  {
   "cell_type": "code",
   "execution_count": null,
   "metadata": {
    "collapsed": false
   },
   "outputs": [],
   "source": [
    "import os\n",
    "import re\n",
    "import time\n",
    "import email\n",
    "import poplib\n",
    "import imaplib\n",
    "# import cStringIO\n",
    "from hashlib import md5"
   ]
  },
  {
   "cell_type": "code",
   "execution_count": null,
   "metadata": {
    "collapsed": true
   },
   "outputs": [],
   "source": [
    "# Email address\n",
    "MAILADDR = \"13730470137@139.com\""
   ]
  },
  {
   "cell_type": "code",
   "execution_count": null,
   "metadata": {
    "collapsed": true
   },
   "outputs": [],
   "source": [
    "# Email password\n",
    "PASSWORD = \"11223344\""
   ]
  },
  {
   "cell_type": "code",
   "execution_count": null,
   "metadata": {
    "collapsed": true
   },
   "outputs": [],
   "source": [
    "# Mail Server (pop/imap)\n",
    "SERVER = \"pop.139.com\""
   ]
  },
  {
   "cell_type": "code",
   "execution_count": null,
   "metadata": {
    "collapsed": true
   },
   "outputs": [],
   "source": [
    "# Transfer protocol (pop3/imap4)\n",
    "PROTOCOL = \"pop3\""
   ]
  },
  {
   "cell_type": "code",
   "execution_count": null,
   "metadata": {
    "collapsed": true
   },
   "outputs": [],
   "source": [
    "# Use SSL? (True/False)\n",
    "USE_SSL = True"
   ]
  },
  {
   "cell_type": "code",
   "execution_count": null,
   "metadata": {
    "collapsed": true
   },
   "outputs": [],
   "source": [
    "# Main output direcotory\n",
    "OUTDIR = \"result\""
   ]
  },
  {
   "cell_type": "code",
   "execution_count": null,
   "metadata": {
    "collapsed": true
   },
   "outputs": [],
   "source": [
    "# Static variable\n",
    "# ---------------\n",
    "\n",
    "# Default port of each protocol\n",
    "DEFAULT_PORT = {\n",
    "    \"pop3\": {False: 110, True: 995},\n",
    "    \"imap3\": {False: 143, True: 993},\n",
    "}"
   ]
  },
  {
   "cell_type": "code",
   "execution_count": null,
   "metadata": {
    "collapsed": true
   },
   "outputs": [],
   "source": [
    "# Function\n",
    "# --------"
   ]
  },
  {
   "cell_type": "code",
   "execution_count": null,
   "metadata": {
    "collapsed": true
   },
   "outputs": [],
   "source": [
    "def exit_script(reason, e=\"\"):\n",
    "    \"\"\"Print error reason and exit this script\n",
    "    \n",
    "    :param reason: exit error reason\n",
    "    :param e: exception\n",
    "    \"\"\"\n",
    "    # Print exit string\n",
    "    exit_str = \"[-] {0}\".format(reason)\n",
    "    if e:\n",
    "        exit_str += \" ({0})\".format(e)\n",
    "    print(exit_str)\n",
    "    \n",
    "    # Remove result path\n",
    "    remove_dir(result_path)\n",
    "    \n",
    "    # Exit script\n",
    "    print(\"[-] Fetch email failed!\")\n",
    "    exit(-1)"
   ]
  },
  {
   "cell_type": "code",
   "execution_count": null,
   "metadata": {
    "collapsed": true
   },
   "outputs": [],
   "source": [
    "def parse_protocol(protocol):\n",
    "    \"\"\"Parse transfer protocol\n",
    "    \n",
    "    :param protocol: transfer protocol\n",
    "    :return: handled protocol\n",
    "    \"\"\"\n",
    "    if protocol in [\"pop\", \"pop3\"]:\n",
    "        return \"pop3\"\n",
    "    elif protocol in [\"imap\", \"imap4\"]:\n",
    "        return \"imap4\"\n",
    "    else:\n",
    "        exit_script(\"Parse protocol failed: {0}\".format(protocol))\n"
   ]
  },
  {
   "cell_type": "code",
   "execution_count": null,
   "metadata": {
    "collapsed": true
   },
   "outputs": [],
   "source": [
    "def parse_server(server, use_ssl, protocol):\n",
    "    \"\"\"Change server to host and port. If no port specified, use default value\n",
    "    \n",
    "    :param server: mail server (host, host:port)\n",
    "    :param use_ssl: True if use SSL else False\n",
    "    :param protocol: transfer protocol (pop3/imap4)\n",
    "    :return: host and port\n",
    "    \"\"\"\n",
    "    if not server:\n",
    "        exit_script(\"No available server\")\n",
    "    \n",
    "    server_item = server.split(\":\")\n",
    "    server_item_len = len(server_item)\n",
    "    \n",
    "    if server_item_len > 2:\n",
    "        exit_script(\"Too many colons in server: {0}\".format(server))\n",
    "    \n",
    "    try:\n",
    "        host = server_item[0]\n",
    "        port = DEFAULT_PORT[protocol][use_ssl] if server_item_len == 1 else int(server_item[1])\n",
    "    except BaseException as e:\n",
    "        exit_script(\"Parse server format failed: {0}\".format(server), e)\n",
    "    return host, port"
   ]
  },
  {
   "cell_type": "code",
   "execution_count": null,
   "metadata": {
    "collapsed": true
   },
   "outputs": [],
   "source": [
    "def create_dir(result_path):\n",
    "    \"\"\"Create output directory if not exist\n",
    "    \n",
    "    :param result_path: main result path\n",
    "    \"\"\"\n",
    "    try:\n",
    "        if not os.path.exists(result_path):\n",
    "            os.mkdir(result_path)\n",
    "            print(\"[*] Create directory {0} successfully\".format(result_path))\n",
    "        else:\n",
    "            if os.path.isfile(result_path):\n",
    "                exit_script(\"{0} is file\".format(result_path))\n",
    "            else:\n",
    "                print(\"[*] Directory {0} has already existed\".format(result_path))\n",
    "    except BaseException as e:\n",
    "        exit_script(\"Create directory {0} failed\".format(result_path), e)\n"
   ]
  },
  {
   "cell_type": "code",
   "execution_count": null,
   "metadata": {
    "collapsed": true
   },
   "outputs": [],
   "source": [
    "def remove_dir(result_path):\n",
    "    \"\"\"Remove output directory if no file in this directory\n",
    "    \n",
    "    :param result_path: main result path\n",
    "    \"\"\"\n",
    "    try:\n",
    "        if os.path.isdir(result_path):\n",
    "            if len(os.listdir(result_path)) == 0:\n",
    "                os.rmdir(result_path)\n",
    "                print(\"[*] Remove directory {0} successfully\".format(result_path))\n",
    "            else:\n",
    "                print(\"[*] Directory {0} is not empty, no need remove\".format(result_path))\n",
    "        else:\n",
    "            print(\"[*] No directory {0}\".format(result_path))\n",
    "    except BaseException as e:\n",
    "        print(\"[-] Remove directory {0} failed: {1}\".format(result_path, e))\n"
   ]
  },
  {
   "cell_type": "code",
   "execution_count": null,
   "metadata": {
    "collapsed": true
   },
   "outputs": [],
   "source": [
    "def protocol_manager(protocol, host, port, usr, pwd, use_ssl):\n",
    "    \"\"\"Choose handle function according to transfer protocol\n",
    "    \n",
    "    :param protocol: transfer protocol (pop3/imap4)\n",
    "    :param host: host\n",
    "    :param port: port\n",
    "    :param usr: username\n",
    "    :param pwd: password\n",
    "    :param use_ssl: True if use ssl else False\n",
    "    \"\"\"\n",
    "    import __main__\n",
    "    if hasattr(__main__, protocol):\n",
    "        getattr(__main__, protocol)(host, port, usr, pwd, use_ssl)\n",
    "    else:\n",
    "        exit_script(\"Wrong protocol: {0}\".format(protocol))\n"
   ]
  },
  {
   "cell_type": "code",
   "execution_count": null,
   "metadata": {
    "collapsed": false
   },
   "outputs": [],
   "source": [
    "def pop3(host, port, usr, pwd, use_ssl):\n",
    "    \"\"\"Pop3 handler\n",
    "    \n",
    "    :param host: host\n",
    "    :param port: port\n",
    "    :param usr: username\n",
    "    :param pwd: password\n",
    "    :param use_ssl: True if use SSL else False\n",
    "    \"\"\"\n",
    "    # Connect to mail server\n",
    "    try:\n",
    "        conn = poplib.POP3_SSL(host, port) if use_ssl else poplib.POP3(host, port)\n",
    "        conn.user(usr)\n",
    "        conn.pass_(pwd)\n",
    "        print(\"[+] Connect to {0}:{1} successfully\".format(host, port))\n",
    "    except BaseException as e:\n",
    "        exit_script(\"Connect to {0}:{1} failed\".format(host, port), e)\n",
    "    \n",
    "    # Get email message number\n",
    "    try:\n",
    "        msg_num = len(conn.list()[1])\n",
    "        print(\"[*] {0} emails found in {1}\".format(msg_num, usr))\n",
    "    except BaseException as e:\n",
    "        exit_script(\"Can't get email number\", e)\n",
    "\n",
    "    # Get email content and attachments\n",
    "    for i in range(1, msg_num+1):\n",
    "        print(\"[*] Downloading email {0}/{1}\".format(i, msg_num))\n",
    "        \n",
    "        # Retrieve email message lines, and write to buffer\n",
    "        try:\n",
    "            msg_lines = conn.retr(i)[1]\n",
    "            \n",
    "            buf = cStringIO.StringIO()\n",
    "            for line in msg_lines:\n",
    "                print >> buf, line\n",
    "            buf.seek(0)\n",
    "        except BaseException as e:\n",
    "            print (\"[-] Retrieve email {0} failed: {1}\".format(i, e))\n",
    "            continue\n",
    "        \n",
    "        # Read buffer\n",
    "        try:\n",
    "            msg = email.message_from_file(buf)\n",
    "        except BaseException as e:\n",
    "            print (\"[-] Read buffer of email {0} failed: {1}\".format(i, e))\n",
    "            continue\n",
    "        \n",
    "        # Parse and save email content/attachments\n",
    "        try:\n",
    "            parse_email(msg, i)\n",
    "        except BaseException as e:\n",
    "            print(\"[-] Parse email {0} failed: {1}\".format(i, e))\n",
    "    \n",
    "    # Quit mail server\n",
    "    conn.quit()\n",
    "    "
   ]
  },
  {
   "cell_type": "code",
   "execution_count": null,
   "metadata": {
    "collapsed": false
   },
   "outputs": [],
   "source": [
    "def imap4(host, port, usr, pwd, use_ssl):\n",
    "    \"\"\"Imap4 handler\n",
    "    \n",
    "    :param host: host\n",
    "    :param port: port\n",
    "    :param usr: username\n",
    "    :param pwd: password\n",
    "    :param use_ssl: True if use SSL else False\n",
    "    \"\"\"\n",
    "    # Connect to mail server\n",
    "    try:\n",
    "        conn = imaplib.IMAP4_SSL(host, port) if use_ssl else imaplib.IMAP4(host, port)\n",
    "        conn.login(usr, pwd)\n",
    "        print(\"[+] Connect to {0}:{1} successfully\".format(host, port))\n",
    "    except BaseException as e:\n",
    "        exit_script(\"Connect to {0}:{1} failed\".format(host, port), e)\n",
    "    \n",
    "    # Initial some variable\n",
    "    list_pattern = re.compile(r'\\((?P<flags>.*?)\\) \"(?P<delimiter>.*)\" (?P<name>.*)')\n",
    "    download_num = 0\n",
    "    download_hash = []\n",
    "    \n",
    "    # Get all folders\n",
    "    try:\n",
    "        type_, folders = conn.list()\n",
    "    except BaseException as e:\n",
    "        exit_script(\"Get folder list failed\", e)\n",
    "    \n",
    "    for folder in folders:\n",
    "        # Parse folder info and get folder name\n",
    "        try:\n",
    "            flags, delimiter, folder_name = list_pattern.match(folder).groups()\n",
    "            folder_name = folder_name.strip('\"')\n",
    "            print (\"[*] Handling folder: {0}\".format(folder_name))\n",
    "        except BaseException as e:\n",
    "            print (\"[-] Parse folder {0} failed: {1}\".format(folder, e))\n",
    "            continue\n",
    "        \n",
    "        # Select and search folder\n",
    "        try:\n",
    "            conn.select(folder_name, readonly=True)\n",
    "            type_, data = conn.search(None, \"ALL\")\n",
    "        except BaseException as e:\n",
    "            print (\"[-] Search folder {0} failed: {1}\".format(folder_name, e))\n",
    "            continue\n",
    "        \n",
    "        # Get email number of this folder\n",
    "        try:\n",
    "            msg_id_list = [int(i) for i in data[0].split()]\n",
    "            msg_num = len(msg_id_list)\n",
    "            print (\"[*] {0} emails found in {1} ({2})\".format(msg_num, usr, folder_name))\n",
    "        except BaseException as e:\n",
    "            print (\"[-] Can't get email number of {0}: {1}\".format(folder_name, e))\n",
    "            continue\n",
    "        \n",
    "        # Get email content and attachments\n",
    "        for i in msg_id_list:\n",
    "            print (\"[*] Downloading email {0}/{1}\".format(i, msg_num))\n",
    "            \n",
    "            # Get email message\n",
    "            try:\n",
    "                type_, data = conn.fetch(i, \"(RFC822)\")\n",
    "                msg = email.message_from_string(data[0][1])\n",
    "            except BaseException as e:\n",
    "                print (\"[-] Retrieve email {0} failed: {1}\".format(i, e))\n",
    "                continue\n",
    "            \n",
    "            # If message already exist, skip this message\n",
    "            try:\n",
    "                msg_md5 = md5(data[0][1]).hexdigest()\n",
    "                if msg_md5 in download_hash:\n",
    "                    print (\"[-] This email has been downloaded in other folder\")\n",
    "                    continue\n",
    "                else:\n",
    "                    download_hash.append(msg_md5)\n",
    "                    download_num += 1\n",
    "            except BaseException as e:\n",
    "                print (\"[-] Parse message md5 failed: {0}\".format(e))\n",
    "                continue\n",
    "            \n",
    "            # Parse and save email content/attachments\n",
    "            try:\n",
    "                parse_email(msg, download_num)\n",
    "            except BaseException as e:\n",
    "                print (\"[-] Parse email {0} failed: {1}\".format(i, e))\n",
    "    \n",
    "    # Logout this account\n",
    "    conn.logout()"
   ]
  },
  {
   "cell_type": "code",
   "execution_count": null,
   "metadata": {
    "collapsed": true
   },
   "outputs": [],
   "source": [
    "def parse_email(msg, i):\n",
    "    \"\"\"Parse email message and save content & attachments to file\n",
    "    \n",
    "    :param msg: mail message\n",
    "    :param i: ordinal number\n",
    "    \"\"\"\n",
    "    global result_file\n",
    "    \n",
    "    # Parse and save email content and attachments\n",
    "    for part in msg.walk():\n",
    "        if not part.is_multipart():\n",
    "            filename = part.get_filename()\n",
    "            content = part.get_payload(decode=True)\n",
    "            \n",
    "            if filename:  # Attachment\n",
    "                # Decode filename\n",
    "                h = email.Header.Header(filename)\n",
    "                dh = email.Header.decode_header(h)\n",
    "                filename = dh[0][0]\n",
    "                \n",
    "                result_file = os.path.join(result_path, \"mail{0}_attach_{1}\".format(i, filename))\n",
    "            else:  # Main content\n",
    "                result_file = os.path.join(result_path, \"mail{0}_text\".format(i))\n",
    "            \n",
    "            try:\n",
    "                with open(result_file, \"wb\") as f:\n",
    "                    f.write(content)\n",
    "            except BaseException as e:\n",
    "                print(\"[-] Write file of email {0} failed: {1}\".format(i, e))\n"
   ]
  },
  {
   "cell_type": "code",
   "execution_count": null,
   "metadata": {
    "collapsed": false
   },
   "outputs": [],
   "source": [
    "if __name__ == \"__main__\":\n",
    "    print(\"[*] Start download email script\")\n",
    "    start_time = time.time()\n",
    "    \n",
    "    mailaddr = MAILADDR\n",
    "    password = PASSWORD\n",
    "    server = SERVER\n",
    "    protocol = PROTOCOL\n",
    "    use_ssl = USE_SSL\n",
    "    outdir = OUTDIR\n",
    "    \n",
    "    result_path = os.path.join(OUTDIR, mailaddr)\n",
    "    protocol = parse_protocol(protocol)\n",
    "    host, port = parse_server(server, use_ssl, protocol)\n",
    "    \n",
    "    create_dir(result_path)\n",
    "    protocol_manager(protocol, host, port, mailaddr, password, use_ssl)\n",
    "    remove_dir(result_path)\n",
    "    \n",
    "    end_time = time.time()\n",
    "    exec_time = end_time - start_time\n",
    "    print(\"[*] Finish download email of {0} in {1:.2f}s\".format(mailaddr, exec_time))"
   ]
  },
  {
   "cell_type": "code",
   "execution_count": null,
   "metadata": {
    "collapsed": true
   },
   "outputs": [],
   "source": []
  }
 ],
 "metadata": {
  "kernelspec": {
   "display_name": "Python 3",
   "language": "python",
   "name": "python3"
  },
  "language_info": {
   "codemirror_mode": {
    "name": "ipython",
    "version": 3
   },
   "file_extension": ".py",
   "mimetype": "text/x-python",
   "name": "python",
   "nbconvert_exporter": "python",
   "pygments_lexer": "ipython3",
   "version": "3.5.1"
  }
 },
 "nbformat": 4,
 "nbformat_minor": 0
}
