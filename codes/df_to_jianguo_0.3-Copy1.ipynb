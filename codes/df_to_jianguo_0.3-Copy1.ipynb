{
 "cells": [
  {
   "cell_type": "code",
   "execution_count": 1,
   "metadata": {
    "collapsed": false
   },
   "outputs": [],
   "source": [
    "# coding: utf-8\n",
    "from bs4 import BeautifulSoup\n",
    "import requests\n",
    "import urllib\n",
    "import pandas as pd\n",
    "import os #文件系统\n",
    "import shutil #文件复制\n",
    "from datetime import datetime"
   ]
  },
  {
   "cell_type": "code",
   "execution_count": 2,
   "metadata": {
    "collapsed": false
   },
   "outputs": [],
   "source": [
    "page_number = 10\n",
    "page_url = 'http://datainterface.eastmoney.com//EM_DataCenter/js.aspx?type=SR&sty=HYSR&mkt=0&stat=0&cmd=2&code=&sc=&ps=50&p='"
   ]
  },
  {
   "cell_type": "code",
   "execution_count": 3,
   "metadata": {
    "collapsed": true
   },
   "outputs": [],
   "source": [
    "def get_eastmoney_industry_reports(pages):\n",
    "    # 取回东方财富通行业报告函数\n",
    "    from bs4 import BeautifulSoup\n",
    "    import requests\n",
    "    import urllib\n",
    "    import pandas as pd\n",
    "    \n",
    "    soup2 = []\n",
    "    for i in range(1, pages+1):\n",
    "        html_doc = urllib.request.urlopen(page_url + str(i)).read()\n",
    "        print('第' + str(i) + '页提取成功')\n",
    "        soup0 = BeautifulSoup(html_doc, \"lxml\")\n",
    "        soup1 = soup0.text[3:][:-3].split('\",\"')\n",
    "        for j in range(0, len(soup1)): #此处不能用len(soup1)-1,会缺少数据\n",
    "            soup2.append(soup1[j].replace('&sbquo;', '，').replace('&quot;', '\\\"').split(','))\n",
    "    \n",
    "    dataf = pd.DataFrame(soup2, columns = ['评级变动', '报告日期', '编号', '机构代码', '机构名称', '机构影响力', '行业代码', '评级类别', '投资评级', '标题', '行业名称', '涨跌幅'])\n",
    "    dataf.index = dataf['编号']\n",
    "    dataf.index.name = 'indexs'\n",
    "    \n",
    "    # 去掉标题中的半角引号、半角冒号\n",
    "    for i in range(0, len(dataf)-1):\n",
    "        dataf['标题'][i] = dataf['标题'][i].replace(':', '：').replace('\"', '')\n",
    "    # dataf.to_csv('/home/wangshi/script/dfcft_hy')\n",
    "    # 返回DataFrame\n",
    "    return dataf"
   ]
  },
  {
   "cell_type": "code",
   "execution_count": 4,
   "metadata": {
    "collapsed": true
   },
   "outputs": [],
   "source": [
    "def get_eastmoney_report(urls, paths):\n",
    "    from dateutil.parser import parse\n",
    "    # 此处待添加验证 urls 是否为 DataFrame\n",
    "    count_number = 0\n",
    "    for i in range(0, len(urls)):\n",
    "        temp_url = 'http://data.eastmoney.com/report/' + parse(urls.loc[urls.index[i]]['报告日期']).strftime('%Y'+'%m'+'%d') + '/hy,' + urls.loc[urls.index[i]]['编号'] + '.html'\n",
    "        html_doc = urllib.request.urlopen(temp_url).read()\n",
    "        soup = BeautifulSoup(html_doc, \"lxml\")\n",
    "        file_url = soup.find_all(text = '查看PDF原文')[0].parent.get('href')\n",
    "        temp_name = paths + parse(urls.loc[urls.index[i]]['报告日期']).strftime('%Y'+'%m'+'%d') + '_' + urls.loc[urls.index[i]]['机构名称'] + '_' + urls.loc[urls.index[i]]['标题'] + '.pdf'\n",
    "        \n",
    "        if os.path.isfile(temp_name) == True:\n",
    "            pass\n",
    "        else:\n",
    "            urllib.request.urlretrieve(file_url, temp_name)\n",
    "            count_number += 1\n",
    "    print('Download ' + str(count_number) + '/' + str(len(urls)) + ' new files '+ 'Successfully !')\n",
    "    return"
   ]
  },
  {
   "cell_type": "code",
   "execution_count": 5,
   "metadata": {
    "collapsed": false
   },
   "outputs": [
    {
     "name": "stdout",
     "output_type": "stream",
     "text": [
      "第1页提取成功\n",
      "第2页提取成功\n",
      "第3页提取成功\n",
      "第4页提取成功\n",
      "第5页提取成功\n",
      "第6页提取成功\n",
      "第7页提取成功\n",
      "第8页提取成功\n",
      "第9页提取成功\n",
      "第10页提取成功\n"
     ]
    }
   ],
   "source": [
    "# 获取新的数据到 data_temp\n",
    "data_temp = get_eastmoney_industry_reports(page_number)"
   ]
  },
  {
   "cell_type": "code",
   "execution_count": 6,
   "metadata": {
    "collapsed": false
   },
   "outputs": [],
   "source": [
    "# 导出新数据 data_new\n",
    "data_new = pd.DataFrame(data_temp, columns = ['评级变动', '报告日期', '编号', '机构代码', '机构名称', '机构影响力', '行业代码', '评级类别', '投资评级', '标题', '行业名称', '涨跌幅'])\n",
    "data_new.index = data_temp['编号']\n",
    "data_new.index.name = 'indexs'"
   ]
  },
  {
   "cell_type": "code",
   "execution_count": 7,
   "metadata": {
    "collapsed": true
   },
   "outputs": [],
   "source": [
    "# DataFrame 的差\n",
    "def df_diff(df_a, df_b):\n",
    "    df_a_b = df_a.ix[df_a.index.difference(df_b.index)]\n",
    "    return df_a_b\n",
    "\n",
    "# DataFrame 的并\n",
    "def df_all(df_a, df_b):\n",
    "    df_a_b = df_a.ix[df_a.index.difference(df_b.index)]\n",
    "    df_all = df_a_b.append(df_b)\n",
    "    return df_all"
   ]
  },
  {
   "cell_type": "code",
   "execution_count": 8,
   "metadata": {
    "collapsed": true
   },
   "outputs": [],
   "source": [
    "# 从文件读取旧数据\n",
    "data_old = pd.read_csv('/home/wangshi/reports/script/dfcft_hy', index_col = 'indexs')"
   ]
  },
  {
   "cell_type": "code",
   "execution_count": 9,
   "metadata": {
    "collapsed": true
   },
   "outputs": [],
   "source": [
    "# 获取新增数据\n",
    "data_delta = df_diff(data_new, data_old)"
   ]
  },
  {
   "cell_type": "code",
   "execution_count": 10,
   "metadata": {
    "collapsed": true
   },
   "outputs": [],
   "source": [
    "# 通过 df_all 函数合并出新的“旧数据”\n",
    "data_all = df_all(data_new, data_old)"
   ]
  },
  {
   "cell_type": "code",
   "execution_count": 11,
   "metadata": {
    "collapsed": false
   },
   "outputs": [
    {
     "name": "stdout",
     "output_type": "stream",
     "text": [
      "Download 0/0 new files Successfully !\n"
     ]
    }
   ],
   "source": [
    "data_medical = df_all(data_delta[data_delta['行业代码'] == '465'],data_delta[data_delta['行业代码'] == '727'])\n",
    "get_eastmoney_report(data_medical, '/home/wangshi/reports/medical/')"
   ]
  },
  {
   "cell_type": "code",
   "execution_count": 12,
   "metadata": {
    "collapsed": false
   },
   "outputs": [
    {
     "name": "stdout",
     "output_type": "stream",
     "text": [
      "Download 0/0 new files Successfully !\n"
     ]
    }
   ],
   "source": [
    "food_beverage = df_all(data_delta[data_delta['行业代码'] == '438'],data_delta[data_delta['行业代码'] == '477'])\n",
    "get_eastmoney_report(food_beverage, '/home/wangshi/reports/food_beverage/')"
   ]
  },
  {
   "cell_type": "code",
   "execution_count": 13,
   "metadata": {
    "collapsed": false
   },
   "outputs": [
    {
     "data": {
      "text/plain": [
       "'/home/wangshi/reports/script/dfcft_hy_20160813'"
      ]
     },
     "execution_count": 13,
     "metadata": {},
     "output_type": "execute_result"
    }
   ],
   "source": [
    "# 将新的文件存盘，并备份为含日期格式的文件\n",
    "data_all.to_csv('/home/wangshi/reports/script/dfcft_hy')\n",
    "shutil.copyfile('/home/wangshi/reports/script/dfcft_hy', ('/home/wangshi/reports/script/dfcft_hy_' + str((datetime.now()).strftime('%Y%m%d'))))"
   ]
  }
 ],
 "metadata": {
  "anaconda-cloud": {},
  "kernelspec": {
   "display_name": "Python [default]",
   "language": "python",
   "name": "python3"
  },
  "language_info": {
   "codemirror_mode": {
    "name": "ipython",
    "version": 3
   },
   "file_extension": ".py",
   "mimetype": "text/x-python",
   "name": "python",
   "nbconvert_exporter": "python",
   "pygments_lexer": "ipython3",
   "version": "3.5.2"
  }
 },
 "nbformat": 4,
 "nbformat_minor": 0
}
