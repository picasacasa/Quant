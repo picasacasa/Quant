{
 "cells": [
  {
   "cell_type": "code",
   "execution_count": 1,
   "metadata": {
    "collapsed": false
   },
   "outputs": [],
   "source": [
    "import imaplib, os, configparser, re"
   ]
  },
  {
   "cell_type": "code",
   "execution_count": 2,
   "metadata": {
    "collapsed": true
   },
   "outputs": [],
   "source": [
    "import pprint"
   ]
  },
  {
   "cell_type": "code",
   "execution_count": 3,
   "metadata": {
    "collapsed": false
   },
   "outputs": [],
   "source": [
    "def user_login(verbose=False):#verbose=False为函数参数定义的一种方式，在True的情况下执行  \n",
    "    #Read the config file  \n",
    "    config = configparser.ConfigParser()  \n",
    "    config.read('/home/wangshi/下载/setting')  \n",
    "  \n",
    "    #Connect to the server  \n",
    "    hostname = config.get('server', 'hostname')  \n",
    "            #configparser中get的用法，前一参数是[]中的标签，后面才是所需函数\n",
    "    if verbose:  \n",
    "        print('Connecting to', hostname)\n",
    "        m = imaplib.IMAP4(hostname)  \n",
    "  \n",
    "    #Login to the account  \n",
    "    username = config.get('account', 'username')  \n",
    "    passwd = config.get('account', 'passwd')  \n",
    "    if verbose:  \n",
    "        print('Logging in as ' + username)\n",
    "        m.login(username,passwd)  \n",
    "        print(type(m)) #返回instance  \n",
    "        return m"
   ]
  },
  {
   "cell_type": "markdown",
   "metadata": {},
   "source": [
    "**/home/wangshi/下载/setting**\n",
    "```\n",
    "[server]\n",
    "hostname = mail.139.com\n",
    "[account]\n",
    "username = 13730470137\n",
    "passwd = 11223344\n",
    "```"
   ]
  },
  {
   "cell_type": "code",
   "execution_count": 4,
   "metadata": {
    "collapsed": false
   },
   "outputs": [],
   "source": [
    "#对收件箱进行检查，列出对应的文件夹  \n",
    "  \n",
    "def list_inbox():  \n",
    "    l_box = user_login(verbose=True)  \n",
    "    print (type(l_box))  \n",
    "    try:  \n",
    "        typ, data = l_box.list()#注意这种赋值方式，返回值是状态和inbox,drafts,sent,trash等；即后者的两个元素依次赋给前者  \n",
    "        print ('Response code:', typ)  \n",
    "        print ('Response:')  \n",
    "        pprint.pprint(data)  \n",
    "    finally:  \n",
    "        l_box.logout()"
   ]
  },
  {
   "cell_type": "code",
   "execution_count": 5,
   "metadata": {
    "collapsed": false
   },
   "outputs": [
    {
     "name": "stdout",
     "output_type": "stream",
     "text": [
      "Connecting to mail.139.com\n",
      "Logging in as 13730470137\n",
      "<class 'imaplib.IMAP4'>\n",
      "<class 'imaplib.IMAP4'>\n",
      "Response code: OK\n",
      "Response:\n",
      "[b'() \"/\" \"INBOX\"',\n",
      " b'(\\\\Drafts) \"/\" \"&g0l6P3ux-\"',\n",
      " b'(\\\\Sent) \"/\" \"&XfJT0ZAB-\"',\n",
      " b'(\\\\Trash) \"/\" \"&XfJSIJZk-\"',\n",
      " b'(\\\\Junk) \"/\" \"&V4NXPpCuTvY-\"',\n",
      " b'() \"/\" \"&Xn9USmWHTvZZOQ-\"']\n"
     ]
    }
   ],
   "source": [
    "list_inbox()"
   ]
  },
  {
   "cell_type": "code",
   "execution_count": null,
   "metadata": {
    "collapsed": true
   },
   "outputs": [],
   "source": []
  }
 ],
 "metadata": {
  "kernelspec": {
   "display_name": "Python 3",
   "language": "python",
   "name": "python3"
  },
  "language_info": {
   "codemirror_mode": {
    "name": "ipython",
    "version": 3
   },
   "file_extension": ".py",
   "mimetype": "text/x-python",
   "name": "python",
   "nbconvert_exporter": "python",
   "pygments_lexer": "ipython3",
   "version": "3.5.1"
  }
 },
 "nbformat": 4,
 "nbformat_minor": 0
}
