{
 "cells": [
  {
   "cell_type": "code",
   "execution_count": 1,
   "metadata": {
    "collapsed": false
   },
   "outputs": [],
   "source": [
    "import numpy as np\n",
    "import pandas as pd\n",
    "import matplotlib.pyplot as plt\n",
    "from matplotlib.finance import candlestick_ohlc\n",
    "import datetime\n",
    "from dateutil.parser import parse\n",
    "import tushare as ts"
   ]
  },
  {
   "cell_type": "code",
   "execution_count": 2,
   "metadata": {
    "collapsed": false
   },
   "outputs": [
    {
     "name": "stderr",
     "output_type": "stream",
     "text": [
      "/home/wangshi/anaconda3/lib/python3.5/site-packages/ipykernel/__main__.py:1: FutureWarning: sort(....) is deprecated, use sort_index(.....)\n",
      "  if __name__ == '__main__':\n"
     ]
    },
    {
     "data": {
      "text/html": [
       "<div>\n",
       "<table border=\"1\" class=\"dataframe\">\n",
       "  <thead>\n",
       "    <tr style=\"text-align: right;\">\n",
       "      <th></th>\n",
       "      <th>open</th>\n",
       "      <th>high</th>\n",
       "      <th>close</th>\n",
       "      <th>low</th>\n",
       "      <th>volume</th>\n",
       "      <th>price_change</th>\n",
       "      <th>p_change</th>\n",
       "      <th>ma5</th>\n",
       "      <th>ma10</th>\n",
       "      <th>ma20</th>\n",
       "      <th>v_ma5</th>\n",
       "      <th>v_ma10</th>\n",
       "      <th>v_ma20</th>\n",
       "    </tr>\n",
       "    <tr>\n",
       "      <th>date</th>\n",
       "      <th></th>\n",
       "      <th></th>\n",
       "      <th></th>\n",
       "      <th></th>\n",
       "      <th></th>\n",
       "      <th></th>\n",
       "      <th></th>\n",
       "      <th></th>\n",
       "      <th></th>\n",
       "      <th></th>\n",
       "      <th></th>\n",
       "      <th></th>\n",
       "      <th></th>\n",
       "    </tr>\n",
       "  </thead>\n",
       "  <tbody>\n",
       "    <tr>\n",
       "      <th>2016-06-06</th>\n",
       "      <td>0.472</td>\n",
       "      <td>0.475</td>\n",
       "      <td>0.465</td>\n",
       "      <td>0.46</td>\n",
       "      <td>2464808.0</td>\n",
       "      <td>-0.004</td>\n",
       "      <td>-0.85</td>\n",
       "      <td>0.462</td>\n",
       "      <td>0.445</td>\n",
       "      <td>0.441</td>\n",
       "      <td>3374538.1</td>\n",
       "      <td>2312362.66</td>\n",
       "      <td>2318943.45</td>\n",
       "    </tr>\n",
       "  </tbody>\n",
       "</table>\n",
       "</div>"
      ],
      "text/plain": [
       "             open   high  close   low     volume  price_change  p_change  \\\n",
       "date                                                                       \n",
       "2016-06-06  0.472  0.475  0.465  0.46  2464808.0        -0.004     -0.85   \n",
       "\n",
       "              ma5   ma10   ma20      v_ma5      v_ma10      v_ma20  \n",
       "date                                                                \n",
       "2016-06-06  0.462  0.445  0.441  3374538.1  2312362.66  2318943.45  "
      ]
     },
     "execution_count": 2,
     "metadata": {},
     "output_type": "execute_result"
    }
   ],
   "source": [
    "gp1 = ts.get_hist_data('150131').sort() #通过ts.get_hist_data函数得到数据\n",
    "gp1[-1:]"
   ]
  },
  {
   "cell_type": "code",
   "execution_count": 3,
   "metadata": {
    "collapsed": false,
    "scrolled": true
   },
   "outputs": [],
   "source": [
    "def datecon(dates):\n",
    "    for i in range(0, len(dates)):\n",
    "        dates[i] = parse(dates[i]).date().toordinal()\n",
    "    return dates\n",
    "    \n",
    "#gp1['date'] = pd.rolling_mean(gp1.index, 1)\n",
    "#gp1[-10:]"
   ]
  },
  {
   "cell_type": "code",
   "execution_count": null,
   "metadata": {
    "collapsed": false
   },
   "outputs": [],
   "source": [
    "gp1['dates'] = gp1.index\n",
    "gp1['date'] = datecon(gp1['dates'])"
   ]
  },
  {
   "cell_type": "code",
   "execution_count": null,
   "metadata": {
    "collapsed": false,
    "scrolled": true
   },
   "outputs": [],
   "source": [
    "gp1[-10:]"
   ]
  },
  {
   "cell_type": "code",
   "execution_count": null,
   "metadata": {
    "collapsed": false
   },
   "outputs": [],
   "source": [
    "for i in range(0,len(gp1)):\n",
    "    gp1['datemp'][i] = float(parse(gp1['datemp'][i]).date().toordinal())\n",
    "gp1[-10:]"
   ]
  },
  {
   "cell_type": "markdown",
   "metadata": {
    "collapsed": false
   },
   "source": [
    "```\n",
    "gp1['date'] = float(parse(gp1['datetemp']).toordinal())\n",
    "#gp1.insert(0, 'date', float(parse(gp1.index.date().toordinal()))) #添加列date便于计算\n",
    "gp1[-1:]\n",
    "```"
   ]
  },
  {
   "cell_type": "markdown",
   "metadata": {
    "collapsed": false
   },
   "source": [
    "### 此处代码冗余\n",
    "```\n",
    "gp2 = gp1.T[:5].T.sort() #转置后去除冗余列，再转置后排序\n",
    "gp2[-1:]\n",
    "```"
   ]
  },
  {
   "cell_type": "code",
   "execution_count": null,
   "metadata": {
    "collapsed": false
   },
   "outputs": [],
   "source": [
    "gp2 = pd.DataFrame(gp1, columns=['date', 'open', 'high', 'low', 'close']).sort() #通过建立新的适于candlestick_ohlc的DataFrame\n",
    "gp2[-1:]"
   ]
  },
  {
   "cell_type": "code",
   "execution_count": null,
   "metadata": {
    "collapsed": false
   },
   "outputs": [],
   "source": [
    "list1 = []\n",
    "for i in range(0, len(gp2.index)):\n",
    "    list1.append(tuple(gp2.iloc[i])) #将每行值转化为元组\n",
    "list1[len(gp2)-1]"
   ]
  },
  {
   "cell_type": "code",
   "execution_count": null,
   "metadata": {
    "collapsed": false
   },
   "outputs": [],
   "source": [
    "%pylab inline\n",
    "fig= plt.figure()\n",
    "ax = fig.add_subplot(1,1,1)\n",
    "candlestick_ohlc(ax, list1[-100:], width=0.6, colorup='r', colordown='g')\n",
    "show()"
   ]
  },
  {
   "cell_type": "code",
   "execution_count": null,
   "metadata": {
    "collapsed": true
   },
   "outputs": [],
   "source": []
  }
 ],
 "metadata": {
  "kernelspec": {
   "display_name": "Python [default]",
   "language": "python",
   "name": "python3"
  },
  "language_info": {
   "codemirror_mode": {
    "name": "ipython",
    "version": 3
   },
   "file_extension": ".py",
   "mimetype": "text/x-python",
   "name": "python",
   "nbconvert_exporter": "python",
   "pygments_lexer": "ipython3",
   "version": "3.5.2"
  }
 },
 "nbformat": 4,
 "nbformat_minor": 0
}
