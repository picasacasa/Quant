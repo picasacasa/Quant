{
 "cells": [
  {
   "cell_type": "code",
   "execution_count": 1,
   "metadata": {
    "collapsed": true
   },
   "outputs": [],
   "source": [
    "from bs4 import BeautifulSoup\n",
    "import pandas as pd\n",
    "import numpy as np"
   ]
  },
  {
   "cell_type": "code",
   "execution_count": 2,
   "metadata": {
    "collapsed": true
   },
   "outputs": [],
   "source": [
    "from urllib.request import urlopen"
   ]
  },
  {
   "cell_type": "code",
   "execution_count": 3,
   "metadata": {
    "collapsed": true
   },
   "outputs": [],
   "source": [
    "html = urlopen('http://www.100ppi.com/monitor/')"
   ]
  },
  {
   "cell_type": "code",
   "execution_count": 4,
   "metadata": {
    "collapsed": false
   },
   "outputs": [
    {
     "name": "stderr",
     "output_type": "stream",
     "text": [
      "/home/wangshi/anaconda3/lib/python3.5/site-packages/bs4/__init__.py:166: UserWarning: No parser was explicitly specified, so I'm using the best available HTML parser for this system (\"lxml\"). This usually isn't a problem, but if you run this code on another system, or in a different virtual environment, it may use a different parser and behave differently.\n",
      "\n",
      "To get rid of this warning, change this:\n",
      "\n",
      " BeautifulSoup([your markup])\n",
      "\n",
      "to this:\n",
      "\n",
      " BeautifulSoup([your markup], \"lxml\")\n",
      "\n",
      "  markup_type=markup_type))\n"
     ]
    }
   ],
   "source": [
    "soup = BeautifulSoup(html)"
   ]
  },
  {
   "cell_type": "code",
   "execution_count": 5,
   "metadata": {
    "collapsed": false
   },
   "outputs": [],
   "source": [
    "d0 = []\n",
    "for i in soup.find('table',{\"bgcolor\":\"#c7d8ff\"}).findAll('td', {'align':'center','bgcolor':'#fafdff'}):\n",
    "    d0.append(i.get_text().strip('\\n'))"
   ]
  },
  {
   "cell_type": "code",
   "execution_count": 6,
   "metadata": {
    "collapsed": false
   },
   "outputs": [
    {
     "data": {
      "text/plain": [
       "['商品名称', '参考规格', '最新价格(2016-07-02)', '上周初价格(2016-06-20)', '上月初价格(2016-06-01)']"
      ]
     },
     "execution_count": 6,
     "metadata": {},
     "output_type": "execute_result"
    }
   ],
   "source": [
    "d0"
   ]
  },
  {
   "cell_type": "code",
   "execution_count": 7,
   "metadata": {
    "collapsed": false,
    "scrolled": false
   },
   "outputs": [],
   "source": [
    "d1 = []\n",
    "for i in soup.find('table',{\"bgcolor\":\"#c7d8ff\"}).findAll('td', {'class':'w1'}):\n",
    "    d1.append(i.parent.get_text().strip('\\n').split('\\n'))"
   ]
  },
  {
   "cell_type": "code",
   "execution_count": 8,
   "metadata": {
    "collapsed": false
   },
   "outputs": [],
   "source": [
    "d2 = pd.DataFrame(d1, columns=d0).dropna()"
   ]
  },
  {
   "cell_type": "code",
   "execution_count": 9,
   "metadata": {
    "collapsed": false
   },
   "outputs": [],
   "source": [
    "d2[d0[2]] = d2[d0[2]].apply(pd.to_numeric)\n",
    "d2[d0[3]] = d2[d0[3]].apply(pd.to_numeric)\n",
    "d2[d0[4]] = d2[d0[4]].apply(pd.to_numeric)"
   ]
  },
  {
   "cell_type": "code",
   "execution_count": 10,
   "metadata": {
    "collapsed": false
   },
   "outputs": [],
   "source": [
    "d2['较上周初变化'] = round((d2[d0[2]]/d2[d0[3]] -1 ) * 100, 2)\n",
    "d2['较上月初变化'] = round((d2[d0[2]]/d2[d0[4]] -1 ) * 100, 2)\n",
    "d0.append('较上周初变化')\n",
    "d0.append('较上月初变化')"
   ]
  },
  {
   "cell_type": "code",
   "execution_count": 11,
   "metadata": {
    "collapsed": false
   },
   "outputs": [],
   "source": [
    "d3 = d2[np.abs(d2['较上周初变化']) > 5]"
   ]
  },
  {
   "cell_type": "code",
   "execution_count": 28,
   "metadata": {
    "collapsed": false
   },
   "outputs": [
    {
     "name": "stderr",
     "output_type": "stream",
     "text": [
      "/home/wangshi/anaconda3/lib/python3.5/site-packages/ipykernel/__main__.py:1: FutureWarning: sort(columns=....) is deprecated, use sort_values(by=.....)\n",
      "  if __name__ == '__main__':\n"
     ]
    },
    {
     "data": {
      "text/html": [
       "<div>\n",
       "<table border=\"1\" class=\"dataframe\">\n",
       "  <thead>\n",
       "    <tr style=\"text-align: right;\">\n",
       "      <th></th>\n",
       "      <th>商品名称</th>\n",
       "      <th>参考规格</th>\n",
       "      <th>最新价格(2016-07-02)</th>\n",
       "      <th>上周初价格(2016-06-20)</th>\n",
       "      <th>上月初价格(2016-06-01)</th>\n",
       "      <th>较上周初变化</th>\n",
       "      <th>较上月初变化</th>\n",
       "    </tr>\n",
       "  </thead>\n",
       "  <tbody>\n",
       "    <tr>\n",
       "      <th>130</th>\n",
       "      <td>液氯</td>\n",
       "      <td>品级:合格品 ;氯含量/%(v/v)  ≥: 99.6;水分含量/%(m/m)  ≤:0.04 ;</td>\n",
       "      <td>220.83</td>\n",
       "      <td>475.00</td>\n",
       "      <td>550.00</td>\n",
       "      <td>-53.51</td>\n",
       "      <td>-59.85</td>\n",
       "    </tr>\n",
       "    <tr>\n",
       "      <th>195</th>\n",
       "      <td>钨精矿</td>\n",
       "      <td>品级:一级 ;Wo3含量:≥65% ;类型:黑钨精矿 ;</td>\n",
       "      <td>62250.00</td>\n",
       "      <td>69125.00</td>\n",
       "      <td>73250.00</td>\n",
       "      <td>-9.95</td>\n",
       "      <td>-15.02</td>\n",
       "    </tr>\n",
       "    <tr>\n",
       "      <th>186</th>\n",
       "      <td>钼精矿</td>\n",
       "      <td>牌号:kMo-45 ;</td>\n",
       "      <td>916.67</td>\n",
       "      <td>980.00</td>\n",
       "      <td>980.00</td>\n",
       "      <td>-6.46</td>\n",
       "      <td>-6.46</td>\n",
       "    </tr>\n",
       "    <tr>\n",
       "      <th>202</th>\n",
       "      <td>仲钨酸铵</td>\n",
       "      <td>Wo3含量:≥88.5% ;牌号:APT-0 ;</td>\n",
       "      <td>100000.00</td>\n",
       "      <td>106666.67</td>\n",
       "      <td>115166.67</td>\n",
       "      <td>-6.25</td>\n",
       "      <td>-13.17</td>\n",
       "    </tr>\n",
       "    <tr>\n",
       "      <th>29</th>\n",
       "      <td>丙酮</td>\n",
       "      <td>产品等级:优级品 ;纯度:99.5% ;执行质量标准:国标 ;</td>\n",
       "      <td>4533.33</td>\n",
       "      <td>4833.33</td>\n",
       "      <td>5100.00</td>\n",
       "      <td>-6.21</td>\n",
       "      <td>-11.11</td>\n",
       "    </tr>\n",
       "    <tr>\n",
       "      <th>157</th>\n",
       "      <td>氨纶</td>\n",
       "      <td>细度:40D ;光泽:有光 ;</td>\n",
       "      <td>29550.00</td>\n",
       "      <td>31400.00</td>\n",
       "      <td>32050.00</td>\n",
       "      <td>-5.89</td>\n",
       "      <td>-7.80</td>\n",
       "    </tr>\n",
       "    <tr>\n",
       "      <th>199</th>\n",
       "      <td>氧化镝</td>\n",
       "      <td>牌号:101020 ;Dy2O3/REO:≥99% ;REO:≥99% ;</td>\n",
       "      <td>1225000.00</td>\n",
       "      <td>1295000.00</td>\n",
       "      <td>1295000.00</td>\n",
       "      <td>-5.41</td>\n",
       "      <td>-5.41</td>\n",
       "    </tr>\n",
       "    <tr>\n",
       "      <th>214</th>\n",
       "      <td>钨铁</td>\n",
       "      <td>材质:FeW70 ;规格:70 ;</td>\n",
       "      <td>111500.00</td>\n",
       "      <td>117500.00</td>\n",
       "      <td>119500.00</td>\n",
       "      <td>-5.11</td>\n",
       "      <td>-6.69</td>\n",
       "    </tr>\n",
       "    <tr>\n",
       "      <th>251</th>\n",
       "      <td>鸡蛋</td>\n",
       "      <td>颜色:褐壳 ;等级:XL ;包装:箱装 ;</td>\n",
       "      <td>6.10</td>\n",
       "      <td>5.80</td>\n",
       "      <td>6.96</td>\n",
       "      <td>5.17</td>\n",
       "      <td>-12.36</td>\n",
       "    </tr>\n",
       "    <tr>\n",
       "      <th>155</th>\n",
       "      <td>顺丁橡胶</td>\n",
       "      <td>牌号:BR9000 ;</td>\n",
       "      <td>10220.00</td>\n",
       "      <td>9686.67</td>\n",
       "      <td>10486.67</td>\n",
       "      <td>5.51</td>\n",
       "      <td>-2.54</td>\n",
       "    </tr>\n",
       "    <tr>\n",
       "      <th>185</th>\n",
       "      <td>铝</td>\n",
       "      <td>品名:重熔用铝锭 ;牌号:A199.70 ;</td>\n",
       "      <td>13020.00</td>\n",
       "      <td>12300.00</td>\n",
       "      <td>12620.00</td>\n",
       "      <td>5.85</td>\n",
       "      <td>3.17</td>\n",
       "    </tr>\n",
       "    <tr>\n",
       "      <th>54</th>\n",
       "      <td>二甘醇</td>\n",
       "      <td>二甘醇含量,%≥:99.8 ;质量等级:优等品 ;</td>\n",
       "      <td>4843.75</td>\n",
       "      <td>4558.75</td>\n",
       "      <td>4425.00</td>\n",
       "      <td>6.25</td>\n",
       "      <td>9.46</td>\n",
       "    </tr>\n",
       "    <tr>\n",
       "      <th>152</th>\n",
       "      <td>PP</td>\n",
       "      <td>牌号:T30S ;用途级别: 拉丝级;</td>\n",
       "      <td>7533.33</td>\n",
       "      <td>7075.00</td>\n",
       "      <td>6875.00</td>\n",
       "      <td>6.48</td>\n",
       "      <td>9.58</td>\n",
       "    </tr>\n",
       "    <tr>\n",
       "      <th>32</th>\n",
       "      <td>苯乙烯</td>\n",
       "      <td>品级:优等品 ;纯度,%(m/m)≥:99.8 ;聚合物,%(m/m)≤:10 ;</td>\n",
       "      <td>8191.67</td>\n",
       "      <td>7650.00</td>\n",
       "      <td>7753.85</td>\n",
       "      <td>7.08</td>\n",
       "      <td>5.65</td>\n",
       "    </tr>\n",
       "    <tr>\n",
       "      <th>47</th>\n",
       "      <td>丁二烯</td>\n",
       "      <td>等级:优级品 ;含量,%:≥99.5 ;</td>\n",
       "      <td>7945.56</td>\n",
       "      <td>7378.89</td>\n",
       "      <td>8334.44</td>\n",
       "      <td>7.68</td>\n",
       "      <td>-4.67</td>\n",
       "    </tr>\n",
       "    <tr>\n",
       "      <th>177</th>\n",
       "      <td>白银</td>\n",
       "      <td>品名:1#白银 ;牌号:IC-Ag99.99 ;</td>\n",
       "      <td>4063.33</td>\n",
       "      <td>3731.00</td>\n",
       "      <td>3481.67</td>\n",
       "      <td>8.91</td>\n",
       "      <td>16.71</td>\n",
       "    </tr>\n",
       "  </tbody>\n",
       "</table>\n",
       "</div>"
      ],
      "text/plain": [
       "     商品名称                                               参考规格  \\\n",
       "130    液氯  品级:合格品 ;氯含量/%(v/v)  ≥: 99.6;水分含量/%(m/m)  ≤:0.04 ;   \n",
       "195   钨精矿                       品级:一级 ;Wo3含量:≥65% ;类型:黑钨精矿 ;   \n",
       "186   钼精矿                                        牌号:kMo-45 ;   \n",
       "202  仲钨酸铵                           Wo3含量:≥88.5% ;牌号:APT-0 ;   \n",
       "29     丙酮                    产品等级:优级品 ;纯度:99.5% ;执行质量标准:国标 ;   \n",
       "157    氨纶                                    细度:40D ;光泽:有光 ;   \n",
       "199   氧化镝              牌号:101020 ;Dy2O3/REO:≥99% ;REO:≥99% ;   \n",
       "214    钨铁                                  材质:FeW70 ;规格:70 ;   \n",
       "251    鸡蛋                              颜色:褐壳 ;等级:XL ;包装:箱装 ;   \n",
       "155  顺丁橡胶                                        牌号:BR9000 ;   \n",
       "185     铝                             品名:重熔用铝锭 ;牌号:A199.70 ;   \n",
       "54    二甘醇                          二甘醇含量,%≥:99.8 ;质量等级:优等品 ;   \n",
       "152    PP                                牌号:T30S ;用途级别: 拉丝级;   \n",
       "32    苯乙烯          品级:优等品 ;纯度,%(m/m)≥:99.8 ;聚合物,%(m/m)≤:10 ;   \n",
       "47    丁二烯                               等级:优级品 ;含量,%:≥99.5 ;   \n",
       "177    白银                           品名:1#白银 ;牌号:IC-Ag99.99 ;   \n",
       "\n",
       "     最新价格(2016-07-02)  上周初价格(2016-06-20)  上月初价格(2016-06-01)  较上周初变化  较上月初变化  \n",
       "130            220.83             475.00             550.00  -53.51  -59.85  \n",
       "195          62250.00           69125.00           73250.00   -9.95  -15.02  \n",
       "186            916.67             980.00             980.00   -6.46   -6.46  \n",
       "202         100000.00          106666.67          115166.67   -6.25  -13.17  \n",
       "29            4533.33            4833.33            5100.00   -6.21  -11.11  \n",
       "157          29550.00           31400.00           32050.00   -5.89   -7.80  \n",
       "199        1225000.00         1295000.00         1295000.00   -5.41   -5.41  \n",
       "214         111500.00          117500.00          119500.00   -5.11   -6.69  \n",
       "251              6.10               5.80               6.96    5.17  -12.36  \n",
       "155          10220.00            9686.67           10486.67    5.51   -2.54  \n",
       "185          13020.00           12300.00           12620.00    5.85    3.17  \n",
       "54            4843.75            4558.75            4425.00    6.25    9.46  \n",
       "152           7533.33            7075.00            6875.00    6.48    9.58  \n",
       "32            8191.67            7650.00            7753.85    7.08    5.65  \n",
       "47            7945.56            7378.89            8334.44    7.68   -4.67  \n",
       "177           4063.33            3731.00            3481.67    8.91   16.71  "
      ]
     },
     "execution_count": 28,
     "metadata": {},
     "output_type": "execute_result"
    }
   ],
   "source": [
    "d3.sort(d0[5])"
   ]
  },
  {
   "cell_type": "code",
   "execution_count": 56,
   "metadata": {
    "collapsed": false
   },
   "outputs": [],
   "source": [
    "d4 = ''\n",
    "for i in d3.index:\n",
    "    d4 = d4 + d3[d0[0]][i] + ' ' * abs(4 - len(d3[d0[0]][i])) + '\\t'  + str(d3[d0[2]][i]) +'，\\t' + '较上周初\\t' + str(d3[d0[5]][i]) + '%\\t' + ',' + '较上月初\\t' + str(d3[d0[6]][i]) + '%' +'\\n'\n",
    "d4 = d4 + 'from ' + '生意社商品监测 ' + 'http://www.100ppi.com/monitor/'"
   ]
  },
  {
   "cell_type": "code",
   "execution_count": 57,
   "metadata": {
    "collapsed": false
   },
   "outputs": [
    {
     "data": {
      "text/plain": [
       "(221, b'localhost richmail system closing transmission channel')"
      ]
     },
     "execution_count": 57,
     "metadata": {},
     "output_type": "execute_result"
    }
   ],
   "source": [
    "import smtplib\n",
    "from email.mime.text import MIMEText\n",
    "from email.header import Header\n",
    "subject = '生意社商品信息'\n",
    "smtpserver = 'smtp.139.com'\n",
    "username = '13730470137'\n",
    "password = '11223344'\n",
    "msg = MIMEText(d4,'plain','utf-8')\n",
    "msg['Subject'] = Header(subject, 'utf-8')\n",
    "smtp = smtplib.SMTP()\n",
    "smtp.connect('smtp.139.com')\n",
    "smtp.login(username, password)\n",
    "\n",
    "sender = '13730470137@139.com'\n",
    "receiver = '13731239008@139.com'\n",
    "\n",
    "smtp.sendmail(sender, receiver, msg.as_string())\n",
    "smtp.quit()\n"
   ]
  }
 ],
 "metadata": {
  "kernelspec": {
   "display_name": "Python 3",
   "language": "python",
   "name": "python3"
  },
  "language_info": {
   "codemirror_mode": {
    "name": "ipython",
    "version": 3
   },
   "file_extension": ".py",
   "mimetype": "text/x-python",
   "name": "python",
   "nbconvert_exporter": "python",
   "pygments_lexer": "ipython3",
   "version": "3.5.1"
  }
 },
 "nbformat": 4,
 "nbformat_minor": 0
}
