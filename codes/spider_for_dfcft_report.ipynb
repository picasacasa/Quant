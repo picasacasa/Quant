{
 "cells": [
  {
   "cell_type": "code",
   "execution_count": 1,
   "metadata": {
    "collapsed": true
   },
   "outputs": [],
   "source": [
    "from bs4 import BeautifulSoup\n",
    "import requests\n",
    "import urllib"
   ]
  },
  {
   "cell_type": "code",
   "execution_count": 2,
   "metadata": {
    "collapsed": false
   },
   "outputs": [],
   "source": [
    "html_doc = urllib.request.urlopen('http://data.eastmoney.com/report/hyyb.html#dHA9MCZjZz0wJmR0PTImaHk9NDY1JnBhZ2U9MQ==').read()"
   ]
  },
  {
   "cell_type": "code",
   "execution_count": 3,
   "metadata": {
    "collapsed": false
   },
   "outputs": [
    {
     "name": "stderr",
     "output_type": "stream",
     "text": [
      "/home/wangshi/anaconda3/lib/python3.5/site-packages/bs4/__init__.py:166: UserWarning: No parser was explicitly specified, so I'm using the best available HTML parser for this system (\"lxml\"). This usually isn't a problem, but if you run this code on another system, or in a different virtual environment, it may use a different parser and behave differently.\n",
      "\n",
      "To get rid of this warning, change this:\n",
      "\n",
      " BeautifulSoup([your markup])\n",
      "\n",
      "to this:\n",
      "\n",
      " BeautifulSoup([your markup], \"lxml\")\n",
      "\n",
      "  markup_type=markup_type))\n"
     ]
    }
   ],
   "source": [
    "soup = BeautifulSoup(html_doc)"
   ]
  },
  {
   "cell_type": "code",
   "execution_count": 4,
   "metadata": {
    "collapsed": true
   },
   "outputs": [],
   "source": [
    "soup1 = soup.find_all('script')"
   ]
  },
  {
   "cell_type": "code",
   "execution_count": 5,
   "metadata": {
    "collapsed": true
   },
   "outputs": [],
   "source": [
    "soup2 = str(soup1)"
   ]
  },
  {
   "cell_type": "code",
   "execution_count": 6,
   "metadata": {
    "collapsed": false
   },
   "outputs": [],
   "source": [
    "soup3 = soup2.split(':[\"')[1].split('\"]')[0].split('\",\"')"
   ]
  },
  {
   "cell_type": "code",
   "execution_count": 7,
   "metadata": {
    "collapsed": false
   },
   "outputs": [],
   "source": [
    "soup4 = []   "
   ]
  },
  {
   "cell_type": "code",
   "execution_count": 8,
   "metadata": {
    "collapsed": false
   },
   "outputs": [],
   "source": [
    "for i in range(0, len(soup3)-1):\n",
    "    if '医' in soup3[i]:\n",
    "        soup4.append(soup3[i].replace('&sbquo;', '，').split(','))\n",
    "    else:\n",
    "        pass\n",
    "\n"
   ]
  },
  {
   "cell_type": "code",
   "execution_count": 9,
   "metadata": {
    "collapsed": false,
    "scrolled": true
   },
   "outputs": [
    {
     "data": {
      "text/plain": [
       "[['维持',\n",
       "  '2016/7/29 14:30:36',\n",
       "  'APPH4eiURY4aIndustry',\n",
       "  '80114781',\n",
       "  '东兴证券',\n",
       "  '1',\n",
       "  '465',\n",
       "  '持有',\n",
       "  '看好',\n",
       "  '医药行业事件点评：药品注册管理办法修订稿：监管趋严，有&quot;法&quot;可依，关注变化',\n",
       "  '医药制造',\n",
       "  '0.14'],\n",
       " ['无',\n",
       "  '2016/7/29 17:55:42',\n",
       "  'APPH4eiURaFBIndustry',\n",
       "  '80291944',\n",
       "  '广证恒生',\n",
       "  '1',\n",
       "  '465',\n",
       "  '增持',\n",
       "  '谨慎推荐',\n",
       "  '医药生物行业事件点评：组建儿童医学中心，利好儿童大健康医疗',\n",
       "  '医药制造',\n",
       "  '0.14'],\n",
       " ['维持',\n",
       "  '2016/7/29 19:14:53',\n",
       "  'APPH4eiURaFCIndustry',\n",
       "  '80000134',\n",
       "  '华金证券',\n",
       "  '1',\n",
       "  '465',\n",
       "  '中性',\n",
       "  '同步大市',\n",
       "  '医药行业月度报告：HPV疫苗获批利好HPV疫苗与检测企业，华兰生物提价促公司业绩提升',\n",
       "  '医药制造',\n",
       "  '0.14']]"
      ]
     },
     "execution_count": 9,
     "metadata": {},
     "output_type": "execute_result"
    }
   ],
   "source": [
    "soup4"
   ]
  },
  {
   "cell_type": "code",
   "execution_count": 10,
   "metadata": {
    "collapsed": true
   },
   "outputs": [],
   "source": [
    "import pandas as pd"
   ]
  },
  {
   "cell_type": "code",
   "execution_count": 11,
   "metadata": {
    "collapsed": true
   },
   "outputs": [],
   "source": [
    "dataf = pd.DataFrame(soup4,)"
   ]
  },
  {
   "cell_type": "code",
   "execution_count": 12,
   "metadata": {
    "collapsed": false
   },
   "outputs": [
    {
     "data": {
      "text/html": [
       "<div>\n",
       "<table border=\"1\" class=\"dataframe\">\n",
       "  <thead>\n",
       "    <tr style=\"text-align: right;\">\n",
       "      <th></th>\n",
       "      <th>0</th>\n",
       "      <th>1</th>\n",
       "      <th>2</th>\n",
       "      <th>3</th>\n",
       "      <th>4</th>\n",
       "      <th>5</th>\n",
       "      <th>6</th>\n",
       "      <th>7</th>\n",
       "      <th>8</th>\n",
       "      <th>9</th>\n",
       "      <th>10</th>\n",
       "      <th>11</th>\n",
       "    </tr>\n",
       "  </thead>\n",
       "  <tbody>\n",
       "    <tr>\n",
       "      <th>0</th>\n",
       "      <td>维持</td>\n",
       "      <td>2016/7/29 14:30:36</td>\n",
       "      <td>APPH4eiURY4aIndustry</td>\n",
       "      <td>80114781</td>\n",
       "      <td>东兴证券</td>\n",
       "      <td>1</td>\n",
       "      <td>465</td>\n",
       "      <td>持有</td>\n",
       "      <td>看好</td>\n",
       "      <td>医药行业事件点评：药品注册管理办法修订稿：监管趋严，有&amp;quot;法&amp;quot;可依，关注变化</td>\n",
       "      <td>医药制造</td>\n",
       "      <td>0.14</td>\n",
       "    </tr>\n",
       "    <tr>\n",
       "      <th>1</th>\n",
       "      <td>无</td>\n",
       "      <td>2016/7/29 17:55:42</td>\n",
       "      <td>APPH4eiURaFBIndustry</td>\n",
       "      <td>80291944</td>\n",
       "      <td>广证恒生</td>\n",
       "      <td>1</td>\n",
       "      <td>465</td>\n",
       "      <td>增持</td>\n",
       "      <td>谨慎推荐</td>\n",
       "      <td>医药生物行业事件点评：组建儿童医学中心，利好儿童大健康医疗</td>\n",
       "      <td>医药制造</td>\n",
       "      <td>0.14</td>\n",
       "    </tr>\n",
       "    <tr>\n",
       "      <th>2</th>\n",
       "      <td>维持</td>\n",
       "      <td>2016/7/29 19:14:53</td>\n",
       "      <td>APPH4eiURaFCIndustry</td>\n",
       "      <td>80000134</td>\n",
       "      <td>华金证券</td>\n",
       "      <td>1</td>\n",
       "      <td>465</td>\n",
       "      <td>中性</td>\n",
       "      <td>同步大市</td>\n",
       "      <td>医药行业月度报告：HPV疫苗获批利好HPV疫苗与检测企业，华兰生物提价促公司业绩提升</td>\n",
       "      <td>医药制造</td>\n",
       "      <td>0.14</td>\n",
       "    </tr>\n",
       "  </tbody>\n",
       "</table>\n",
       "</div>"
      ],
      "text/plain": [
       "   0                   1                     2         3     4  5    6   7   \\\n",
       "0  维持  2016/7/29 14:30:36  APPH4eiURY4aIndustry  80114781  东兴证券  1  465  持有   \n",
       "1   无  2016/7/29 17:55:42  APPH4eiURaFBIndustry  80291944  广证恒生  1  465  增持   \n",
       "2  维持  2016/7/29 19:14:53  APPH4eiURaFCIndustry  80000134  华金证券  1  465  中性   \n",
       "\n",
       "     8                                                9     10    11  \n",
       "0    看好  医药行业事件点评：药品注册管理办法修订稿：监管趋严，有&quot;法&quot;可依，关注变化  医药制造  0.14  \n",
       "1  谨慎推荐                    医药生物行业事件点评：组建儿童医学中心，利好儿童大健康医疗  医药制造  0.14  \n",
       "2  同步大市       医药行业月度报告：HPV疫苗获批利好HPV疫苗与检测企业，华兰生物提价促公司业绩提升  医药制造  0.14  "
      ]
     },
     "execution_count": 12,
     "metadata": {},
     "output_type": "execute_result"
    }
   ],
   "source": [
    "dataf"
   ]
  },
  {
   "cell_type": "code",
   "execution_count": null,
   "metadata": {
    "collapsed": true
   },
   "outputs": [],
   "source": []
  }
 ],
 "metadata": {
  "kernelspec": {
   "display_name": "Python 3",
   "language": "python",
   "name": "python3"
  },
  "language_info": {
   "codemirror_mode": {
    "name": "ipython",
    "version": 3
   },
   "file_extension": ".py",
   "mimetype": "text/x-python",
   "name": "python",
   "nbconvert_exporter": "python",
   "pygments_lexer": "ipython3",
   "version": "3.5.1"
  }
 },
 "nbformat": 4,
 "nbformat_minor": 0
}
